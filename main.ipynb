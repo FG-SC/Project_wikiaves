{
 "cells": [
  {
   "cell_type": "code",
   "execution_count": 52,
   "id": "ba57f4c0",
   "metadata": {},
   "outputs": [],
   "source": [
    "import requests\n",
    "import json\n",
    "import pandas as pd\n",
    "import time\n",
    "import os\n",
    "\n",
    "def get_data(num_pages = 1000):\n",
    "\n",
    "    headers = {\n",
    "        'Accept': 'application/json, text/javascript, */*; q=0.01',\n",
    "        'Accept-Language': 'en-US,en;q=0.7',\n",
    "        'Connection': 'keep-alive',\n",
    "        # 'Cookie': 'PHPSESSID=iacrr05f5p9j6lased87bm7vkf; WIKILANG=pt-br',\n",
    "        'Referer': 'https://www.wikiaves.com.br/midias.php?t=mp',\n",
    "        'Sec-Fetch-Dest': 'empty',\n",
    "        'Sec-Fetch-Mode': 'cors',\n",
    "        'Sec-Fetch-Site': 'same-origin',\n",
    "        'Sec-GPC': '1',\n",
    "        'User-Agent': 'Mozilla/5.0 (Windows NT 10.0; Win64; x64) AppleWebKit/537.36 (KHTML, like Gecko) Chrome/127.0.0.0 Safari/537.36',\n",
    "        'X-Requested-With': 'XMLHttpRequest',\n",
    "        'sec-ch-ua': '\"Not)A;Brand\";v=\"99\", \"Brave\";v=\"127\", \"Chromium\";v=\"127\"',\n",
    "        'sec-ch-ua-mobile': '?0',\n",
    "        'sec-ch-ua-platform': '\"Windows\"',\n",
    "    }\n",
    "    main_df = pd.DataFrame()\n",
    "    for i in range(1,num_pages):\n",
    "        print(i)\n",
    "        params = {\n",
    "            't': 'mp',\n",
    "            'o': '',\n",
    "            'p': f'{i}',\n",
    "        }\n",
    "\n",
    "        response = requests.get('https://www.wikiaves.com.br/getRegistrosJSON.php', params=params, #cookies=cookies, \n",
    "                                headers=headers)\n",
    "\n",
    "        df = pd.DataFrame(json.loads(response.content)['registros']['itens']).T.reset_index(drop=True)\n",
    "\n",
    "        #df_clean = pd.merge(df,pd.json_normalize(df['sp']), left_index=True, right_index=True).drop(columns={'sp'})\n",
    "        main_df = pd.concat([main_df, df])\n",
    "        time.sleep(1)\n",
    "    return main_df.reset_index(drop=True)\n",
    "\n",
    "\n"
   ]
  },
  {
   "cell_type": "code",
   "execution_count": 53,
   "id": "7bf1dc5f",
   "metadata": {},
   "outputs": [
    {
     "name": "stdout",
     "output_type": "stream",
     "text": [
      "1\n",
      "2\n",
      "3\n",
      "4\n",
      "5\n",
      "6\n",
      "7\n",
      "8\n",
      "9\n"
     ]
    }
   ],
   "source": [
    "df_ = get_data(num_pages=10)"
   ]
  },
  {
   "cell_type": "code",
   "execution_count": 54,
   "id": "72c5b227",
   "metadata": {},
   "outputs": [
    {
     "data": {
      "text/html": [
       "<div>\n",
       "<style scoped>\n",
       "    .dataframe tbody tr th:only-of-type {\n",
       "        vertical-align: middle;\n",
       "    }\n",
       "\n",
       "    .dataframe tbody tr th {\n",
       "        vertical-align: top;\n",
       "    }\n",
       "\n",
       "    .dataframe thead th {\n",
       "        text-align: right;\n",
       "    }\n",
       "</style>\n",
       "<table border=\"1\" class=\"dataframe\">\n",
       "  <thead>\n",
       "    <tr style=\"text-align: right;\">\n",
       "      <th></th>\n",
       "      <th>id_x</th>\n",
       "      <th>tipo</th>\n",
       "      <th>id_usuario</th>\n",
       "      <th>autor</th>\n",
       "      <th>por</th>\n",
       "      <th>perfil</th>\n",
       "      <th>data</th>\n",
       "      <th>is_questionada</th>\n",
       "      <th>local</th>\n",
       "      <th>idMunicipio</th>\n",
       "      <th>coms</th>\n",
       "      <th>likes</th>\n",
       "      <th>vis</th>\n",
       "      <th>grande</th>\n",
       "      <th>enviado</th>\n",
       "      <th>link</th>\n",
       "      <th>id_y</th>\n",
       "      <th>nome</th>\n",
       "      <th>nvt</th>\n",
       "      <th>idwiki</th>\n",
       "    </tr>\n",
       "  </thead>\n",
       "  <tbody>\n",
       "    <tr>\n",
       "      <th>0</th>\n",
       "      <td>673062</td>\n",
       "      <td>F</td>\n",
       "      <td></td>\n",
       "      <td>Pablo Souza 2</td>\n",
       "      <td>Por</td>\n",
       "      <td>PabloLimeira</td>\n",
       "      <td>26/06/2012</td>\n",
       "      <td>False</td>\n",
       "      <td>Pedra Grande/RN</td>\n",
       "      <td>2409506</td>\n",
       "      <td>446</td>\n",
       "      <td>1261</td>\n",
       "      <td>102666</td>\n",
       "      <td>T</td>\n",
       "      <td>0 minutos</td>\n",
       "      <td>https://s3.amazonaws.com/media.wikiaves.com.br...</td>\n",
       "      <td>10228</td>\n",
       "      <td>Rupornis magnirostris</td>\n",
       "      <td>gavião-carijó</td>\n",
       "      <td>gaviao-carijo</td>\n",
       "    </tr>\n",
       "    <tr>\n",
       "      <th>1</th>\n",
       "      <td>467215</td>\n",
       "      <td>F</td>\n",
       "      <td></td>\n",
       "      <td>Roberto Gallacci</td>\n",
       "      <td>Por</td>\n",
       "      <td>RGallacci</td>\n",
       "      <td>11/10/2011</td>\n",
       "      <td>False</td>\n",
       "      <td>Jundiaí/SP</td>\n",
       "      <td>3525904</td>\n",
       "      <td>460</td>\n",
       "      <td>1084</td>\n",
       "      <td>51468</td>\n",
       "      <td>T</td>\n",
       "      <td>0 minutos</td>\n",
       "      <td>https://s3.amazonaws.com/media.wikiaves.com.br...</td>\n",
       "      <td>10513</td>\n",
       "      <td>Megascops choliba</td>\n",
       "      <td>corujinha-do-mato</td>\n",
       "      <td>corujinha-do-mato</td>\n",
       "    </tr>\n",
       "    <tr>\n",
       "      <th>2</th>\n",
       "      <td>822302</td>\n",
       "      <td>F</td>\n",
       "      <td></td>\n",
       "      <td>Ciro Albano</td>\n",
       "      <td>Por</td>\n",
       "      <td>ciroalbano</td>\n",
       "      <td>03/12/2012</td>\n",
       "      <td>False</td>\n",
       "      <td>Vargem Alta/ES</td>\n",
       "      <td>3205036</td>\n",
       "      <td>399</td>\n",
       "      <td>1001</td>\n",
       "      <td>67527</td>\n",
       "      <td>T</td>\n",
       "      <td>0 minutos</td>\n",
       "      <td>https://s3.amazonaws.com/media.wikiaves.com.br...</td>\n",
       "      <td>11553</td>\n",
       "      <td>Nemosia rourei</td>\n",
       "      <td>saíra-apunhalada</td>\n",
       "      <td>saira-apunhalada</td>\n",
       "    </tr>\n",
       "    <tr>\n",
       "      <th>3</th>\n",
       "      <td>1409507</td>\n",
       "      <td>F</td>\n",
       "      <td></td>\n",
       "      <td>Marcos Amend</td>\n",
       "      <td>Por</td>\n",
       "      <td>marcosamend</td>\n",
       "      <td>15/07/2014</td>\n",
       "      <td>False</td>\n",
       "      <td>São Roque de Minas/MG</td>\n",
       "      <td>3164308</td>\n",
       "      <td>342</td>\n",
       "      <td>990</td>\n",
       "      <td>64442</td>\n",
       "      <td>F</td>\n",
       "      <td>0 minutos</td>\n",
       "      <td>https://s3.amazonaws.com/media.wikiaves.com.br...</td>\n",
       "      <td>10024</td>\n",
       "      <td>Taoniscus nanus</td>\n",
       "      <td>codorna-carapé</td>\n",
       "      <td>codorna-carape</td>\n",
       "    </tr>\n",
       "    <tr>\n",
       "      <th>4</th>\n",
       "      <td>380512</td>\n",
       "      <td>F</td>\n",
       "      <td></td>\n",
       "      <td>Sergio Gregorio</td>\n",
       "      <td>Por</td>\n",
       "      <td>sergiogregorio</td>\n",
       "      <td>27/06/2011</td>\n",
       "      <td>False</td>\n",
       "      <td>Campo do Tenente/PR</td>\n",
       "      <td>4104105</td>\n",
       "      <td>300</td>\n",
       "      <td>936</td>\n",
       "      <td>54413</td>\n",
       "      <td>T</td>\n",
       "      <td>0 minutos</td>\n",
       "      <td>https://s3.amazonaws.com/media.wikiaves.com.br...</td>\n",
       "      <td>11581</td>\n",
       "      <td>Thraupis sayaca</td>\n",
       "      <td>sanhaço-cinzento</td>\n",
       "      <td>sanhaco-cinzento</td>\n",
       "    </tr>\n",
       "    <tr>\n",
       "      <th>...</th>\n",
       "      <td>...</td>\n",
       "      <td>...</td>\n",
       "      <td>...</td>\n",
       "      <td>...</td>\n",
       "      <td>...</td>\n",
       "      <td>...</td>\n",
       "      <td>...</td>\n",
       "      <td>...</td>\n",
       "      <td>...</td>\n",
       "      <td>...</td>\n",
       "      <td>...</td>\n",
       "      <td>...</td>\n",
       "      <td>...</td>\n",
       "      <td>...</td>\n",
       "      <td>...</td>\n",
       "      <td>...</td>\n",
       "      <td>...</td>\n",
       "      <td>...</td>\n",
       "      <td>...</td>\n",
       "      <td>...</td>\n",
       "    </tr>\n",
       "    <tr>\n",
       "      <th>175</th>\n",
       "      <td>78610</td>\n",
       "      <td>F</td>\n",
       "      <td></td>\n",
       "      <td>Geraldo Hofmann</td>\n",
       "      <td>Por</td>\n",
       "      <td>GerFer</td>\n",
       "      <td>02/05/2007</td>\n",
       "      <td>False</td>\n",
       "      <td>FORA DO BRASIL/EX</td>\n",
       "      <td>0</td>\n",
       "      <td>109</td>\n",
       "      <td>247</td>\n",
       "      <td>15513</td>\n",
       "      <td>T</td>\n",
       "      <td>0 minutos</td>\n",
       "      <td>https://s3.amazonaws.com/media.wikiaves.com.br...</td>\n",
       "      <td>11722</td>\n",
       "      <td>Setophaga fusca</td>\n",
       "      <td>mariquita-papo-de-fogo</td>\n",
       "      <td>mariquita-papo-de-fogo</td>\n",
       "    </tr>\n",
       "    <tr>\n",
       "      <th>176</th>\n",
       "      <td>830684</td>\n",
       "      <td>F</td>\n",
       "      <td></td>\n",
       "      <td>Gina Bellagamba</td>\n",
       "      <td>Por</td>\n",
       "      <td>Gina</td>\n",
       "      <td>13/12/2012</td>\n",
       "      <td>False</td>\n",
       "      <td>Uruguaiana/RS</td>\n",
       "      <td>4322400</td>\n",
       "      <td>131</td>\n",
       "      <td>246</td>\n",
       "      <td>13675</td>\n",
       "      <td>T</td>\n",
       "      <td>0 minutos</td>\n",
       "      <td>https://s3.amazonaws.com/media.wikiaves.com.br...</td>\n",
       "      <td>10522</td>\n",
       "      <td>Bubo virginianus</td>\n",
       "      <td>jacurutu</td>\n",
       "      <td>jacurutu</td>\n",
       "    </tr>\n",
       "    <tr>\n",
       "      <th>177</th>\n",
       "      <td>789575</td>\n",
       "      <td>F</td>\n",
       "      <td></td>\n",
       "      <td>Haroldo Londero</td>\n",
       "      <td>Por</td>\n",
       "      <td>londero</td>\n",
       "      <td>31/10/2012</td>\n",
       "      <td>False</td>\n",
       "      <td>Itabira/MG</td>\n",
       "      <td>3131703</td>\n",
       "      <td>126</td>\n",
       "      <td>246</td>\n",
       "      <td>14308</td>\n",
       "      <td>T</td>\n",
       "      <td>0 minutos</td>\n",
       "      <td>https://s3.amazonaws.com/media.wikiaves.com.br...</td>\n",
       "      <td>10212</td>\n",
       "      <td>Accipiter bicolor</td>\n",
       "      <td>gavião-bombachinha-grande</td>\n",
       "      <td>gaviao-bombachinha-grande</td>\n",
       "    </tr>\n",
       "    <tr>\n",
       "      <th>178</th>\n",
       "      <td>598866</td>\n",
       "      <td>F</td>\n",
       "      <td></td>\n",
       "      <td>Daniel Gil</td>\n",
       "      <td>Por</td>\n",
       "      <td>3009</td>\n",
       "      <td>18/03/2012</td>\n",
       "      <td>False</td>\n",
       "      <td>FORA DO BRASIL/EX</td>\n",
       "      <td>0</td>\n",
       "      <td>150</td>\n",
       "      <td>246</td>\n",
       "      <td>21843</td>\n",
       "      <td>T</td>\n",
       "      <td>0 minutos</td>\n",
       "      <td>https://s3.amazonaws.com/media.wikiaves.com.br...</td>\n",
       "      <td>10261</td>\n",
       "      <td>Falco femoralis</td>\n",
       "      <td>falcão-de-coleira</td>\n",
       "      <td>falcao-de-coleira</td>\n",
       "    </tr>\n",
       "    <tr>\n",
       "      <th>179</th>\n",
       "      <td>206560</td>\n",
       "      <td>F</td>\n",
       "      <td></td>\n",
       "      <td>Ciro Albano</td>\n",
       "      <td>Por</td>\n",
       "      <td>ciroalbano</td>\n",
       "      <td>22/09/2010</td>\n",
       "      <td>False</td>\n",
       "      <td>Lençóis/BA</td>\n",
       "      <td>2919306</td>\n",
       "      <td>120</td>\n",
       "      <td>246</td>\n",
       "      <td>17624</td>\n",
       "      <td>F</td>\n",
       "      <td>0 minutos</td>\n",
       "      <td>https://s3.amazonaws.com/media.wikiaves.com.br...</td>\n",
       "      <td>10658</td>\n",
       "      <td>Augastes lumachella</td>\n",
       "      <td>beija-flor-de-gravata-vermelha</td>\n",
       "      <td>beija-flor-de-gravata-vermelha</td>\n",
       "    </tr>\n",
       "  </tbody>\n",
       "</table>\n",
       "<p>180 rows × 20 columns</p>\n",
       "</div>"
      ],
      "text/plain": [
       "        id_x tipo id_usuario             autor  por          perfil  \\\n",
       "0     673062    F                Pablo Souza 2  Por    PabloLimeira   \n",
       "1     467215    F             Roberto Gallacci  Por       RGallacci   \n",
       "2     822302    F                  Ciro Albano  Por      ciroalbano   \n",
       "3    1409507    F                 Marcos Amend  Por     marcosamend   \n",
       "4     380512    F              Sergio Gregorio  Por  sergiogregorio   \n",
       "..       ...  ...        ...               ...  ...             ...   \n",
       "175    78610    F              Geraldo Hofmann  Por          GerFer   \n",
       "176   830684    F              Gina Bellagamba  Por            Gina   \n",
       "177   789575    F              Haroldo Londero  Por         londero   \n",
       "178   598866    F                   Daniel Gil  Por            3009   \n",
       "179   206560    F                  Ciro Albano  Por      ciroalbano   \n",
       "\n",
       "           data is_questionada                  local idMunicipio coms likes  \\\n",
       "0    26/06/2012          False        Pedra Grande/RN     2409506  446  1261   \n",
       "1    11/10/2011          False             Jundiaí/SP     3525904  460  1084   \n",
       "2    03/12/2012          False         Vargem Alta/ES     3205036  399  1001   \n",
       "3    15/07/2014          False  São Roque de Minas/MG     3164308  342   990   \n",
       "4    27/06/2011          False    Campo do Tenente/PR     4104105  300   936   \n",
       "..          ...            ...                    ...         ...  ...   ...   \n",
       "175  02/05/2007          False      FORA DO BRASIL/EX           0  109   247   \n",
       "176  13/12/2012          False          Uruguaiana/RS     4322400  131   246   \n",
       "177  31/10/2012          False             Itabira/MG     3131703  126   246   \n",
       "178  18/03/2012          False      FORA DO BRASIL/EX           0  150   246   \n",
       "179  22/09/2010          False             Lençóis/BA     2919306  120   246   \n",
       "\n",
       "        vis grande    enviado  \\\n",
       "0    102666      T  0 minutos   \n",
       "1     51468      T  0 minutos   \n",
       "2     67527      T  0 minutos   \n",
       "3     64442      F  0 minutos   \n",
       "4     54413      T  0 minutos   \n",
       "..      ...    ...        ...   \n",
       "175   15513      T  0 minutos   \n",
       "176   13675      T  0 minutos   \n",
       "177   14308      T  0 minutos   \n",
       "178   21843      T  0 minutos   \n",
       "179   17624      F  0 minutos   \n",
       "\n",
       "                                                  link   id_y  \\\n",
       "0    https://s3.amazonaws.com/media.wikiaves.com.br...  10228   \n",
       "1    https://s3.amazonaws.com/media.wikiaves.com.br...  10513   \n",
       "2    https://s3.amazonaws.com/media.wikiaves.com.br...  11553   \n",
       "3    https://s3.amazonaws.com/media.wikiaves.com.br...  10024   \n",
       "4    https://s3.amazonaws.com/media.wikiaves.com.br...  11581   \n",
       "..                                                 ...    ...   \n",
       "175  https://s3.amazonaws.com/media.wikiaves.com.br...  11722   \n",
       "176  https://s3.amazonaws.com/media.wikiaves.com.br...  10522   \n",
       "177  https://s3.amazonaws.com/media.wikiaves.com.br...  10212   \n",
       "178  https://s3.amazonaws.com/media.wikiaves.com.br...  10261   \n",
       "179  https://s3.amazonaws.com/media.wikiaves.com.br...  10658   \n",
       "\n",
       "                      nome                             nvt  \\\n",
       "0    Rupornis magnirostris                   gavião-carijó   \n",
       "1        Megascops choliba               corujinha-do-mato   \n",
       "2           Nemosia rourei                saíra-apunhalada   \n",
       "3          Taoniscus nanus                  codorna-carapé   \n",
       "4          Thraupis sayaca                sanhaço-cinzento   \n",
       "..                     ...                             ...   \n",
       "175        Setophaga fusca          mariquita-papo-de-fogo   \n",
       "176       Bubo virginianus                        jacurutu   \n",
       "177      Accipiter bicolor       gavião-bombachinha-grande   \n",
       "178        Falco femoralis               falcão-de-coleira   \n",
       "179    Augastes lumachella  beija-flor-de-gravata-vermelha   \n",
       "\n",
       "                             idwiki  \n",
       "0                     gaviao-carijo  \n",
       "1                 corujinha-do-mato  \n",
       "2                  saira-apunhalada  \n",
       "3                    codorna-carape  \n",
       "4                  sanhaco-cinzento  \n",
       "..                              ...  \n",
       "175          mariquita-papo-de-fogo  \n",
       "176                        jacurutu  \n",
       "177       gaviao-bombachinha-grande  \n",
       "178               falcao-de-coleira  \n",
       "179  beija-flor-de-gravata-vermelha  \n",
       "\n",
       "[180 rows x 20 columns]"
      ]
     },
     "execution_count": 54,
     "metadata": {},
     "output_type": "execute_result"
    }
   ],
   "source": [
    "df_clean = pd.merge(df_,pd.json_normalize(df_['sp']), left_index=True, right_index=True).drop(columns={'sp'})\n",
    "df_clean"
   ]
  },
  {
   "cell_type": "code",
   "execution_count": 55,
   "id": "94076c44",
   "metadata": {},
   "outputs": [],
   "source": [
    "df_clean.rename(columns={'id_y': 'id_species'}, inplace=True)"
   ]
  },
  {
   "cell_type": "code",
   "execution_count": 5,
   "id": "a59f152c",
   "metadata": {},
   "outputs": [
    {
     "name": "stdout",
     "output_type": "stream",
     "text": [
      "Folder created: images_folders\\urutau_images\n",
      "Folder created: images_folders\\gaviao-real_images\n",
      "Folder created: images_folders\\coruja-buraqueira_images\n"
     ]
    }
   ],
   "source": [
    "# Create the parent folder for images\n",
    "parent_folder = 'images_folders'\n",
    "os.makedirs(parent_folder, exist_ok=True)\n",
    "\n",
    "# Get unique bird species\n",
    "unique_birds = list(df_clean['idwiki'].value_counts().head(3).index)\n",
    "\n",
    "# Create a folder for each unique bird species\n",
    "for bird in unique_birds:\n",
    "    folder_name = f\"{bird}_images\"\n",
    "    folder_path = os.path.join(parent_folder, folder_name)\n",
    "    os.makedirs(folder_path, exist_ok=True)\n",
    "    print(f\"Folder created: {folder_path}\")"
   ]
  },
  {
   "cell_type": "code",
   "execution_count": 56,
   "id": "473405a3",
   "metadata": {},
   "outputs": [],
   "source": [
    "def get_species_pics(species_id = 10228, num_pages = 10, offset = int):\n",
    "\n",
    "    headers = {\n",
    "        'Accept': 'application/json, text/javascript, */*; q=0.01',\n",
    "        'Accept-Language': 'en-US,en;q=0.7',\n",
    "        'Connection': 'keep-alive',\n",
    "        # 'Cookie': 'WIKILANG=pt-br; PHPSESSID=knrhielbs7sg07m9ofoamiul4j',\n",
    "        'Referer': 'https://www.wikiaves.com.br/midias.php?tm=f&t=s&s=10228',\n",
    "        'Sec-Fetch-Dest': 'empty',\n",
    "        'Sec-Fetch-Mode': 'cors',\n",
    "        'Sec-Fetch-Site': 'same-origin',\n",
    "        'Sec-GPC': '1',\n",
    "        'User-Agent': 'Mozilla/5.0 (Windows NT 10.0; Win64; x64) AppleWebKit/537.36 (KHTML, like Gecko) Chrome/127.0.0.0 Safari/537.36',\n",
    "        'X-Requested-With': 'XMLHttpRequest',\n",
    "        'sec-ch-ua': '\"Not)A;Brand\";v=\"99\", \"Brave\";v=\"127\", \"Chromium\";v=\"127\"',\n",
    "        'sec-ch-ua-mobile': '?0',\n",
    "        'sec-ch-ua-platform': '\"Windows\"',\n",
    "    }\n",
    "    main_df = pd.DataFrame()\n",
    "    for i in range(1 + offset,num_pages+1 +  offset):\n",
    "        print(i)\n",
    "        params = {\n",
    "            'tm': 'f',\n",
    "            't': 's',\n",
    "            's': f'{species_id}',\n",
    "            'o': [\n",
    "                'mp',\n",
    "                'mp',\n",
    "            ],\n",
    "            'p': f'{i}',\n",
    "        }\n",
    "\n",
    "        response = requests.get('https://www.wikiaves.com.br/getRegistrosJSON.php', params=params) #,cookies=cookies, headers=headers)\n",
    "        \n",
    "        df = pd.DataFrame(json.loads(response.content)['registros']['itens']).T.reset_index(drop=True)\n",
    "\n",
    "        #df_clean = pd.merge(df,pd.json_normalize(df['sp']), left_index=True, right_index=True).drop(columns={'sp'})\n",
    "        main_df = pd.concat([main_df, df])\n",
    "        time.sleep(1)\n",
    "    return main_df.reset_index(drop=True)"
   ]
  },
  {
   "cell_type": "code",
   "execution_count": 57,
   "id": "f65601fc",
   "metadata": {},
   "outputs": [],
   "source": [
    "species_ids = df_clean[df_clean['idwiki'].isin(df_clean['idwiki'].value_counts().head(3).index)][['idwiki','id_species']].drop_duplicates().reset_index(drop=True)"
   ]
  },
  {
   "cell_type": "code",
   "execution_count": 58,
   "id": "d8df098b",
   "metadata": {},
   "outputs": [
    {
     "name": "stdout",
     "output_type": "stream",
     "text": [
      "10538\n",
      "4\n",
      "5\n",
      "6\n",
      "Trying original URL: https://s3.amazonaws.com/media.wikiaves.com.br/images/2923/3292745#_9ed3513dbfe1a58cb969370743676c34.jpg\n",
      "Trying modified URL (replace '#' with 'g'): https://s3.amazonaws.com/media.wikiaves.com.br/images/2923/3292745g_9ed3513dbfe1a58cb969370743676c34.jpg\n",
      "Remaining 60 rows: https://www.wikiaves.com.br/urutau&t=mp&o=\n",
      "Image successfully downloaded!\n",
      "Trying original URL: https://s3.amazonaws.com/media.wikiaves.com.br/images/7132/2317769#_2159013a6c4061b337517c26c31a43d3.jpg\n",
      "Trying modified URL (replace '#' with 'g'): https://s3.amazonaws.com/media.wikiaves.com.br/images/7132/2317769g_2159013a6c4061b337517c26c31a43d3.jpg\n",
      "Remaining 59 rows: https://www.wikiaves.com.br/urutau&t=mp&o=\n",
      "Image successfully downloaded!\n",
      "Trying original URL: https://s3.amazonaws.com/media.wikiaves.com.br/images/3681/1863660#_385e89eb2f6bc6bfa2b07bd631780d83.jpg\n",
      "Trying modified URL (replace '#' with 'g'): https://s3.amazonaws.com/media.wikiaves.com.br/images/3681/1863660g_385e89eb2f6bc6bfa2b07bd631780d83.jpg\n",
      "Remaining 58 rows: https://www.wikiaves.com.br/urutau&t=mp&o=\n",
      "Image successfully downloaded!\n",
      "Trying original URL: https://s3.amazonaws.com/media.wikiaves.com.br/images/645/546989#_d4ae41001d131ab127df10cea4c196c2.jpg\n",
      "Trying modified URL (replace '#' with 'g'): https://s3.amazonaws.com/media.wikiaves.com.br/images/645/546989g_d4ae41001d131ab127df10cea4c196c2.jpg\n",
      "Remaining 57 rows: https://www.wikiaves.com.br/urutau&t=mp&o=\n",
      "Image successfully downloaded!\n",
      "Trying original URL: https://s3.amazonaws.com/media.wikiaves.com.br/images/3033/3303633#_f9620cc94eb31dfde5ae11a846e20a75.jpg\n",
      "Trying modified URL (replace '#' with 'g'): https://s3.amazonaws.com/media.wikiaves.com.br/images/3033/3303633g_f9620cc94eb31dfde5ae11a846e20a75.jpg\n",
      "Remaining 56 rows: https://www.wikiaves.com.br/urutau&t=mp&o=\n",
      "Image successfully downloaded!\n",
      "Trying original URL: https://s3.amazonaws.com/media.wikiaves.com.br/images/573/375986#_e120ecdb07dc368748cc36a916f29c55.jpg\n",
      "Trying modified URL (replace '#' with 'g'): https://s3.amazonaws.com/media.wikiaves.com.br/images/573/375986g_e120ecdb07dc368748cc36a916f29c55.jpg\n",
      "Remaining 55 rows: https://www.wikiaves.com.br/urutau&t=mp&o=\n",
      "Image successfully downloaded!\n",
      "Trying original URL: https://s3.amazonaws.com/media.wikiaves.com.br/images/33/33054#_f1c53d0d66649dc13dd8300f8b7e38f4.jpg\n",
      "Trying modified URL (replace '#' with 'g'): https://s3.amazonaws.com/media.wikiaves.com.br/images/33/33054g_f1c53d0d66649dc13dd8300f8b7e38f4.jpg\n",
      "Trying modified URL (replace '#' with ''): https://s3.amazonaws.com/media.wikiaves.com.br/images/33/33054_f1c53d0d66649dc13dd8300f8b7e38f4.jpg\n",
      "Remaining 54 rows: https://www.wikiaves.com.br/urutau&t=mp&o=\n",
      "Image successfully downloaded!\n",
      "Trying original URL: https://s3.amazonaws.com/media.wikiaves.com.br/images/408/804966#_46e4654198b498bda614307f27d5f519.jpg\n",
      "Trying modified URL (replace '#' with 'g'): https://s3.amazonaws.com/media.wikiaves.com.br/images/408/804966g_46e4654198b498bda614307f27d5f519.jpg\n",
      "Remaining 53 rows: https://www.wikiaves.com.br/urutau&t=mp&o=\n",
      "Image successfully downloaded!\n",
      "Trying original URL: https://s3.amazonaws.com/media.wikiaves.com.br/images/168/861351#_ced0369a4779dd3ad167f3ae08092ebc.jpg\n",
      "Trying modified URL (replace '#' with 'g'): https://s3.amazonaws.com/media.wikiaves.com.br/images/168/861351g_ced0369a4779dd3ad167f3ae08092ebc.jpg\n",
      "Remaining 52 rows: https://www.wikiaves.com.br/urutau&t=mp&o=\n",
      "Image successfully downloaded!\n",
      "Trying original URL: https://s3.amazonaws.com/media.wikiaves.com.br/images/4901/1094532#_2ecc5a6d7d078c5969a09a3c2fa4bf61.jpg\n",
      "Trying modified URL (replace '#' with 'g'): https://s3.amazonaws.com/media.wikiaves.com.br/images/4901/1094532g_2ecc5a6d7d078c5969a09a3c2fa4bf61.jpg\n",
      "Remaining 51 rows: https://www.wikiaves.com.br/urutau&t=mp&o=\n",
      "Image successfully downloaded!\n",
      "Trying original URL: https://s3.amazonaws.com/media.wikiaves.com.br/images/7751/1577437#_e70528b1a36ec7f7d4d21ea17f701dee.jpg\n",
      "Trying modified URL (replace '#' with 'g'): https://s3.amazonaws.com/media.wikiaves.com.br/images/7751/1577437g_e70528b1a36ec7f7d4d21ea17f701dee.jpg\n",
      "Remaining 50 rows: https://www.wikiaves.com.br/urutau&t=mp&o=\n",
      "Image successfully downloaded!\n",
      "Trying original URL: https://s3.amazonaws.com/media.wikiaves.com.br/images/9931/1399500#_2a0ae45df2a042549399cfee2a5ebf64.jpg\n",
      "Trying modified URL (replace '#' with 'g'): https://s3.amazonaws.com/media.wikiaves.com.br/images/9931/1399500g_2a0ae45df2a042549399cfee2a5ebf64.jpg\n",
      "Remaining 49 rows: https://www.wikiaves.com.br/urutau&t=mp&o=\n",
      "Image successfully downloaded!\n",
      "Trying original URL: https://s3.amazonaws.com/media.wikiaves.com.br/images/6311/1136738#_4559caeec04587c107437e0ea3a79f19.jpg\n",
      "Trying modified URL (replace '#' with 'g'): https://s3.amazonaws.com/media.wikiaves.com.br/images/6311/1136738g_4559caeec04587c107437e0ea3a79f19.jpg\n",
      "Remaining 48 rows: https://www.wikiaves.com.br/urutau&t=mp&o=\n",
      "Image successfully downloaded!\n",
      "Trying original URL: https://s3.amazonaws.com/media.wikiaves.com.br/images/0311/1130284#_d34210fb26e2f03084976292f57e386b.jpg\n",
      "Trying modified URL (replace '#' with 'g'): https://s3.amazonaws.com/media.wikiaves.com.br/images/0311/1130284g_d34210fb26e2f03084976292f57e386b.jpg\n",
      "Remaining 47 rows: https://www.wikiaves.com.br/urutau&t=mp&o=\n",
      "Image successfully downloaded!\n",
      "Trying original URL: https://s3.amazonaws.com/media.wikiaves.com.br/images/248/842534#_77c1ff2ee9cb8d074da2e9944ba06411.jpg\n",
      "Trying modified URL (replace '#' with 'g'): https://s3.amazonaws.com/media.wikiaves.com.br/images/248/842534g_77c1ff2ee9cb8d074da2e9944ba06411.jpg\n",
      "Remaining 46 rows: https://www.wikiaves.com.br/urutau&t=mp&o=\n",
      "Image successfully downloaded!\n",
      "Trying original URL: https://s3.amazonaws.com/media.wikiaves.com.br/images/323/323312#_fd57fd8f437deff3fcb3dfcd131946c5.jpg\n",
      "Trying modified URL (replace '#' with 'g'): https://s3.amazonaws.com/media.wikiaves.com.br/images/323/323312g_fd57fd8f437deff3fcb3dfcd131946c5.jpg\n",
      "Remaining 45 rows: https://www.wikiaves.com.br/urutau&t=mp&o=\n",
      "Image successfully downloaded!\n",
      "Trying original URL: https://s3.amazonaws.com/media.wikiaves.com.br/images/322/223936#_c77d234eddd62b7821d568529dfeb445.jpg\n",
      "Trying modified URL (replace '#' with 'g'): https://s3.amazonaws.com/media.wikiaves.com.br/images/322/223936g_c77d234eddd62b7821d568529dfeb445.jpg\n",
      "Trying modified URL (replace '#' with ''): https://s3.amazonaws.com/media.wikiaves.com.br/images/322/223936_c77d234eddd62b7821d568529dfeb445.jpg\n",
      "Remaining 44 rows: https://www.wikiaves.com.br/urutau&t=mp&o=\n",
      "Image successfully downloaded!\n",
      "Trying original URL: https://s3.amazonaws.com/media.wikiaves.com.br/images/341/143426#_cf4f3cb3b9339a0020e55fee7a3e517a.jpg\n",
      "Trying modified URL (replace '#' with 'g'): https://s3.amazonaws.com/media.wikiaves.com.br/images/341/143426g_cf4f3cb3b9339a0020e55fee7a3e517a.jpg\n",
      "Remaining 43 rows: https://www.wikiaves.com.br/urutau&t=mp&o=\n",
      "Image successfully downloaded!\n",
      "Trying original URL: https://s3.amazonaws.com/media.wikiaves.com.br/images/439/934164#_ce3bbef0f94bb29a847370e36496d91e.jpg\n",
      "Trying modified URL (replace '#' with 'g'): https://s3.amazonaws.com/media.wikiaves.com.br/images/439/934164g_ce3bbef0f94bb29a847370e36496d91e.jpg\n",
      "Remaining 42 rows: https://www.wikiaves.com.br/urutau&t=mp&o=\n",
      "Image successfully downloaded!\n",
      "Trying original URL: https://s3.amazonaws.com/media.wikiaves.com.br/images/8521/1258546#_bfd6b269f60b0448f02162ddfdc558d0.jpg\n",
      "Trying modified URL (replace '#' with 'g'): https://s3.amazonaws.com/media.wikiaves.com.br/images/8521/1258546g_bfd6b269f60b0448f02162ddfdc558d0.jpg\n",
      "Remaining 41 rows: https://www.wikiaves.com.br/urutau&t=mp&o=\n",
      "Image successfully downloaded!\n",
      "Trying original URL: https://s3.amazonaws.com/media.wikiaves.com.br/images/2311/1132040#_cb2fa95d0188548925b22b64531b1d7f.jpg\n",
      "Trying modified URL (replace '#' with 'g'): https://s3.amazonaws.com/media.wikiaves.com.br/images/2311/1132040g_cb2fa95d0188548925b22b64531b1d7f.jpg\n",
      "Remaining 40 rows: https://www.wikiaves.com.br/urutau&t=mp&o=\n",
      "Image successfully downloaded!\n",
      "Trying original URL: https://s3.amazonaws.com/media.wikiaves.com.br/images/409/904143#_6f2054a9700120bf4abeb27fa0de49e6.jpg\n",
      "Trying modified URL (replace '#' with 'g'): https://s3.amazonaws.com/media.wikiaves.com.br/images/409/904143g_6f2054a9700120bf4abeb27fa0de49e6.jpg\n"
     ]
    },
    {
     "name": "stdout",
     "output_type": "stream",
     "text": [
      "Remaining 39 rows: https://www.wikiaves.com.br/urutau&t=mp&o=\n",
      "Image successfully downloaded!\n",
      "Trying original URL: https://s3.amazonaws.com/media.wikiaves.com.br/images/7742/2477527#_195df66913329187b48cccdb2fbd2f16.jpg\n",
      "Trying modified URL (replace '#' with 'g'): https://s3.amazonaws.com/media.wikiaves.com.br/images/7742/2477527g_195df66913329187b48cccdb2fbd2f16.jpg\n",
      "Remaining 38 rows: https://www.wikiaves.com.br/urutau&t=mp&o=\n",
      "Image successfully downloaded!\n",
      "Trying original URL: https://s3.amazonaws.com/media.wikiaves.com.br/images/988/889557#_0a51cb50fc7a9e745775a6e9605da9e8.jpg\n",
      "Trying modified URL (replace '#' with 'g'): https://s3.amazonaws.com/media.wikiaves.com.br/images/988/889557g_0a51cb50fc7a9e745775a6e9605da9e8.jpg\n",
      "Remaining 37 rows: https://www.wikiaves.com.br/urutau&t=mp&o=\n",
      "Image successfully downloaded!\n",
      "Trying original URL: https://s3.amazonaws.com/media.wikiaves.com.br/images/695/596570#_c76518f4e50036fd81555c27ab2e2370.jpg\n",
      "Trying modified URL (replace '#' with 'g'): https://s3.amazonaws.com/media.wikiaves.com.br/images/695/596570g_c76518f4e50036fd81555c27ab2e2370.jpg\n",
      "Remaining 36 rows: https://www.wikiaves.com.br/urutau&t=mp&o=\n",
      "Image successfully downloaded!\n",
      "Trying original URL: https://s3.amazonaws.com/media.wikiaves.com.br/images/8031/1308541#_338a9e2889c8f107e79898e3ded6dc73.jpg\n",
      "Trying modified URL (replace '#' with 'g'): https://s3.amazonaws.com/media.wikiaves.com.br/images/8031/1308541g_338a9e2889c8f107e79898e3ded6dc73.jpg\n",
      "Remaining 35 rows: https://www.wikiaves.com.br/urutau&t=mp&o=\n",
      "Image successfully downloaded!\n",
      "Trying original URL: https://s3.amazonaws.com/media.wikiaves.com.br/images/3411/1143510#_563175182acb51386550d977a2802098.jpg\n",
      "Trying modified URL (replace '#' with 'g'): https://s3.amazonaws.com/media.wikiaves.com.br/images/3411/1143510g_563175182acb51386550d977a2802098.jpg\n",
      "Remaining 34 rows: https://www.wikiaves.com.br/urutau&t=mp&o=\n",
      "Image successfully downloaded!\n",
      "Trying original URL: https://s3.amazonaws.com/media.wikiaves.com.br/images/2111/1112161#_1291e29275179375b04eb50e2f4582c3.jpg\n",
      "Trying modified URL (replace '#' with 'g'): https://s3.amazonaws.com/media.wikiaves.com.br/images/2111/1112161g_1291e29275179375b04eb50e2f4582c3.jpg\n",
      "Remaining 33 rows: https://www.wikiaves.com.br/urutau&t=mp&o=\n",
      "Image successfully downloaded!\n",
      "Trying original URL: https://s3.amazonaws.com/media.wikiaves.com.br/images/155/551278#_278e0478ed8060be4ae9770e81065238.jpg\n",
      "Trying modified URL (replace '#' with 'g'): https://s3.amazonaws.com/media.wikiaves.com.br/images/155/551278g_278e0478ed8060be4ae9770e81065238.jpg\n",
      "Remaining 32 rows: https://www.wikiaves.com.br/urutau&t=mp&o=\n",
      "Image successfully downloaded!\n",
      "Trying original URL: https://s3.amazonaws.com/media.wikiaves.com.br/images/3632/2363985#_28c58aaa54d5dcda0ea35dd980e16b96.jpg\n",
      "Trying modified URL (replace '#' with 'g'): https://s3.amazonaws.com/media.wikiaves.com.br/images/3632/2363985g_28c58aaa54d5dcda0ea35dd980e16b96.jpg\n",
      "Remaining 31 rows: https://www.wikiaves.com.br/urutau&t=mp&o=\n",
      "Image successfully downloaded!\n",
      "Trying original URL: https://s3.amazonaws.com/media.wikiaves.com.br/images/7741/1477353#_4d1255bfc27f9f6858cf7d9400f988a8.jpg\n",
      "Trying modified URL (replace '#' with 'g'): https://s3.amazonaws.com/media.wikiaves.com.br/images/7741/1477353g_4d1255bfc27f9f6858cf7d9400f988a8.jpg\n",
      "Remaining 30 rows: https://www.wikiaves.com.br/urutau&t=mp&o=\n",
      "Image successfully downloaded!\n",
      "Trying original URL: https://s3.amazonaws.com/media.wikiaves.com.br/images/459/954156#_620144a6d87f6c68a5b2791b6012f9ae.jpg\n",
      "Trying modified URL (replace '#' with 'g'): https://s3.amazonaws.com/media.wikiaves.com.br/images/459/954156g_620144a6d87f6c68a5b2791b6012f9ae.jpg\n",
      "Remaining 29 rows: https://www.wikiaves.com.br/urutau&t=mp&o=\n",
      "Image successfully downloaded!\n",
      "Trying original URL: https://s3.amazonaws.com/media.wikiaves.com.br/images/3435/5343141#_6d0a3ec230b9ae8e1772bb1bb4b44132.jpg\n",
      "Trying modified URL (replace '#' with 'g'): https://s3.amazonaws.com/media.wikiaves.com.br/images/3435/5343141g_6d0a3ec230b9ae8e1772bb1bb4b44132.jpg\n",
      "Remaining 28 rows: https://www.wikiaves.com.br/urutau&t=mp&o=\n",
      "Image successfully downloaded!\n",
      "Trying original URL: https://s3.amazonaws.com/media.wikiaves.com.br/images/767/767603#_5a83c47d7aa123918cde38af3c9f3302.jpg\n",
      "Trying modified URL (replace '#' with 'g'): https://s3.amazonaws.com/media.wikiaves.com.br/images/767/767603g_5a83c47d7aa123918cde38af3c9f3302.jpg\n",
      "Trying modified URL (replace '#' with ''): https://s3.amazonaws.com/media.wikiaves.com.br/images/767/767603_5a83c47d7aa123918cde38af3c9f3302.jpg\n",
      "Remaining 27 rows: https://www.wikiaves.com.br/urutau&t=mp&o=\n",
      "Image successfully downloaded!\n",
      "Trying original URL: https://s3.amazonaws.com/media.wikiaves.com.br/images/234/432068#_b260b4d00718cc408fef9fb39df8e91e.jpg\n",
      "Trying modified URL (replace '#' with 'g'): https://s3.amazonaws.com/media.wikiaves.com.br/images/234/432068g_b260b4d00718cc408fef9fb39df8e91e.jpg\n",
      "Trying modified URL (replace '#' with ''): https://s3.amazonaws.com/media.wikiaves.com.br/images/234/432068_b260b4d00718cc408fef9fb39df8e91e.jpg\n",
      "Remaining 26 rows: https://www.wikiaves.com.br/urutau&t=mp&o=\n",
      "Image successfully downloaded!\n",
      "Trying original URL: https://s3.amazonaws.com/media.wikiaves.com.br/images/9742/2479380#_d777bfa76457cd8ee83cff9c3522ce5a.jpg\n",
      "Trying modified URL (replace '#' with 'g'): https://s3.amazonaws.com/media.wikiaves.com.br/images/9742/2479380g_d777bfa76457cd8ee83cff9c3522ce5a.jpg\n",
      "Remaining 25 rows: https://www.wikiaves.com.br/urutau&t=mp&o=\n",
      "Image successfully downloaded!\n",
      "Trying original URL: https://s3.amazonaws.com/media.wikiaves.com.br/images/3022/2203461#_a63e83867a8f8ca1b2a0c1f93269219f.jpg\n",
      "Trying modified URL (replace '#' with 'g'): https://s3.amazonaws.com/media.wikiaves.com.br/images/3022/2203461g_a63e83867a8f8ca1b2a0c1f93269219f.jpg\n",
      "Remaining 24 rows: https://www.wikiaves.com.br/urutau&t=mp&o=\n",
      "Image successfully downloaded!\n",
      "Trying original URL: https://s3.amazonaws.com/media.wikiaves.com.br/images/6611/1166508#_903512c397e12e14272bc6d731c38211.jpg\n",
      "Trying modified URL (replace '#' with 'g'): https://s3.amazonaws.com/media.wikiaves.com.br/images/6611/1166508g_903512c397e12e14272bc6d731c38211.jpg\n",
      "Trying modified URL (replace '#' with ''): https://s3.amazonaws.com/media.wikiaves.com.br/images/6611/1166508_903512c397e12e14272bc6d731c38211.jpg\n",
      "Remaining 23 rows: https://www.wikiaves.com.br/urutau&t=mp&o=\n",
      "Image successfully downloaded!\n",
      "Trying original URL: https://s3.amazonaws.com/media.wikiaves.com.br/images/888/888213#_b41daaef1d4a4ecad53b915893a4d552.jpg\n",
      "Trying modified URL (replace '#' with 'g'): https://s3.amazonaws.com/media.wikiaves.com.br/images/888/888213g_b41daaef1d4a4ecad53b915893a4d552.jpg\n",
      "Remaining 22 rows: https://www.wikiaves.com.br/urutau&t=mp&o=\n",
      "Image successfully downloaded!\n",
      "Trying original URL: https://s3.amazonaws.com/media.wikiaves.com.br/images/674/476884#_7e0e7224027cbe8db8bec5e7f4a1c6a7.jpg\n",
      "Trying modified URL (replace '#' with 'g'): https://s3.amazonaws.com/media.wikiaves.com.br/images/674/476884g_7e0e7224027cbe8db8bec5e7f4a1c6a7.jpg\n",
      "Remaining 21 rows: https://www.wikiaves.com.br/urutau&t=mp&o=\n",
      "Image successfully downloaded!\n",
      "Trying original URL: https://s3.amazonaws.com/media.wikiaves.com.br/images/423/324696#_4b0f95ac09a25c51eae7869cd02ab868.jpg\n",
      "Trying modified URL (replace '#' with 'g'): https://s3.amazonaws.com/media.wikiaves.com.br/images/423/324696g_4b0f95ac09a25c51eae7869cd02ab868.jpg\n",
      "Remaining 20 rows: https://www.wikiaves.com.br/urutau&t=mp&o=\n",
      "Image successfully downloaded!\n",
      "Trying original URL: https://s3.amazonaws.com/media.wikiaves.com.br/images/903/309418#_5606634a2594df91ecb858ab5ffc9db3.jpg\n",
      "Trying modified URL (replace '#' with 'g'): https://s3.amazonaws.com/media.wikiaves.com.br/images/903/309418g_5606634a2594df91ecb858ab5ffc9db3.jpg\n",
      "Remaining 19 rows: https://www.wikiaves.com.br/urutau&t=mp&o=\n",
      "Image successfully downloaded!\n",
      "Trying original URL: https://s3.amazonaws.com/media.wikiaves.com.br/images/322/223858#_e599172df5308e2f332b609ab1dc7952.jpg\n",
      "Trying modified URL (replace '#' with 'g'): https://s3.amazonaws.com/media.wikiaves.com.br/images/322/223858g_e599172df5308e2f332b609ab1dc7952.jpg\n",
      "Trying modified URL (replace '#' with ''): https://s3.amazonaws.com/media.wikiaves.com.br/images/322/223858_e599172df5308e2f332b609ab1dc7952.jpg\n"
     ]
    },
    {
     "name": "stdout",
     "output_type": "stream",
     "text": [
      "Remaining 18 rows: https://www.wikiaves.com.br/urutau&t=mp&o=\n",
      "Image successfully downloaded!\n",
      "Trying original URL: https://s3.amazonaws.com/media.wikiaves.com.br/images/2302/2032815#_520ae23ad56c58a7da5ab93e90bc87f6.jpg\n",
      "Trying modified URL (replace '#' with 'g'): https://s3.amazonaws.com/media.wikiaves.com.br/images/2302/2032815g_520ae23ad56c58a7da5ab93e90bc87f6.jpg\n",
      "Remaining 17 rows: https://www.wikiaves.com.br/urutau&t=mp&o=\n",
      "Image successfully downloaded!\n",
      "Trying original URL: https://s3.amazonaws.com/media.wikiaves.com.br/images/5911/1195924#_105fef5fd6ae6fc753204ccc154de43e.jpg\n",
      "Trying modified URL (replace '#' with 'g'): https://s3.amazonaws.com/media.wikiaves.com.br/images/5911/1195924g_105fef5fd6ae6fc753204ccc154de43e.jpg\n",
      "Trying modified URL (replace '#' with ''): https://s3.amazonaws.com/media.wikiaves.com.br/images/5911/1195924_105fef5fd6ae6fc753204ccc154de43e.jpg\n",
      "Remaining 16 rows: https://www.wikiaves.com.br/urutau&t=mp&o=\n",
      "Image successfully downloaded!\n",
      "Trying original URL: https://s3.amazonaws.com/media.wikiaves.com.br/images/363/363501#_7b3fef00e0ae521091f8d2b86ed8449e.jpg\n",
      "Trying modified URL (replace '#' with 'g'): https://s3.amazonaws.com/media.wikiaves.com.br/images/363/363501g_7b3fef00e0ae521091f8d2b86ed8449e.jpg\n",
      "Remaining 15 rows: https://www.wikiaves.com.br/urutau&t=mp&o=\n",
      "Image successfully downloaded!\n",
      "Trying original URL: https://s3.amazonaws.com/media.wikiaves.com.br/images/2532/2352106#_61d3b7b07fe56e45d180bf19933a7dee.jpg\n",
      "Trying modified URL (replace '#' with 'g'): https://s3.amazonaws.com/media.wikiaves.com.br/images/2532/2352106g_61d3b7b07fe56e45d180bf19933a7dee.jpg\n",
      "Remaining 14 rows: https://www.wikiaves.com.br/urutau&t=mp&o=\n",
      "Image successfully downloaded!\n",
      "Trying original URL: https://s3.amazonaws.com/media.wikiaves.com.br/images/6851/1586822#_0c0a19ee0b8b1bdf8b9234f0ae761a5b.jpg\n",
      "Trying modified URL (replace '#' with 'g'): https://s3.amazonaws.com/media.wikiaves.com.br/images/6851/1586822g_0c0a19ee0b8b1bdf8b9234f0ae761a5b.jpg\n",
      "Remaining 13 rows: https://www.wikiaves.com.br/urutau&t=mp&o=\n",
      "Image successfully downloaded!\n",
      "Trying original URL: https://s3.amazonaws.com/media.wikiaves.com.br/images/774/477813#_b7069231ca93e587fa639544b4e873af.jpg\n",
      "Trying modified URL (replace '#' with 'g'): https://s3.amazonaws.com/media.wikiaves.com.br/images/774/477813g_b7069231ca93e587fa639544b4e873af.jpg\n",
      "Remaining 12 rows: https://www.wikiaves.com.br/urutau&t=mp&o=\n",
      "Image successfully downloaded!\n",
      "Trying original URL: https://s3.amazonaws.com/media.wikiaves.com.br/images/88/88738#_9a63c6cd2261985eb840549d62b42fbd.jpg\n",
      "Trying modified URL (replace '#' with 'g'): https://s3.amazonaws.com/media.wikiaves.com.br/images/88/88738g_9a63c6cd2261985eb840549d62b42fbd.jpg\n",
      "Trying modified URL (replace '#' with ''): https://s3.amazonaws.com/media.wikiaves.com.br/images/88/88738_9a63c6cd2261985eb840549d62b42fbd.jpg\n",
      "Remaining 11 rows: https://www.wikiaves.com.br/urutau&t=mp&o=\n",
      "Image successfully downloaded!\n",
      "Trying original URL: https://s3.amazonaws.com/media.wikiaves.com.br/images/8004/4008970#_c4bebbab35c27bd926a7e6ad35825414.jpg\n",
      "Trying modified URL (replace '#' with 'g'): https://s3.amazonaws.com/media.wikiaves.com.br/images/8004/4008970g_c4bebbab35c27bd926a7e6ad35825414.jpg\n",
      "Remaining 10 rows: https://www.wikiaves.com.br/urutau&t=mp&o=\n",
      "Image successfully downloaded!\n",
      "Trying original URL: https://s3.amazonaws.com/media.wikiaves.com.br/images/5972/2795153#_60d3e1f2637918c020affdd9ef5a3430.jpg\n",
      "Trying modified URL (replace '#' with 'g'): https://s3.amazonaws.com/media.wikiaves.com.br/images/5972/2795153g_60d3e1f2637918c020affdd9ef5a3430.jpg\n",
      "Remaining 9 rows: https://www.wikiaves.com.br/urutau&t=mp&o=\n",
      "Image successfully downloaded!\n",
      "Trying original URL: https://s3.amazonaws.com/media.wikiaves.com.br/images/609/906088#_e4e9fc1725656b61ef0963b1782e021c.jpg\n",
      "Trying modified URL (replace '#' with 'g'): https://s3.amazonaws.com/media.wikiaves.com.br/images/609/906088g_e4e9fc1725656b61ef0963b1782e021c.jpg\n",
      "Remaining 8 rows: https://www.wikiaves.com.br/urutau&t=mp&o=\n",
      "Image successfully downloaded!\n",
      "Trying original URL: https://s3.amazonaws.com/media.wikiaves.com.br/images/407/704375#_e4c0eebc635e66859b175bcb8b59385a.jpg\n",
      "Trying modified URL (replace '#' with 'g'): https://s3.amazonaws.com/media.wikiaves.com.br/images/407/704375g_e4c0eebc635e66859b175bcb8b59385a.jpg\n",
      "Remaining 7 rows: https://www.wikiaves.com.br/urutau&t=mp&o=\n",
      "Image successfully downloaded!\n",
      "Trying original URL: https://s3.amazonaws.com/media.wikiaves.com.br/images/3775/5773406#_3b4d59b0ed0228b584c29028d1f3a982.jpg\n",
      "Trying modified URL (replace '#' with 'g'): https://s3.amazonaws.com/media.wikiaves.com.br/images/3775/5773406g_3b4d59b0ed0228b584c29028d1f3a982.jpg\n",
      "Remaining 6 rows: https://www.wikiaves.com.br/urutau&t=mp&o=\n",
      "Image successfully downloaded!\n",
      "Trying original URL: https://s3.amazonaws.com/media.wikiaves.com.br/images/4681/1864456#_4355247ac9e3ec3919f496b7aa8be70b.jpg\n",
      "Trying modified URL (replace '#' with 'g'): https://s3.amazonaws.com/media.wikiaves.com.br/images/4681/1864456g_4355247ac9e3ec3919f496b7aa8be70b.jpg\n",
      "Remaining 5 rows: https://www.wikiaves.com.br/urutau&t=mp&o=\n",
      "Image successfully downloaded!\n",
      "Trying original URL: https://s3.amazonaws.com/media.wikiaves.com.br/images/6431/1346740#_73d85287d3bd9027a868d0b4b0fb7f6c.jpg\n",
      "Trying modified URL (replace '#' with 'g'): https://s3.amazonaws.com/media.wikiaves.com.br/images/6431/1346740g_73d85287d3bd9027a868d0b4b0fb7f6c.jpg\n",
      "Remaining 4 rows: https://www.wikiaves.com.br/urutau&t=mp&o=\n",
      "Image successfully downloaded!\n",
      "Trying original URL: https://s3.amazonaws.com/media.wikiaves.com.br/images/7611/1167806#_d0fae596e72b76861756acb3a8c23956.jpg\n",
      "Trying modified URL (replace '#' with 'g'): https://s3.amazonaws.com/media.wikiaves.com.br/images/7611/1167806g_d0fae596e72b76861756acb3a8c23956.jpg\n",
      "Remaining 3 rows: https://www.wikiaves.com.br/urutau&t=mp&o=\n",
      "Image successfully downloaded!\n",
      "Trying original URL: https://s3.amazonaws.com/media.wikiaves.com.br/images/714/417467#_ff4cba46a3aa8a164ceb45a1385ca4f1.jpg\n",
      "Trying modified URL (replace '#' with 'g'): https://s3.amazonaws.com/media.wikiaves.com.br/images/714/417467g_ff4cba46a3aa8a164ceb45a1385ca4f1.jpg\n",
      "Remaining 2 rows: https://www.wikiaves.com.br/urutau&t=mp&o=\n",
      "Image successfully downloaded!\n",
      "Trying original URL: https://s3.amazonaws.com/media.wikiaves.com.br/images/33/33008#_5b660d91e49011eb7c3c1b3eacabd7c3.jpg\n",
      "Trying modified URL (replace '#' with 'g'): https://s3.amazonaws.com/media.wikiaves.com.br/images/33/33008g_5b660d91e49011eb7c3c1b3eacabd7c3.jpg\n",
      "Remaining 1 rows: https://www.wikiaves.com.br/urutau&t=mp&o=\n",
      "Image successfully downloaded!\n",
      "10530\n",
      "4\n",
      "5\n",
      "6\n",
      "Trying original URL: https://s3.amazonaws.com/media.wikiaves.com.br/images/579/975491#_21ea44e3274c85b3075f6d10510f197e.jpg\n",
      "Trying modified URL (replace '#' with 'g'): https://s3.amazonaws.com/media.wikiaves.com.br/images/579/975491g_21ea44e3274c85b3075f6d10510f197e.jpg\n",
      "Remaining 60 rows: https://www.wikiaves.com.br/coruja-buraqueira&t=mp&o=\n",
      "Image successfully downloaded!\n",
      "Trying original URL: https://s3.amazonaws.com/media.wikiaves.com.br/images/271/172671#_c66845fca4fdef11032b225b8eeb26c1.jpg\n",
      "Trying modified URL (replace '#' with 'g'): https://s3.amazonaws.com/media.wikiaves.com.br/images/271/172671g_c66845fca4fdef11032b225b8eeb26c1.jpg\n",
      "Remaining 59 rows: https://www.wikiaves.com.br/coruja-buraqueira&t=mp&o=\n",
      "Image successfully downloaded!\n",
      "Trying original URL: https://s3.amazonaws.com/media.wikiaves.com.br/images/1906/6091079#_0acf9ec7851970437b566ae56576fdf7.jpg\n",
      "Trying modified URL (replace '#' with 'g'): https://s3.amazonaws.com/media.wikiaves.com.br/images/1906/6091079g_0acf9ec7851970437b566ae56576fdf7.jpg\n",
      "Remaining 58 rows: https://www.wikiaves.com.br/coruja-buraqueira&t=mp&o=\n",
      "Image successfully downloaded!\n",
      "Trying original URL: https://s3.amazonaws.com/media.wikiaves.com.br/images/3404/4043323#_f6bce78878989798a0dddaf83e8c4131.jpg\n",
      "Trying modified URL (replace '#' with 'g'): https://s3.amazonaws.com/media.wikiaves.com.br/images/3404/4043323g_f6bce78878989798a0dddaf83e8c4131.jpg\n",
      "Remaining 57 rows: https://www.wikiaves.com.br/coruja-buraqueira&t=mp&o=\n",
      "Image successfully downloaded!\n",
      "Trying original URL: https://s3.amazonaws.com/media.wikiaves.com.br/images/823/328601#_9594d95a0f469254aa733a5f6e8bad21.jpg\n"
     ]
    },
    {
     "name": "stdout",
     "output_type": "stream",
     "text": [
      "Trying modified URL (replace '#' with 'g'): https://s3.amazonaws.com/media.wikiaves.com.br/images/823/328601g_9594d95a0f469254aa733a5f6e8bad21.jpg\n",
      "Remaining 56 rows: https://www.wikiaves.com.br/coruja-buraqueira&t=mp&o=\n",
      "Image successfully downloaded!\n",
      "Trying original URL: https://s3.amazonaws.com/media.wikiaves.com.br/images/6654/4566653#_152ac96b0d4d1a2f4c466fa4766f00bb.jpg\n",
      "Trying modified URL (replace '#' with 'g'): https://s3.amazonaws.com/media.wikiaves.com.br/images/6654/4566653g_152ac96b0d4d1a2f4c466fa4766f00bb.jpg\n",
      "Remaining 55 rows: https://www.wikiaves.com.br/coruja-buraqueira&t=mp&o=\n",
      "Image successfully downloaded!\n",
      "Trying original URL: https://s3.amazonaws.com/media.wikiaves.com.br/images/9731/1379343#_f00f9555c9f3f9321e2b129d2835bf00.jpg\n",
      "Trying modified URL (replace '#' with 'g'): https://s3.amazonaws.com/media.wikiaves.com.br/images/9731/1379343g_f00f9555c9f3f9321e2b129d2835bf00.jpg\n",
      "Remaining 54 rows: https://www.wikiaves.com.br/coruja-buraqueira&t=mp&o=\n",
      "Image successfully downloaded!\n",
      "Trying original URL: https://s3.amazonaws.com/media.wikiaves.com.br/images/1821/1281726#_877d34587a88c8986024477354189db3.jpg\n",
      "Trying modified URL (replace '#' with 'g'): https://s3.amazonaws.com/media.wikiaves.com.br/images/1821/1281726g_877d34587a88c8986024477354189db3.jpg\n",
      "Remaining 53 rows: https://www.wikiaves.com.br/coruja-buraqueira&t=mp&o=\n",
      "Image successfully downloaded!\n",
      "Trying original URL: https://s3.amazonaws.com/media.wikiaves.com.br/images/2221/1222942#_c2920de8b9b8449bb4826ee65ea10650.jpg\n",
      "Trying modified URL (replace '#' with 'g'): https://s3.amazonaws.com/media.wikiaves.com.br/images/2221/1222942g_c2920de8b9b8449bb4826ee65ea10650.jpg\n",
      "Remaining 52 rows: https://www.wikiaves.com.br/coruja-buraqueira&t=mp&o=\n",
      "Image successfully downloaded!\n",
      "Trying original URL: https://s3.amazonaws.com/media.wikiaves.com.br/images/612/216034#_7ba9dbc796e213e1f667ef41aed37b84.jpg\n",
      "Trying modified URL (replace '#' with 'g'): https://s3.amazonaws.com/media.wikiaves.com.br/images/612/216034g_7ba9dbc796e213e1f667ef41aed37b84.jpg\n",
      "Remaining 51 rows: https://www.wikiaves.com.br/coruja-buraqueira&t=mp&o=\n",
      "Image successfully downloaded!\n",
      "Trying original URL: https://s3.amazonaws.com/media.wikiaves.com.br/images/5051/1505615#_0329b1815da54299d68d61473e945f04.jpg\n",
      "Trying modified URL (replace '#' with 'g'): https://s3.amazonaws.com/media.wikiaves.com.br/images/5051/1505615g_0329b1815da54299d68d61473e945f04.jpg\n",
      "Remaining 50 rows: https://www.wikiaves.com.br/coruja-buraqueira&t=mp&o=\n",
      "Image successfully downloaded!\n",
      "Trying original URL: https://s3.amazonaws.com/media.wikiaves.com.br/images/159/951587#_8879c3f5740900baf07c39da2030ebbe.jpg\n",
      "Trying modified URL (replace '#' with 'g'): https://s3.amazonaws.com/media.wikiaves.com.br/images/159/951587g_8879c3f5740900baf07c39da2030ebbe.jpg\n",
      "Remaining 49 rows: https://www.wikiaves.com.br/coruja-buraqueira&t=mp&o=\n",
      "Image successfully downloaded!\n",
      "Trying original URL: https://s3.amazonaws.com/media.wikiaves.com.br/images/215/512635#_d504361b36829034d12eeb46a160c1e4.jpg\n",
      "Trying modified URL (replace '#' with 'g'): https://s3.amazonaws.com/media.wikiaves.com.br/images/215/512635g_d504361b36829034d12eeb46a160c1e4.jpg\n",
      "Remaining 48 rows: https://www.wikiaves.com.br/coruja-buraqueira&t=mp&o=\n",
      "Image successfully downloaded!\n",
      "Trying original URL: https://s3.amazonaws.com/media.wikiaves.com.br/images/603/306428#_8352ae3ab8df22309b05c72730d272bf.jpg\n",
      "Trying modified URL (replace '#' with 'g'): https://s3.amazonaws.com/media.wikiaves.com.br/images/603/306428g_8352ae3ab8df22309b05c72730d272bf.jpg\n",
      "Remaining 47 rows: https://www.wikiaves.com.br/coruja-buraqueira&t=mp&o=\n",
      "Image successfully downloaded!\n",
      "Trying original URL: https://s3.amazonaws.com/media.wikiaves.com.br/images/91/19570#_62defb81f7eef58ad6463450160970f8.jpg\n",
      "Trying modified URL (replace '#' with 'g'): https://s3.amazonaws.com/media.wikiaves.com.br/images/91/19570g_62defb81f7eef58ad6463450160970f8.jpg\n",
      "Remaining 46 rows: https://www.wikiaves.com.br/coruja-buraqueira&t=mp&o=\n",
      "Image successfully downloaded!\n",
      "Trying original URL: https://s3.amazonaws.com/media.wikiaves.com.br/images/1831/1381204#_5988de2e68d617717d15cf4355d96897.jpg\n",
      "Trying modified URL (replace '#' with 'g'): https://s3.amazonaws.com/media.wikiaves.com.br/images/1831/1381204g_5988de2e68d617717d15cf4355d96897.jpg\n",
      "Remaining 45 rows: https://www.wikiaves.com.br/coruja-buraqueira&t=mp&o=\n",
      "Image successfully downloaded!\n",
      "Trying original URL: https://s3.amazonaws.com/media.wikiaves.com.br/images/941/149199#_4a662a8e3e0a3d8bbe0dca72519fd49a.jpg\n",
      "Trying modified URL (replace '#' with 'g'): https://s3.amazonaws.com/media.wikiaves.com.br/images/941/149199g_4a662a8e3e0a3d8bbe0dca72519fd49a.jpg\n",
      "Remaining 44 rows: https://www.wikiaves.com.br/coruja-buraqueira&t=mp&o=\n",
      "Image successfully downloaded!\n",
      "Trying original URL: https://s3.amazonaws.com/media.wikiaves.com.br/images/8614/4168728#_cd369df24ae719d1444aabce0204ba82.jpg\n",
      "Trying modified URL (replace '#' with 'g'): https://s3.amazonaws.com/media.wikiaves.com.br/images/8614/4168728g_cd369df24ae719d1444aabce0204ba82.jpg\n",
      "Remaining 43 rows: https://www.wikiaves.com.br/coruja-buraqueira&t=mp&o=\n",
      "Image successfully downloaded!\n",
      "Trying original URL: https://s3.amazonaws.com/media.wikiaves.com.br/images/588/885078#_249e1e3bd6ca40b929c4af5a09e7120a.jpg\n",
      "Trying modified URL (replace '#' with 'g'): https://s3.amazonaws.com/media.wikiaves.com.br/images/588/885078g_249e1e3bd6ca40b929c4af5a09e7120a.jpg\n",
      "Remaining 42 rows: https://www.wikiaves.com.br/coruja-buraqueira&t=mp&o=\n",
      "Image successfully downloaded!\n",
      "Trying original URL: https://s3.amazonaws.com/media.wikiaves.com.br/images/6895/5986434#_4f29dd5109040af599da97cfc20ab243.jpg\n",
      "Trying modified URL (replace '#' with 'g'): https://s3.amazonaws.com/media.wikiaves.com.br/images/6895/5986434g_4f29dd5109040af599da97cfc20ab243.jpg\n",
      "Remaining 41 rows: https://www.wikiaves.com.br/coruja-buraqueira&t=mp&o=\n",
      "Image successfully downloaded!\n",
      "Trying original URL: https://s3.amazonaws.com/media.wikiaves.com.br/images/9385/5839835#_64cd084279bc15a95ac14d3d3b70ba88.jpg\n",
      "Trying modified URL (replace '#' with 'g'): https://s3.amazonaws.com/media.wikiaves.com.br/images/9385/5839835g_64cd084279bc15a95ac14d3d3b70ba88.jpg\n",
      "Remaining 40 rows: https://www.wikiaves.com.br/coruja-buraqueira&t=mp&o=\n",
      "Image successfully downloaded!\n",
      "Trying original URL: https://s3.amazonaws.com/media.wikiaves.com.br/images/513/315224#_e2b0e8edcec3e391503cfc0751abf2ae.jpg\n",
      "Trying modified URL (replace '#' with 'g'): https://s3.amazonaws.com/media.wikiaves.com.br/images/513/315224g_e2b0e8edcec3e391503cfc0751abf2ae.jpg\n",
      "Remaining 39 rows: https://www.wikiaves.com.br/coruja-buraqueira&t=mp&o=\n",
      "Image successfully downloaded!\n",
      "Trying original URL: https://s3.amazonaws.com/media.wikiaves.com.br/images/103/301189#_455e05b92851d918c6358efd296869b9.jpg\n",
      "Trying modified URL (replace '#' with 'g'): https://s3.amazonaws.com/media.wikiaves.com.br/images/103/301189g_455e05b92851d918c6358efd296869b9.jpg\n",
      "Remaining 38 rows: https://www.wikiaves.com.br/coruja-buraqueira&t=mp&o=\n",
      "Image successfully downloaded!\n",
      "Trying original URL: https://s3.amazonaws.com/media.wikiaves.com.br/images/23/32297#_396027a812ab6897c00a77412eb467a3.jpg\n",
      "Trying modified URL (replace '#' with 'g'): https://s3.amazonaws.com/media.wikiaves.com.br/images/23/32297g_396027a812ab6897c00a77412eb467a3.jpg\n",
      "Trying modified URL (replace '#' with ''): https://s3.amazonaws.com/media.wikiaves.com.br/images/23/32297_396027a812ab6897c00a77412eb467a3.jpg\n",
      "Remaining 37 rows: https://www.wikiaves.com.br/coruja-buraqueira&t=mp&o=\n",
      "Image successfully downloaded!\n",
      "Trying original URL: https://s3.amazonaws.com/media.wikiaves.com.br/images/182/281949#_66c7d9b29c3bc0549664006c9a331a95.jpg\n",
      "Trying modified URL (replace '#' with 'g'): https://s3.amazonaws.com/media.wikiaves.com.br/images/182/281949g_66c7d9b29c3bc0549664006c9a331a95.jpg\n",
      "Remaining 36 rows: https://www.wikiaves.com.br/coruja-buraqueira&t=mp&o=\n",
      "Image successfully downloaded!\n",
      "Trying original URL: https://s3.amazonaws.com/media.wikiaves.com.br/images/772/277257#_b0e0bfe775821c6bb2ab146a76346482.jpg\n",
      "Trying modified URL (replace '#' with 'g'): https://s3.amazonaws.com/media.wikiaves.com.br/images/772/277257g_b0e0bfe775821c6bb2ab146a76346482.jpg\n"
     ]
    },
    {
     "name": "stdout",
     "output_type": "stream",
     "text": [
      "Remaining 35 rows: https://www.wikiaves.com.br/coruja-buraqueira&t=mp&o=\n",
      "Image successfully downloaded!\n",
      "Trying original URL: https://s3.amazonaws.com/media.wikiaves.com.br/images/141/141992#_d6443acf49addd66bdbfbe758cde42b0.jpg\n",
      "Trying modified URL (replace '#' with 'g'): https://s3.amazonaws.com/media.wikiaves.com.br/images/141/141992g_d6443acf49addd66bdbfbe758cde42b0.jpg\n",
      "Remaining 34 rows: https://www.wikiaves.com.br/coruja-buraqueira&t=mp&o=\n",
      "Image successfully downloaded!\n",
      "Trying original URL: https://s3.amazonaws.com/media.wikiaves.com.br/images/0502/2050685#_f7904043b3cf26fdf86d0cf0bf174c4d.jpg\n",
      "Trying modified URL (replace '#' with 'g'): https://s3.amazonaws.com/media.wikiaves.com.br/images/0502/2050685g_f7904043b3cf26fdf86d0cf0bf174c4d.jpg\n",
      "Remaining 33 rows: https://www.wikiaves.com.br/coruja-buraqueira&t=mp&o=\n",
      "Image successfully downloaded!\n",
      "Trying original URL: https://s3.amazonaws.com/media.wikiaves.com.br/images/929/929882#_84152b79055b5444dfc7f7e022c69b89.jpg\n",
      "Trying modified URL (replace '#' with 'g'): https://s3.amazonaws.com/media.wikiaves.com.br/images/929/929882g_84152b79055b5444dfc7f7e022c69b89.jpg\n",
      "Remaining 32 rows: https://www.wikiaves.com.br/coruja-buraqueira&t=mp&o=\n",
      "Image successfully downloaded!\n",
      "Trying original URL: https://s3.amazonaws.com/media.wikiaves.com.br/images/409/904240#_833a3661da106c40d689ede679901ffe.jpg\n",
      "Trying modified URL (replace '#' with 'g'): https://s3.amazonaws.com/media.wikiaves.com.br/images/409/904240g_833a3661da106c40d689ede679901ffe.jpg\n",
      "Remaining 31 rows: https://www.wikiaves.com.br/coruja-buraqueira&t=mp&o=\n",
      "Image successfully downloaded!\n",
      "Trying original URL: https://s3.amazonaws.com/media.wikiaves.com.br/images/538/835232#_97ec16cc03cdb5680db4b3efa637fdac.jpg\n",
      "Trying modified URL (replace '#' with 'g'): https://s3.amazonaws.com/media.wikiaves.com.br/images/538/835232g_97ec16cc03cdb5680db4b3efa637fdac.jpg\n",
      "Remaining 30 rows: https://www.wikiaves.com.br/coruja-buraqueira&t=mp&o=\n",
      "Image successfully downloaded!\n",
      "Trying original URL: https://s3.amazonaws.com/media.wikiaves.com.br/images/384/483376#_94ca9e5cfd3ad6d7cba2724632eed2ec.jpg\n",
      "Trying modified URL (replace '#' with 'g'): https://s3.amazonaws.com/media.wikiaves.com.br/images/384/483376g_94ca9e5cfd3ad6d7cba2724632eed2ec.jpg\n",
      "Remaining 29 rows: https://www.wikiaves.com.br/coruja-buraqueira&t=mp&o=\n",
      "Image successfully downloaded!\n",
      "Trying original URL: https://s3.amazonaws.com/media.wikiaves.com.br/images/993/399842#_8f44b81642d6dbe584d63299e3b4d2ec.jpg\n",
      "Trying modified URL (replace '#' with 'g'): https://s3.amazonaws.com/media.wikiaves.com.br/images/993/399842g_8f44b81642d6dbe584d63299e3b4d2ec.jpg\n",
      "Remaining 28 rows: https://www.wikiaves.com.br/coruja-buraqueira&t=mp&o=\n",
      "Image successfully downloaded!\n",
      "Trying original URL: https://s3.amazonaws.com/media.wikiaves.com.br/images/6262/2626332#_28be78d688c9d054b14bbc6c77d1f7b7.jpg\n",
      "Trying modified URL (replace '#' with 'g'): https://s3.amazonaws.com/media.wikiaves.com.br/images/6262/2626332g_28be78d688c9d054b14bbc6c77d1f7b7.jpg\n",
      "Remaining 27 rows: https://www.wikiaves.com.br/coruja-buraqueira&t=mp&o=\n",
      "Image successfully downloaded!\n",
      "Trying original URL: https://s3.amazonaws.com/media.wikiaves.com.br/images/1561/1651979#_02624e3c8d983d5118dcda2c1f3e5692.jpg\n",
      "Trying modified URL (replace '#' with 'g'): https://s3.amazonaws.com/media.wikiaves.com.br/images/1561/1651979g_02624e3c8d983d5118dcda2c1f3e5692.jpg\n",
      "Remaining 26 rows: https://www.wikiaves.com.br/coruja-buraqueira&t=mp&o=\n",
      "Image successfully downloaded!\n",
      "Trying original URL: https://s3.amazonaws.com/media.wikiaves.com.br/images/418/814772#_86fe11bc1279d68c3e05fe5cda552d85.jpg\n",
      "Trying modified URL (replace '#' with 'g'): https://s3.amazonaws.com/media.wikiaves.com.br/images/418/814772g_86fe11bc1279d68c3e05fe5cda552d85.jpg\n",
      "Remaining 25 rows: https://www.wikiaves.com.br/coruja-buraqueira&t=mp&o=\n",
      "Image successfully downloaded!\n",
      "Trying original URL: https://s3.amazonaws.com/media.wikiaves.com.br/images/417/714016#_937a2bc3598876764ae96a138f780157.jpg\n",
      "Trying modified URL (replace '#' with 'g'): https://s3.amazonaws.com/media.wikiaves.com.br/images/417/714016g_937a2bc3598876764ae96a138f780157.jpg\n",
      "Remaining 24 rows: https://www.wikiaves.com.br/coruja-buraqueira&t=mp&o=\n",
      "Image successfully downloaded!\n",
      "Trying original URL: https://s3.amazonaws.com/media.wikiaves.com.br/images/463/364948#_afdb81a5f1993eef3fcc3a28ff9db733.jpg\n",
      "Trying modified URL (replace '#' with 'g'): https://s3.amazonaws.com/media.wikiaves.com.br/images/463/364948g_afdb81a5f1993eef3fcc3a28ff9db733.jpg\n",
      "Remaining 23 rows: https://www.wikiaves.com.br/coruja-buraqueira&t=mp&o=\n",
      "Image successfully downloaded!\n",
      "Trying original URL: https://s3.amazonaws.com/media.wikiaves.com.br/images/2971/1792476#_d8f9aaec0bb837ef946405faf5c09ef5.jpg\n",
      "Trying modified URL (replace '#' with 'g'): https://s3.amazonaws.com/media.wikiaves.com.br/images/2971/1792476g_d8f9aaec0bb837ef946405faf5c09ef5.jpg\n",
      "Remaining 22 rows: https://www.wikiaves.com.br/coruja-buraqueira&t=mp&o=\n",
      "Image successfully downloaded!\n",
      "Trying original URL: https://s3.amazonaws.com/media.wikiaves.com.br/images/075/570043#_0188bd2c1e7250f79ea32c9f6343d73b.jpg\n",
      "Trying modified URL (replace '#' with 'g'): https://s3.amazonaws.com/media.wikiaves.com.br/images/075/570043g_0188bd2c1e7250f79ea32c9f6343d73b.jpg\n",
      "Remaining 21 rows: https://www.wikiaves.com.br/coruja-buraqueira&t=mp&o=\n",
      "Image successfully downloaded!\n",
      "Trying original URL: https://s3.amazonaws.com/media.wikiaves.com.br/images/081/180842#_a0d1be382c31186662a68943e0320f68.jpg\n",
      "Trying modified URL (replace '#' with 'g'): https://s3.amazonaws.com/media.wikiaves.com.br/images/081/180842g_a0d1be382c31186662a68943e0320f68.jpg\n",
      "Remaining 20 rows: https://www.wikiaves.com.br/coruja-buraqueira&t=mp&o=\n",
      "Image successfully downloaded!\n",
      "Trying original URL: https://s3.amazonaws.com/media.wikiaves.com.br/images/551/155330#_9e4eada63ea8271544e6db9fb541d2f8.jpg\n",
      "Trying modified URL (replace '#' with 'g'): https://s3.amazonaws.com/media.wikiaves.com.br/images/551/155330g_9e4eada63ea8271544e6db9fb541d2f8.jpg\n",
      "Remaining 19 rows: https://www.wikiaves.com.br/coruja-buraqueira&t=mp&o=\n",
      "Image successfully downloaded!\n",
      "Trying original URL: https://s3.amazonaws.com/media.wikiaves.com.br/images/5504/4055101#_ab66003c01d77bdff8de1326ca99e6eb.jpg\n",
      "Trying modified URL (replace '#' with 'g'): https://s3.amazonaws.com/media.wikiaves.com.br/images/5504/4055101g_ab66003c01d77bdff8de1326ca99e6eb.jpg\n",
      "Remaining 18 rows: https://www.wikiaves.com.br/coruja-buraqueira&t=mp&o=\n",
      "Image successfully downloaded!\n",
      "Trying original URL: https://s3.amazonaws.com/media.wikiaves.com.br/images/5281/1825009#_7b0d7ab09555b56f05f20da5fbd18102.jpg\n",
      "Trying modified URL (replace '#' with 'g'): https://s3.amazonaws.com/media.wikiaves.com.br/images/5281/1825009g_7b0d7ab09555b56f05f20da5fbd18102.jpg\n",
      "Remaining 17 rows: https://www.wikiaves.com.br/coruja-buraqueira&t=mp&o=\n",
      "Image successfully downloaded!\n",
      "Trying original URL: https://s3.amazonaws.com/media.wikiaves.com.br/images/9811/1189946#_868ddee3f1227d57421e9e9b2bc6166c.jpg\n",
      "Trying modified URL (replace '#' with 'g'): https://s3.amazonaws.com/media.wikiaves.com.br/images/9811/1189946g_868ddee3f1227d57421e9e9b2bc6166c.jpg\n",
      "Remaining 16 rows: https://www.wikiaves.com.br/coruja-buraqueira&t=mp&o=\n",
      "Image successfully downloaded!\n",
      "Trying original URL: https://s3.amazonaws.com/media.wikiaves.com.br/images/8711/1178075#_c06bd3db6a419494b63a1c73bb5c3ff7.jpg\n",
      "Trying modified URL (replace '#' with 'g'): https://s3.amazonaws.com/media.wikiaves.com.br/images/8711/1178075g_c06bd3db6a419494b63a1c73bb5c3ff7.jpg\n",
      "Remaining 15 rows: https://www.wikiaves.com.br/coruja-buraqueira&t=mp&o=\n",
      "Image successfully downloaded!\n",
      "Trying original URL: https://s3.amazonaws.com/media.wikiaves.com.br/images/069/960299#_ddf600ae6a1ee2e78f2fccba940afef9.jpg\n",
      "Trying modified URL (replace '#' with 'g'): https://s3.amazonaws.com/media.wikiaves.com.br/images/069/960299g_ddf600ae6a1ee2e78f2fccba940afef9.jpg\n",
      "Remaining 14 rows: https://www.wikiaves.com.br/coruja-buraqueira&t=mp&o=\n",
      "Image successfully downloaded!\n",
      "Trying original URL: https://s3.amazonaws.com/media.wikiaves.com.br/images/668/866223#_d8a3ad64916bee2ac54c35c6619aa37f.jpg\n",
      "Trying modified URL (replace '#' with 'g'): https://s3.amazonaws.com/media.wikiaves.com.br/images/668/866223g_d8a3ad64916bee2ac54c35c6619aa37f.jpg\n"
     ]
    },
    {
     "name": "stdout",
     "output_type": "stream",
     "text": [
      "Remaining 13 rows: https://www.wikiaves.com.br/coruja-buraqueira&t=mp&o=\n",
      "Image successfully downloaded!\n",
      "Trying original URL: https://s3.amazonaws.com/media.wikiaves.com.br/images/156/651768#_ab1a3fb9b9e2750dbe2399f5b2d2a93a.jpg\n",
      "Trying modified URL (replace '#' with 'g'): https://s3.amazonaws.com/media.wikiaves.com.br/images/156/651768g_ab1a3fb9b9e2750dbe2399f5b2d2a93a.jpg\n",
      "Remaining 12 rows: https://www.wikiaves.com.br/coruja-buraqueira&t=mp&o=\n",
      "Image successfully downloaded!\n",
      "Trying original URL: https://s3.amazonaws.com/media.wikiaves.com.br/images/413/314210#_cd1575b4fa32e832407c06f1c0a67918.jpg\n",
      "Trying modified URL (replace '#' with 'g'): https://s3.amazonaws.com/media.wikiaves.com.br/images/413/314210g_cd1575b4fa32e832407c06f1c0a67918.jpg\n",
      "Remaining 11 rows: https://www.wikiaves.com.br/coruja-buraqueira&t=mp&o=\n",
      "Image successfully downloaded!\n",
      "Trying original URL: https://s3.amazonaws.com/media.wikiaves.com.br/images/362/263407#_025968a76648db512a22a41acecd9146.jpg\n",
      "Trying modified URL (replace '#' with 'g'): https://s3.amazonaws.com/media.wikiaves.com.br/images/362/263407g_025968a76648db512a22a41acecd9146.jpg\n",
      "Remaining 10 rows: https://www.wikiaves.com.br/coruja-buraqueira&t=mp&o=\n",
      "Image successfully downloaded!\n",
      "Trying original URL: https://s3.amazonaws.com/media.wikiaves.com.br/images/0491/1940948#_1601216934791ae2cdac7d9d7cc3b946.jpg\n",
      "Trying modified URL (replace '#' with 'g'): https://s3.amazonaws.com/media.wikiaves.com.br/images/0491/1940948g_1601216934791ae2cdac7d9d7cc3b946.jpg\n",
      "Remaining 9 rows: https://www.wikiaves.com.br/coruja-buraqueira&t=mp&o=\n",
      "Image successfully downloaded!\n",
      "Trying original URL: https://s3.amazonaws.com/media.wikiaves.com.br/images/707/707489#_6fa5ed39bf25fd0bab54bf3ced8b0d70.jpg\n",
      "Trying modified URL (replace '#' with 'g'): https://s3.amazonaws.com/media.wikiaves.com.br/images/707/707489g_6fa5ed39bf25fd0bab54bf3ced8b0d70.jpg\n",
      "Remaining 8 rows: https://www.wikiaves.com.br/coruja-buraqueira&t=mp&o=\n",
      "Image successfully downloaded!\n",
      "Trying original URL: https://s3.amazonaws.com/media.wikiaves.com.br/images/884/488057#_d06159676cf3119ef99ca42e8496d680.jpg\n",
      "Trying modified URL (replace '#' with 'g'): https://s3.amazonaws.com/media.wikiaves.com.br/images/884/488057g_d06159676cf3119ef99ca42e8496d680.jpg\n",
      "Remaining 7 rows: https://www.wikiaves.com.br/coruja-buraqueira&t=mp&o=\n",
      "Image successfully downloaded!\n",
      "Trying original URL: https://s3.amazonaws.com/media.wikiaves.com.br/images/2972/2792110#_612c54400f73714e4d83657fcdf32772.jpg\n",
      "Trying modified URL (replace '#' with 'g'): https://s3.amazonaws.com/media.wikiaves.com.br/images/2972/2792110g_612c54400f73714e4d83657fcdf32772.jpg\n",
      "Remaining 6 rows: https://www.wikiaves.com.br/coruja-buraqueira&t=mp&o=\n",
      "Image successfully downloaded!\n",
      "Trying original URL: https://s3.amazonaws.com/media.wikiaves.com.br/images/492/294897#_c6bd4ad679cf446e8971dcae42c53bc8.jpg\n",
      "Trying modified URL (replace '#' with 'g'): https://s3.amazonaws.com/media.wikiaves.com.br/images/492/294897g_c6bd4ad679cf446e8971dcae42c53bc8.jpg\n",
      "Remaining 5 rows: https://www.wikiaves.com.br/coruja-buraqueira&t=mp&o=\n",
      "Image successfully downloaded!\n",
      "Trying original URL: https://s3.amazonaws.com/media.wikiaves.com.br/images/8004/4008855#_42a8460de63528b1983a559d206e7953.jpg\n",
      "Trying modified URL (replace '#' with 'g'): https://s3.amazonaws.com/media.wikiaves.com.br/images/8004/4008855g_42a8460de63528b1983a559d206e7953.jpg\n",
      "Remaining 4 rows: https://www.wikiaves.com.br/coruja-buraqueira&t=mp&o=\n",
      "Image successfully downloaded!\n",
      "Trying original URL: https://s3.amazonaws.com/media.wikiaves.com.br/images/7582/2857488#_ec8329a8db13d00832f9c0392944702a.jpg\n",
      "Trying modified URL (replace '#' with 'g'): https://s3.amazonaws.com/media.wikiaves.com.br/images/7582/2857488g_ec8329a8db13d00832f9c0392944702a.jpg\n",
      "Remaining 3 rows: https://www.wikiaves.com.br/coruja-buraqueira&t=mp&o=\n",
      "Image successfully downloaded!\n",
      "Trying original URL: https://s3.amazonaws.com/media.wikiaves.com.br/images/7691/1967914#_964853754ee7e5fcfcfeb6658a3279fd.jpg\n",
      "Trying modified URL (replace '#' with 'g'): https://s3.amazonaws.com/media.wikiaves.com.br/images/7691/1967914g_964853754ee7e5fcfcfeb6658a3279fd.jpg\n",
      "Remaining 2 rows: https://www.wikiaves.com.br/coruja-buraqueira&t=mp&o=\n",
      "Image successfully downloaded!\n",
      "Trying original URL: https://s3.amazonaws.com/media.wikiaves.com.br/images/4831/1384020#_67d56d2e81e4d5398bbfe7b85260c8be.jpg\n",
      "Trying modified URL (replace '#' with 'g'): https://s3.amazonaws.com/media.wikiaves.com.br/images/4831/1384020g_67d56d2e81e4d5398bbfe7b85260c8be.jpg\n",
      "Remaining 1 rows: https://www.wikiaves.com.br/coruja-buraqueira&t=mp&o=\n",
      "Image successfully downloaded!\n",
      "10238\n",
      "4\n",
      "5\n",
      "6\n",
      "Trying original URL: https://s3.amazonaws.com/media.wikiaves.com.br/images/3714/4173788#_00993769d64daf3568ee438db8dbbe63.jpg\n",
      "Trying modified URL (replace '#' with 'g'): https://s3.amazonaws.com/media.wikiaves.com.br/images/3714/4173788g_00993769d64daf3568ee438db8dbbe63.jpg\n",
      "Remaining 60 rows: https://www.wikiaves.com.br/gaviao-real&t=mp&o=\n",
      "Image successfully downloaded!\n",
      "Trying original URL: https://s3.amazonaws.com/media.wikiaves.com.br/images/2942/2492338#_e6205955cb32aad628186514e715ae2b.jpg\n",
      "Trying modified URL (replace '#' with 'g'): https://s3.amazonaws.com/media.wikiaves.com.br/images/2942/2492338g_e6205955cb32aad628186514e715ae2b.jpg\n",
      "Remaining 59 rows: https://www.wikiaves.com.br/gaviao-real&t=mp&o=\n",
      "Image successfully downloaded!\n",
      "Trying original URL: https://s3.amazonaws.com/media.wikiaves.com.br/images/535/535934#_07a873f065ff7c8fd25e07563903e06f.jpg\n",
      "Trying modified URL (replace '#' with 'g'): https://s3.amazonaws.com/media.wikiaves.com.br/images/535/535934g_07a873f065ff7c8fd25e07563903e06f.jpg\n",
      "Remaining 58 rows: https://www.wikiaves.com.br/gaviao-real&t=mp&o=\n",
      "Image successfully downloaded!\n",
      "Trying original URL: https://s3.amazonaws.com/media.wikiaves.com.br/images/3691/1963053#_c9997815e598269ae79ae51525b57ee2.jpg\n",
      "Trying modified URL (replace '#' with 'g'): https://s3.amazonaws.com/media.wikiaves.com.br/images/3691/1963053g_c9997815e598269ae79ae51525b57ee2.jpg\n",
      "Remaining 57 rows: https://www.wikiaves.com.br/gaviao-real&t=mp&o=\n",
      "Image successfully downloaded!\n",
      "Trying original URL: https://s3.amazonaws.com/media.wikiaves.com.br/images/298/892838#_651a887ca147cf58af7bed4fe75128eb.jpg\n",
      "Trying modified URL (replace '#' with 'g'): https://s3.amazonaws.com/media.wikiaves.com.br/images/298/892838g_651a887ca147cf58af7bed4fe75128eb.jpg\n",
      "Remaining 56 rows: https://www.wikiaves.com.br/gaviao-real&t=mp&o=\n",
      "Image successfully downloaded!\n",
      "Trying original URL: https://s3.amazonaws.com/media.wikiaves.com.br/images/5692/2965888#_32b3497a531bb9d57dcbb71608685808.jpg\n",
      "Trying modified URL (replace '#' with 'g'): https://s3.amazonaws.com/media.wikiaves.com.br/images/5692/2965888g_32b3497a531bb9d57dcbb71608685808.jpg\n",
      "Remaining 55 rows: https://www.wikiaves.com.br/gaviao-real&t=mp&o=\n",
      "Image successfully downloaded!\n",
      "Trying original URL: https://s3.amazonaws.com/media.wikiaves.com.br/images/0592/2950654#_adb953c42578b832455b4dc77797ef92.jpg\n",
      "Trying modified URL (replace '#' with 'g'): https://s3.amazonaws.com/media.wikiaves.com.br/images/0592/2950654g_adb953c42578b832455b4dc77797ef92.jpg\n",
      "Remaining 54 rows: https://www.wikiaves.com.br/gaviao-real&t=mp&o=\n",
      "Image successfully downloaded!\n",
      "Trying original URL: https://s3.amazonaws.com/media.wikiaves.com.br/images/391/193928#_cad51c15c108cfe799ef36119edc93b0.jpg\n",
      "Trying modified URL (replace '#' with 'g'): https://s3.amazonaws.com/media.wikiaves.com.br/images/391/193928g_cad51c15c108cfe799ef36119edc93b0.jpg\n",
      "Remaining 53 rows: https://www.wikiaves.com.br/gaviao-real&t=mp&o=\n",
      "Image successfully downloaded!\n",
      "Trying original URL: https://s3.amazonaws.com/media.wikiaves.com.br/images/307/703651#_5f3cf64bd285f4684acd1a05c121e0b1.jpg\n",
      "Trying modified URL (replace '#' with 'g'): https://s3.amazonaws.com/media.wikiaves.com.br/images/307/703651g_5f3cf64bd285f4684acd1a05c121e0b1.jpg\n",
      "Remaining 52 rows: https://www.wikiaves.com.br/gaviao-real&t=mp&o=\n",
      "Image successfully downloaded!\n",
      "Trying original URL: https://s3.amazonaws.com/media.wikiaves.com.br/images/5581/1855295#_4381ce128ceb40b84cd537c0c0c90c7e.jpg\n",
      "Trying modified URL (replace '#' with 'g'): https://s3.amazonaws.com/media.wikiaves.com.br/images/5581/1855295g_4381ce128ceb40b84cd537c0c0c90c7e.jpg\n"
     ]
    },
    {
     "name": "stdout",
     "output_type": "stream",
     "text": [
      "Remaining 51 rows: https://www.wikiaves.com.br/gaviao-real&t=mp&o=\n",
      "Image successfully downloaded!\n",
      "Trying original URL: https://s3.amazonaws.com/media.wikiaves.com.br/images/5571/1755988#_438cbc7aa47141cdd79b88f860682b75.jpg\n",
      "Trying modified URL (replace '#' with 'g'): https://s3.amazonaws.com/media.wikiaves.com.br/images/5571/1755988g_438cbc7aa47141cdd79b88f860682b75.jpg\n",
      "Remaining 50 rows: https://www.wikiaves.com.br/gaviao-real&t=mp&o=\n",
      "Image successfully downloaded!\n",
      "Trying original URL: https://s3.amazonaws.com/media.wikiaves.com.br/images/221/122971#_f2851bfc083da25cf5c07f401f43cc8f.jpg\n",
      "Trying modified URL (replace '#' with 'g'): https://s3.amazonaws.com/media.wikiaves.com.br/images/221/122971g_f2851bfc083da25cf5c07f401f43cc8f.jpg\n",
      "Trying modified URL (replace '#' with ''): https://s3.amazonaws.com/media.wikiaves.com.br/images/221/122971_f2851bfc083da25cf5c07f401f43cc8f.jpg\n",
      "Remaining 49 rows: https://www.wikiaves.com.br/gaviao-real&t=mp&o=\n",
      "Image successfully downloaded!\n",
      "Trying original URL: https://s3.amazonaws.com/media.wikiaves.com.br/images/5893/3985923#_99b2708f4c7399746b75279a1301baf7.jpg\n",
      "Trying modified URL (replace '#' with 'g'): https://s3.amazonaws.com/media.wikiaves.com.br/images/5893/3985923g_99b2708f4c7399746b75279a1301baf7.jpg\n",
      "Remaining 48 rows: https://www.wikiaves.com.br/gaviao-real&t=mp&o=\n",
      "Image successfully downloaded!\n",
      "Trying original URL: https://s3.amazonaws.com/media.wikiaves.com.br/images/3953/3593284#_20a5ad70084d7719d76be0e3bf625f10.jpg\n",
      "Trying modified URL (replace '#' with 'g'): https://s3.amazonaws.com/media.wikiaves.com.br/images/3953/3593284g_20a5ad70084d7719d76be0e3bf625f10.jpg\n",
      "Remaining 47 rows: https://www.wikiaves.com.br/gaviao-real&t=mp&o=\n",
      "Image successfully downloaded!\n",
      "Trying original URL: https://s3.amazonaws.com/media.wikiaves.com.br/images/8052/2508236#_c6c75bb4ddc9c8073646f2ec910faab2.jpg\n",
      "Trying modified URL (replace '#' with 'g'): https://s3.amazonaws.com/media.wikiaves.com.br/images/8052/2508236g_c6c75bb4ddc9c8073646f2ec910faab2.jpg\n",
      "Remaining 46 rows: https://www.wikiaves.com.br/gaviao-real&t=mp&o=\n",
      "Image successfully downloaded!\n",
      "Trying original URL: https://s3.amazonaws.com/media.wikiaves.com.br/images/2392/2932733#_a56c29479f189eae53a22645274092b7.jpg\n",
      "Trying modified URL (replace '#' with 'g'): https://s3.amazonaws.com/media.wikiaves.com.br/images/2392/2932733g_a56c29479f189eae53a22645274092b7.jpg\n",
      "Remaining 45 rows: https://www.wikiaves.com.br/gaviao-real&t=mp&o=\n",
      "Image successfully downloaded!\n",
      "Trying original URL: https://s3.amazonaws.com/media.wikiaves.com.br/images/1491/1941696#_f3bc50621e275c3c654b4954d7d16a57.jpg\n",
      "Trying modified URL (replace '#' with 'g'): https://s3.amazonaws.com/media.wikiaves.com.br/images/1491/1941696g_f3bc50621e275c3c654b4954d7d16a57.jpg\n",
      "Remaining 44 rows: https://www.wikiaves.com.br/gaviao-real&t=mp&o=\n",
      "Image successfully downloaded!\n",
      "Trying original URL: https://s3.amazonaws.com/media.wikiaves.com.br/images/8101/1018992#_7852c94786846f51f2dbbc1127efea3a.jpg\n",
      "Trying modified URL (replace '#' with 'g'): https://s3.amazonaws.com/media.wikiaves.com.br/images/8101/1018992g_7852c94786846f51f2dbbc1127efea3a.jpg\n",
      "Remaining 43 rows: https://www.wikiaves.com.br/gaviao-real&t=mp&o=\n",
      "Image successfully downloaded!\n",
      "Trying original URL: https://s3.amazonaws.com/media.wikiaves.com.br/images/2283/3822693#_508e425595bee33cfd374f4ce0c8d44a.jpg\n",
      "Trying modified URL (replace '#' with 'g'): https://s3.amazonaws.com/media.wikiaves.com.br/images/2283/3822693g_508e425595bee33cfd374f4ce0c8d44a.jpg\n",
      "Trying modified URL (replace '#' with ''): https://s3.amazonaws.com/media.wikiaves.com.br/images/2283/3822693_508e425595bee33cfd374f4ce0c8d44a.jpg\n",
      "Remaining 42 rows: https://www.wikiaves.com.br/gaviao-real&t=mp&o=\n",
      "Image successfully downloaded!\n",
      "Trying original URL: https://s3.amazonaws.com/media.wikiaves.com.br/images/5073/3705988#_a0e14673bd9d0563ae8a976d7c244d11.jpg\n",
      "Trying modified URL (replace '#' with 'g'): https://s3.amazonaws.com/media.wikiaves.com.br/images/5073/3705988g_a0e14673bd9d0563ae8a976d7c244d11.jpg\n",
      "Remaining 41 rows: https://www.wikiaves.com.br/gaviao-real&t=mp&o=\n",
      "Image successfully downloaded!\n",
      "Trying original URL: https://s3.amazonaws.com/media.wikiaves.com.br/images/1792/2971732#_bc193f75f676402044ea8a9d6701ae19.jpg\n",
      "Trying modified URL (replace '#' with 'g'): https://s3.amazonaws.com/media.wikiaves.com.br/images/1792/2971732g_bc193f75f676402044ea8a9d6701ae19.jpg\n",
      "Remaining 40 rows: https://www.wikiaves.com.br/gaviao-real&t=mp&o=\n",
      "Image successfully downloaded!\n",
      "Trying original URL: https://s3.amazonaws.com/media.wikiaves.com.br/images/5292/2925984#_116e9345753e372e09e8d329ed971b06.jpg\n",
      "Trying modified URL (replace '#' with 'g'): https://s3.amazonaws.com/media.wikiaves.com.br/images/5292/2925984g_116e9345753e372e09e8d329ed971b06.jpg\n",
      "Remaining 39 rows: https://www.wikiaves.com.br/gaviao-real&t=mp&o=\n",
      "Image successfully downloaded!\n",
      "Trying original URL: https://s3.amazonaws.com/media.wikiaves.com.br/images/225/522628#_6b815aad818cb25fb76ef5e8c22a81f1.jpg\n",
      "Trying modified URL (replace '#' with 'g'): https://s3.amazonaws.com/media.wikiaves.com.br/images/225/522628g_6b815aad818cb25fb76ef5e8c22a81f1.jpg\n",
      "Remaining 38 rows: https://www.wikiaves.com.br/gaviao-real&t=mp&o=\n",
      "Image successfully downloaded!\n",
      "Trying original URL: https://s3.amazonaws.com/media.wikiaves.com.br/images/3445/5443588#_dc4cec9e85e34bcabbe6a81f9ac56c1b.jpg\n",
      "Trying modified URL (replace '#' with 'g'): https://s3.amazonaws.com/media.wikiaves.com.br/images/3445/5443588g_dc4cec9e85e34bcabbe6a81f9ac56c1b.jpg\n",
      "Remaining 37 rows: https://www.wikiaves.com.br/gaviao-real&t=mp&o=\n",
      "Image successfully downloaded!\n",
      "Trying original URL: https://s3.amazonaws.com/media.wikiaves.com.br/images/9034/4309202#_74a39245e847108f02b956ebe44f0e3f.jpg\n",
      "Trying modified URL (replace '#' with 'g'): https://s3.amazonaws.com/media.wikiaves.com.br/images/9034/4309202g_74a39245e847108f02b956ebe44f0e3f.jpg\n",
      "Remaining 36 rows: https://www.wikiaves.com.br/gaviao-real&t=mp&o=\n",
      "Image successfully downloaded!\n",
      "Trying original URL: https://s3.amazonaws.com/media.wikiaves.com.br/images/7052/2507150#_def7e15aa17d6e1a2bf75c4a3d4f9c81.jpg\n",
      "Trying modified URL (replace '#' with 'g'): https://s3.amazonaws.com/media.wikiaves.com.br/images/7052/2507150g_def7e15aa17d6e1a2bf75c4a3d4f9c81.jpg\n",
      "Remaining 35 rows: https://www.wikiaves.com.br/gaviao-real&t=mp&o=\n",
      "Image successfully downloaded!\n",
      "Trying original URL: https://s3.amazonaws.com/media.wikiaves.com.br/images/6501/1056034#_8ed30cfaefc123cd138a1a5a9c67941b.jpg\n",
      "Trying modified URL (replace '#' with 'g'): https://s3.amazonaws.com/media.wikiaves.com.br/images/6501/1056034g_8ed30cfaefc123cd138a1a5a9c67941b.jpg\n",
      "Trying modified URL (replace '#' with ''): https://s3.amazonaws.com/media.wikiaves.com.br/images/6501/1056034_8ed30cfaefc123cd138a1a5a9c67941b.jpg\n",
      "Remaining 34 rows: https://www.wikiaves.com.br/gaviao-real&t=mp&o=\n",
      "Image successfully downloaded!\n",
      "Trying original URL: https://s3.amazonaws.com/media.wikiaves.com.br/images/884/488584#_8e747137cb4800c2a8211d0483433085.jpg\n",
      "Trying modified URL (replace '#' with 'g'): https://s3.amazonaws.com/media.wikiaves.com.br/images/884/488584g_8e747137cb4800c2a8211d0483433085.jpg\n",
      "Trying modified URL (replace '#' with ''): https://s3.amazonaws.com/media.wikiaves.com.br/images/884/488584_8e747137cb4800c2a8211d0483433085.jpg\n",
      "Remaining 33 rows: https://www.wikiaves.com.br/gaviao-real&t=mp&o=\n",
      "Image successfully downloaded!\n",
      "Trying original URL: https://s3.amazonaws.com/media.wikiaves.com.br/images/6993/3996804#_2737721257439fcca54e94d8194475e9.jpg\n",
      "Trying modified URL (replace '#' with 'g'): https://s3.amazonaws.com/media.wikiaves.com.br/images/6993/3996804g_2737721257439fcca54e94d8194475e9.jpg\n",
      "Remaining 32 rows: https://www.wikiaves.com.br/gaviao-real&t=mp&o=\n",
      "Image successfully downloaded!\n",
      "Trying original URL: https://s3.amazonaws.com/media.wikiaves.com.br/images/057/750429#_f7e69902a24b488331f10fe45c26332f.jpg\n",
      "Trying modified URL (replace '#' with 'g'): https://s3.amazonaws.com/media.wikiaves.com.br/images/057/750429g_f7e69902a24b488331f10fe45c26332f.jpg\n",
      "Remaining 31 rows: https://www.wikiaves.com.br/gaviao-real&t=mp&o=\n",
      "Image successfully downloaded!\n",
      "Trying original URL: https://s3.amazonaws.com/media.wikiaves.com.br/images/03/30367#_d271bada99d28bcca63acb9cdfaa88c0.jpg\n"
     ]
    },
    {
     "name": "stdout",
     "output_type": "stream",
     "text": [
      "Trying modified URL (replace '#' with 'g'): https://s3.amazonaws.com/media.wikiaves.com.br/images/03/30367g_d271bada99d28bcca63acb9cdfaa88c0.jpg\n",
      "Remaining 30 rows: https://www.wikiaves.com.br/gaviao-real&t=mp&o=\n",
      "Image successfully downloaded!\n",
      "Trying original URL: https://s3.amazonaws.com/media.wikiaves.com.br/images/4402/2044456#_be3e514987aa3ea59b0b8c13a5493fcd.jpg\n",
      "Trying modified URL (replace '#' with 'g'): https://s3.amazonaws.com/media.wikiaves.com.br/images/4402/2044456g_be3e514987aa3ea59b0b8c13a5493fcd.jpg\n",
      "Remaining 29 rows: https://www.wikiaves.com.br/gaviao-real&t=mp&o=\n",
      "Image successfully downloaded!\n",
      "Trying original URL: https://s3.amazonaws.com/media.wikiaves.com.br/images/577/775731#_914c155f342b121f579e11cd667519b0.jpg\n",
      "Trying modified URL (replace '#' with 'g'): https://s3.amazonaws.com/media.wikiaves.com.br/images/577/775731g_914c155f342b121f579e11cd667519b0.jpg\n",
      "Remaining 28 rows: https://www.wikiaves.com.br/gaviao-real&t=mp&o=\n",
      "Image successfully downloaded!\n",
      "Trying original URL: https://s3.amazonaws.com/media.wikiaves.com.br/images/221/122970#_66c8d75827767ef66615c5cc82a580ad.jpg\n",
      "Trying modified URL (replace '#' with 'g'): https://s3.amazonaws.com/media.wikiaves.com.br/images/221/122970g_66c8d75827767ef66615c5cc82a580ad.jpg\n",
      "Trying modified URL (replace '#' with ''): https://s3.amazonaws.com/media.wikiaves.com.br/images/221/122970_66c8d75827767ef66615c5cc82a580ad.jpg\n",
      "Remaining 27 rows: https://www.wikiaves.com.br/gaviao-real&t=mp&o=\n",
      "Image successfully downloaded!\n",
      "Trying original URL: https://s3.amazonaws.com/media.wikiaves.com.br/images/8985/5898396#_184d04e17049578c352ea7472de8fef4.jpg\n",
      "Trying modified URL (replace '#' with 'g'): https://s3.amazonaws.com/media.wikiaves.com.br/images/8985/5898396g_184d04e17049578c352ea7472de8fef4.jpg\n",
      "Remaining 26 rows: https://www.wikiaves.com.br/gaviao-real&t=mp&o=\n",
      "Image successfully downloaded!\n",
      "Trying original URL: https://s3.amazonaws.com/media.wikiaves.com.br/images/7984/4897367#_e7d20db7a7a30b0d8ef5ea1c99ee97b5.jpg\n",
      "Trying modified URL (replace '#' with 'g'): https://s3.amazonaws.com/media.wikiaves.com.br/images/7984/4897367g_e7d20db7a7a30b0d8ef5ea1c99ee97b5.jpg\n",
      "Remaining 25 rows: https://www.wikiaves.com.br/gaviao-real&t=mp&o=\n",
      "Image successfully downloaded!\n",
      "Trying original URL: https://s3.amazonaws.com/media.wikiaves.com.br/images/6273/3726303#_a5261fcfbcbe3522c0e31ccf74c58c3f.jpg\n",
      "Trying modified URL (replace '#' with 'g'): https://s3.amazonaws.com/media.wikiaves.com.br/images/6273/3726303g_a5261fcfbcbe3522c0e31ccf74c58c3f.jpg\n",
      "Remaining 24 rows: https://www.wikiaves.com.br/gaviao-real&t=mp&o=\n",
      "Image successfully downloaded!\n",
      "Trying original URL: https://s3.amazonaws.com/media.wikiaves.com.br/images/9781/1879465#_abe7f765f83de187f94fbb30f2db8f3e.jpg\n",
      "Trying modified URL (replace '#' with 'g'): https://s3.amazonaws.com/media.wikiaves.com.br/images/9781/1879465g_abe7f765f83de187f94fbb30f2db8f3e.jpg\n",
      "Remaining 23 rows: https://www.wikiaves.com.br/gaviao-real&t=mp&o=\n",
      "Image successfully downloaded!\n",
      "Trying original URL: https://s3.amazonaws.com/media.wikiaves.com.br/images/8185/5818545#_fcbcb64ffc4e4bdbe90a636785667286.jpg\n",
      "Trying modified URL (replace '#' with 'g'): https://s3.amazonaws.com/media.wikiaves.com.br/images/8185/5818545g_fcbcb64ffc4e4bdbe90a636785667286.jpg\n",
      "Remaining 22 rows: https://www.wikiaves.com.br/gaviao-real&t=mp&o=\n",
      "Image successfully downloaded!\n",
      "Trying original URL: https://s3.amazonaws.com/media.wikiaves.com.br/images/4864/4684196#_fa79f8474b2cff6e7f95cde38f73eabf.jpg\n",
      "Trying modified URL (replace '#' with 'g'): https://s3.amazonaws.com/media.wikiaves.com.br/images/4864/4684196g_fa79f8474b2cff6e7f95cde38f73eabf.jpg\n",
      "Remaining 21 rows: https://www.wikiaves.com.br/gaviao-real&t=mp&o=\n",
      "Image successfully downloaded!\n",
      "Trying original URL: https://s3.amazonaws.com/media.wikiaves.com.br/images/4624/4264373#_efb960b4cf1b8ec95d69d3e4e224e175.jpg\n",
      "Trying modified URL (replace '#' with 'g'): https://s3.amazonaws.com/media.wikiaves.com.br/images/4624/4264373g_efb960b4cf1b8ec95d69d3e4e224e175.jpg\n",
      "Remaining 20 rows: https://www.wikiaves.com.br/gaviao-real&t=mp&o=\n",
      "Image successfully downloaded!\n",
      "Trying original URL: https://s3.amazonaws.com/media.wikiaves.com.br/images/1473/3741883#_0a67c872a4731b29e22ebe28a1232222.jpg\n",
      "Trying modified URL (replace '#' with 'g'): https://s3.amazonaws.com/media.wikiaves.com.br/images/1473/3741883g_0a67c872a4731b29e22ebe28a1232222.jpg\n",
      "Remaining 19 rows: https://www.wikiaves.com.br/gaviao-real&t=mp&o=\n",
      "Image successfully downloaded!\n",
      "Trying original URL: https://s3.amazonaws.com/media.wikiaves.com.br/images/0161/1610821#_acb85b9e4d18c411488ce4fe68fe7773.jpg\n",
      "Trying modified URL (replace '#' with 'g'): https://s3.amazonaws.com/media.wikiaves.com.br/images/0161/1610821g_acb85b9e4d18c411488ce4fe68fe7773.jpg\n",
      "Remaining 18 rows: https://www.wikiaves.com.br/gaviao-real&t=mp&o=\n",
      "Image successfully downloaded!\n",
      "Trying original URL: https://s3.amazonaws.com/media.wikiaves.com.br/images/1041/1401310#_aa896e535b06de376e71534955ecdfab.jpg\n",
      "Trying modified URL (replace '#' with 'g'): https://s3.amazonaws.com/media.wikiaves.com.br/images/1041/1401310g_aa896e535b06de376e71534955ecdfab.jpg\n",
      "Remaining 17 rows: https://www.wikiaves.com.br/gaviao-real&t=mp&o=\n",
      "Image successfully downloaded!\n",
      "Trying original URL: https://s3.amazonaws.com/media.wikiaves.com.br/images/61/16047#_eec33c598d0784f7937e645f699672e1.jpg\n",
      "Trying modified URL (replace '#' with 'g'): https://s3.amazonaws.com/media.wikiaves.com.br/images/61/16047g_eec33c598d0784f7937e645f699672e1.jpg\n",
      "Trying modified URL (replace '#' with ''): https://s3.amazonaws.com/media.wikiaves.com.br/images/61/16047_eec33c598d0784f7937e645f699672e1.jpg\n",
      "Remaining 16 rows: https://www.wikiaves.com.br/gaviao-real&t=mp&o=\n",
      "Image successfully downloaded!\n",
      "Trying original URL: https://s3.amazonaws.com/media.wikiaves.com.br/images/4722/2274745#_d3c4e43f961e31f799265786787321c2.jpg\n",
      "Trying modified URL (replace '#' with 'g'): https://s3.amazonaws.com/media.wikiaves.com.br/images/4722/2274745g_d3c4e43f961e31f799265786787321c2.jpg\n",
      "Remaining 15 rows: https://www.wikiaves.com.br/gaviao-real&t=mp&o=\n",
      "Image successfully downloaded!\n",
      "Trying original URL: https://s3.amazonaws.com/media.wikiaves.com.br/images/166/661458#_cff318f1dee089e08798e3608b3b047b.jpg\n",
      "Trying modified URL (replace '#' with 'g'): https://s3.amazonaws.com/media.wikiaves.com.br/images/166/661458g_cff318f1dee089e08798e3608b3b047b.jpg\n",
      "Remaining 14 rows: https://www.wikiaves.com.br/gaviao-real&t=mp&o=\n",
      "Image successfully downloaded!\n",
      "Trying original URL: https://s3.amazonaws.com/media.wikiaves.com.br/images/835/538420#_9fd5623eb03fc4344571ac652ee33190.jpg\n",
      "Trying modified URL (replace '#' with 'g'): https://s3.amazonaws.com/media.wikiaves.com.br/images/835/538420g_9fd5623eb03fc4344571ac652ee33190.jpg\n",
      "Remaining 13 rows: https://www.wikiaves.com.br/gaviao-real&t=mp&o=\n",
      "Image successfully downloaded!\n",
      "Trying original URL: https://s3.amazonaws.com/media.wikiaves.com.br/images/2044/4402476#_8b5d008ec71423ca32a7f789114c05e7.jpg\n",
      "Trying modified URL (replace '#' with 'g'): https://s3.amazonaws.com/media.wikiaves.com.br/images/2044/4402476g_8b5d008ec71423ca32a7f789114c05e7.jpg\n",
      "Remaining 12 rows: https://www.wikiaves.com.br/gaviao-real&t=mp&o=\n",
      "Image successfully downloaded!\n",
      "Trying original URL: https://s3.amazonaws.com/media.wikiaves.com.br/images/405/504652#_df9e20144dea4e15703588f3faedea95.jpg\n",
      "Trying modified URL (replace '#' with 'g'): https://s3.amazonaws.com/media.wikiaves.com.br/images/405/504652g_df9e20144dea4e15703588f3faedea95.jpg\n",
      "Remaining 11 rows: https://www.wikiaves.com.br/gaviao-real&t=mp&o=\n",
      "Image successfully downloaded!\n",
      "Trying original URL: https://s3.amazonaws.com/media.wikiaves.com.br/images/6561/1656507#_d78efe945533d3f82f8d85edc69a10de.jpg\n",
      "Trying modified URL (replace '#' with 'g'): https://s3.amazonaws.com/media.wikiaves.com.br/images/6561/1656507g_d78efe945533d3f82f8d85edc69a10de.jpg\n",
      "Remaining 10 rows: https://www.wikiaves.com.br/gaviao-real&t=mp&o=\n",
      "Image successfully downloaded!\n",
      "Trying original URL: https://s3.amazonaws.com/media.wikiaves.com.br/images/697/796606#_30b7315ad03643c806651a2b67704c7f.jpg\n",
      "Trying modified URL (replace '#' with 'g'): https://s3.amazonaws.com/media.wikiaves.com.br/images/697/796606g_30b7315ad03643c806651a2b67704c7f.jpg\n"
     ]
    },
    {
     "name": "stdout",
     "output_type": "stream",
     "text": [
      "Trying modified URL (replace '#' with ''): https://s3.amazonaws.com/media.wikiaves.com.br/images/697/796606_30b7315ad03643c806651a2b67704c7f.jpg\n",
      "Remaining 9 rows: https://www.wikiaves.com.br/gaviao-real&t=mp&o=\n",
      "Image successfully downloaded!\n",
      "Trying original URL: https://s3.amazonaws.com/media.wikiaves.com.br/images/8734/4378368#_4162aa598fa1ee1fe16ab65af149a99e.jpg\n",
      "Trying modified URL (replace '#' with 'g'): https://s3.amazonaws.com/media.wikiaves.com.br/images/8734/4378368g_4162aa598fa1ee1fe16ab65af149a99e.jpg\n",
      "Remaining 8 rows: https://www.wikiaves.com.br/gaviao-real&t=mp&o=\n",
      "Image successfully downloaded!\n",
      "Trying original URL: https://s3.amazonaws.com/media.wikiaves.com.br/images/8392/2938519#_99fe884fa50e6cf29b35e7e12204b2d0.jpg\n",
      "Trying modified URL (replace '#' with 'g'): https://s3.amazonaws.com/media.wikiaves.com.br/images/8392/2938519g_99fe884fa50e6cf29b35e7e12204b2d0.jpg\n",
      "Remaining 7 rows: https://www.wikiaves.com.br/gaviao-real&t=mp&o=\n",
      "Image successfully downloaded!\n",
      "Trying original URL: https://s3.amazonaws.com/media.wikiaves.com.br/images/279/972438#_d4a59f1e27b56c42ee468a82c440ea81.jpg\n",
      "Trying modified URL (replace '#' with 'g'): https://s3.amazonaws.com/media.wikiaves.com.br/images/279/972438g_d4a59f1e27b56c42ee468a82c440ea81.jpg\n",
      "Remaining 6 rows: https://www.wikiaves.com.br/gaviao-real&t=mp&o=\n",
      "Image successfully downloaded!\n",
      "Trying original URL: https://s3.amazonaws.com/media.wikiaves.com.br/images/4026/6204133#_2341b8f93b77303b1baa9bb0fb781b37.jpg\n",
      "Trying modified URL (replace '#' with 'g'): https://s3.amazonaws.com/media.wikiaves.com.br/images/4026/6204133g_2341b8f93b77303b1baa9bb0fb781b37.jpg\n",
      "Remaining 5 rows: https://www.wikiaves.com.br/gaviao-real&t=mp&o=\n",
      "Image successfully downloaded!\n",
      "Trying original URL: https://s3.amazonaws.com/media.wikiaves.com.br/images/9265/5629539#_4b79bd2de8a96a4ba587bbcecf3533d1.jpg\n",
      "Trying modified URL (replace '#' with 'g'): https://s3.amazonaws.com/media.wikiaves.com.br/images/9265/5629539g_4b79bd2de8a96a4ba587bbcecf3533d1.jpg\n",
      "Remaining 4 rows: https://www.wikiaves.com.br/gaviao-real&t=mp&o=\n",
      "Image successfully downloaded!\n",
      "Trying original URL: https://s3.amazonaws.com/media.wikiaves.com.br/images/8455/5548979#_63459def77457aec5af0a7462d0db4a4.jpg\n",
      "Trying modified URL (replace '#' with 'g'): https://s3.amazonaws.com/media.wikiaves.com.br/images/8455/5548979g_63459def77457aec5af0a7462d0db4a4.jpg\n",
      "Remaining 3 rows: https://www.wikiaves.com.br/gaviao-real&t=mp&o=\n",
      "Image successfully downloaded!\n",
      "Trying original URL: https://s3.amazonaws.com/media.wikiaves.com.br/images/3341/1433647#_f5dc8a23f8b535fc29c8530cebd56d8a.jpg\n",
      "Trying modified URL (replace '#' with 'g'): https://s3.amazonaws.com/media.wikiaves.com.br/images/3341/1433647g_f5dc8a23f8b535fc29c8530cebd56d8a.jpg\n",
      "Remaining 2 rows: https://www.wikiaves.com.br/gaviao-real&t=mp&o=\n",
      "Image successfully downloaded!\n",
      "Trying original URL: https://s3.amazonaws.com/media.wikiaves.com.br/images/3151/1513693#_ea01aa054344c97822b50949b8c09ba6.jpg\n",
      "Trying modified URL (replace '#' with 'g'): https://s3.amazonaws.com/media.wikiaves.com.br/images/3151/1513693g_ea01aa054344c97822b50949b8c09ba6.jpg\n",
      "Remaining 1 rows: https://www.wikiaves.com.br/gaviao-real&t=mp&o=\n",
      "Image successfully downloaded!\n"
     ]
    }
   ],
   "source": [
    "\n",
    "for specie in species_ids['id_species']:\n",
    "    print(specie)\n",
    "    df = get_species_pics(species_id = specie, num_pages=3, offset=3)\n",
    "    df = pd.merge(df,pd.json_normalize(df['sp']), left_index=True, right_index=True).drop(columns={'sp'})\n",
    "\n",
    "    # Loop over each row in the dataframe\n",
    "    for row, id_ in enumerate(df['idwiki']):\n",
    "        # Construct the link\n",
    "        link = f'https://www.wikiaves.com.br/{id_}&t=mp&o='\n",
    "        url = df['link'].iloc[row]\n",
    "\n",
    "        # Try to download the image with the first modification\n",
    "        try:\n",
    "            print(f\"Trying original URL: {url}\")\n",
    "            response = requests.get(url, stream=True)\n",
    "            time.sleep(.5)\n",
    "\n",
    "            # If the first attempt fails, replace '#' with 'g'\n",
    "            if response.status_code != 200:\n",
    "                url_modified_g = url.replace('#', 'g')\n",
    "                print(f\"Trying modified URL (replace '#' with 'g'): {url_modified_g}\")\n",
    "                response = requests.get(url_modified_g, stream=True)\n",
    "                time.sleep(.5)\n",
    "                # If the second attempt also fails, replace '#' with ''\n",
    "                if response.status_code != 200:\n",
    "                    url_modified_empty = url.replace('#', '')\n",
    "                    print(f\"Trying modified URL (replace '#' with ''): {url_modified_empty}\")\n",
    "                    response = requests.get(url_modified_empty, stream=True)\n",
    "                    time.sleep(.5)\n",
    "\n",
    "            # Print the progress\n",
    "            print(f'Remaining {len(df) - row} rows: {link}')\n",
    "\n",
    "            # Check if the request was successful after the replacements\n",
    "            if response.status_code == 200:\n",
    "                # Create the directory if it doesn't exist\n",
    "                image_folder = f\"images_folders\\\\{df['idwiki'].iloc[row]}_images\"\n",
    "                if not os.path.exists(image_folder):\n",
    "                    os.makedirs(image_folder)\n",
    "\n",
    "                # Open a file in binary write mode to save the image\n",
    "                image_path = os.path.join(image_folder, f\"image_id_{df['id_x'].iloc[row]}.jpg\")\n",
    "                with open(image_path, \"wb\") as file:\n",
    "                    # Write the content of the response to the file in chunks\n",
    "                    for chunk in response.iter_content():\n",
    "                        file.write(chunk)\n",
    "\n",
    "                print(\"Image successfully downloaded!\")\n",
    "            else:\n",
    "                print(f\"Failed to download image. Status code: {response.status_code}\")\n",
    "\n",
    "        except requests.exceptions.RequestException as e:\n",
    "            print(f\"Request failed: {e}\")\n",
    "\n",
    "        except Exception as e:\n",
    "            print(f\"An error occurred: {e}\")\n"
   ]
  },
  {
   "cell_type": "code",
   "execution_count": 9,
   "id": "bd2dea8a",
   "metadata": {},
   "outputs": [],
   "source": [
    "from PIL import Image\n",
    "import os\n",
    "\n",
    "def resize_images(directory, target_size=(256, 256)):\n",
    "    for subdir, _, files in os.walk(directory):\n",
    "        for file in files:\n",
    "            file_path = os.path.join(subdir, file)\n",
    "            try:\n",
    "                with Image.open(file_path) as img:\n",
    "                    img = img.resize(target_size, Image.ANTIALIAS)\n",
    "                    img.save(file_path)\n",
    "            except Exception as e:\n",
    "                print(f\"Error processing {file_path}: {e}\")\n",
    "\n",
    "# Resize images in the dataset\n",
    "#resize_images('images_folders', target_size=(512, 512))\n",
    "\n"
   ]
  },
  {
   "cell_type": "code",
   "execution_count": 61,
   "id": "238f6e62",
   "metadata": {},
   "outputs": [
    {
     "name": "stdout",
     "output_type": "stream",
     "text": [
      "Found 288 images belonging to 3 classes.\n",
      "Found 72 images belonging to 3 classes.\n",
      "Model: \"sequential\"\n",
      "_________________________________________________________________\n",
      " Layer (type)                Output Shape              Param #   \n",
      "=================================================================\n",
      " conv2d (Conv2D)             (None, 254, 254, 32)      896       \n",
      "                                                                 \n",
      " max_pooling2d (MaxPooling2  (None, 127, 127, 32)      0         \n",
      " D)                                                              \n",
      "                                                                 \n",
      " conv2d_1 (Conv2D)           (None, 125, 125, 16)      4624      \n",
      "                                                                 \n",
      " max_pooling2d_1 (MaxPoolin  (None, 62, 62, 16)        0         \n",
      " g2D)                                                            \n",
      "                                                                 \n",
      " conv2d_2 (Conv2D)           (None, 60, 60, 8)         1160      \n",
      "                                                                 \n",
      " max_pooling2d_2 (MaxPoolin  (None, 30, 30, 8)         0         \n",
      " g2D)                                                            \n",
      "                                                                 \n",
      " conv2d_3 (Conv2D)           (None, 28, 28, 8)         584       \n",
      "                                                                 \n",
      " max_pooling2d_3 (MaxPoolin  (None, 14, 14, 8)         0         \n",
      " g2D)                                                            \n",
      "                                                                 \n",
      " flatten (Flatten)           (None, 1568)              0         \n",
      "                                                                 \n",
      " dense (Dense)               (None, 16)                25104     \n",
      "                                                                 \n",
      " dense_1 (Dense)             (None, 3)                 51        \n",
      "                                                                 \n",
      "=================================================================\n",
      "Total params: 32419 (126.64 KB)\n",
      "Trainable params: 32419 (126.64 KB)\n",
      "Non-trainable params: 0 (0.00 Byte)\n",
      "_________________________________________________________________\n",
      "Epoch 1/50\n",
      "72/72 [==============================] - 118s 2s/step - loss: 1.0996 - accuracy: 0.3542 - val_loss: 1.0991 - val_accuracy: 0.3472\n",
      "Epoch 2/50\n",
      "72/72 [==============================] - 112s 2s/step - loss: 1.0949 - accuracy: 0.3681 - val_loss: 1.0892 - val_accuracy: 0.3333\n",
      "Epoch 3/50\n",
      "72/72 [==============================] - 113s 2s/step - loss: 1.0670 - accuracy: 0.4514 - val_loss: 1.0040 - val_accuracy: 0.5000\n",
      "Epoch 4/50\n",
      "72/72 [==============================] - 112s 2s/step - loss: 1.0173 - accuracy: 0.5069 - val_loss: 0.9711 - val_accuracy: 0.5139\n",
      "Epoch 5/50\n",
      "72/72 [==============================] - 113s 2s/step - loss: 0.9510 - accuracy: 0.5069 - val_loss: 1.1378 - val_accuracy: 0.3611\n",
      "Epoch 6/50\n",
      "72/72 [==============================] - 112s 2s/step - loss: 0.9819 - accuracy: 0.4965 - val_loss: 0.9672 - val_accuracy: 0.5278\n",
      "Epoch 7/50\n",
      "72/72 [==============================] - 112s 2s/step - loss: 0.9278 - accuracy: 0.5347 - val_loss: 0.8858 - val_accuracy: 0.5833\n",
      "Epoch 8/50\n",
      "72/72 [==============================] - 113s 2s/step - loss: 0.9454 - accuracy: 0.5486 - val_loss: 0.9162 - val_accuracy: 0.5833\n",
      "Epoch 9/50\n",
      "72/72 [==============================] - 113s 2s/step - loss: 0.8735 - accuracy: 0.5972 - val_loss: 0.8034 - val_accuracy: 0.6389\n",
      "Epoch 10/50\n",
      "72/72 [==============================] - 112s 2s/step - loss: 0.8355 - accuracy: 0.6458 - val_loss: 0.8317 - val_accuracy: 0.6250\n",
      "Epoch 11/50\n",
      "72/72 [==============================] - 113s 2s/step - loss: 0.8751 - accuracy: 0.6389 - val_loss: 0.8204 - val_accuracy: 0.6389\n",
      "Epoch 12/50\n",
      "72/72 [==============================] - 112s 2s/step - loss: 0.8261 - accuracy: 0.6042 - val_loss: 0.9900 - val_accuracy: 0.6667\n",
      "Epoch 13/50\n",
      "72/72 [==============================] - 112s 2s/step - loss: 0.8024 - accuracy: 0.6493 - val_loss: 0.7389 - val_accuracy: 0.7083\n",
      "Epoch 14/50\n",
      "72/72 [==============================] - 112s 2s/step - loss: 0.7742 - accuracy: 0.6771 - val_loss: 0.9648 - val_accuracy: 0.5694\n",
      "Epoch 15/50\n",
      "72/72 [==============================] - 112s 2s/step - loss: 0.7674 - accuracy: 0.6667 - val_loss: 0.8023 - val_accuracy: 0.6528\n",
      "Epoch 16/50\n",
      "72/72 [==============================] - 374s 5s/step - loss: 0.7626 - accuracy: 0.6875 - val_loss: 0.6830 - val_accuracy: 0.7361\n",
      "Epoch 17/50\n",
      "72/72 [==============================] - 98s 1s/step - loss: 0.7310 - accuracy: 0.6840 - val_loss: 0.7406 - val_accuracy: 0.7222\n",
      "Epoch 18/50\n",
      "72/72 [==============================] - 113s 2s/step - loss: 0.8091 - accuracy: 0.6458 - val_loss: 0.8059 - val_accuracy: 0.6389\n",
      "Epoch 19/50\n",
      "72/72 [==============================] - 112s 2s/step - loss: 0.7668 - accuracy: 0.6736 - val_loss: 0.7788 - val_accuracy: 0.6528\n",
      "Epoch 20/50\n",
      "72/72 [==============================] - 112s 2s/step - loss: 0.7530 - accuracy: 0.7014 - val_loss: 0.7281 - val_accuracy: 0.7083\n",
      "Epoch 21/50\n",
      "72/72 [==============================] - 112s 2s/step - loss: 0.7641 - accuracy: 0.6736 - val_loss: 0.8030 - val_accuracy: 0.6806\n",
      "Epoch 22/50\n",
      "72/72 [==============================] - 113s 2s/step - loss: 0.7382 - accuracy: 0.6979 - val_loss: 0.8298 - val_accuracy: 0.6389\n",
      "Epoch 23/50\n",
      "72/72 [==============================] - 112s 2s/step - loss: 0.7001 - accuracy: 0.7222 - val_loss: 0.7273 - val_accuracy: 0.7222\n",
      "Epoch 24/50\n",
      "72/72 [==============================] - 112s 2s/step - loss: 0.6862 - accuracy: 0.7083 - val_loss: 0.7122 - val_accuracy: 0.7083\n",
      "Epoch 25/50\n",
      "72/72 [==============================] - 113s 2s/step - loss: 0.6852 - accuracy: 0.7222 - val_loss: 0.7210 - val_accuracy: 0.7083\n",
      "Epoch 26/50\n",
      "72/72 [==============================] - 114s 2s/step - loss: 0.6976 - accuracy: 0.7153 - val_loss: 0.6927 - val_accuracy: 0.7500\n",
      "Epoch 27/50\n",
      "72/72 [==============================] - 123s 2s/step - loss: 0.7031 - accuracy: 0.7083 - val_loss: 0.6151 - val_accuracy: 0.7778\n",
      "Epoch 28/50\n",
      "72/72 [==============================] - 114s 2s/step - loss: 0.6514 - accuracy: 0.7118 - val_loss: 0.7288 - val_accuracy: 0.7361\n",
      "Epoch 29/50\n",
      "72/72 [==============================] - 125s 2s/step - loss: 0.6612 - accuracy: 0.7500 - val_loss: 0.6958 - val_accuracy: 0.7639\n",
      "Epoch 30/50\n",
      "72/72 [==============================] - 100s 1s/step - loss: 0.6769 - accuracy: 0.7188 - val_loss: 0.7077 - val_accuracy: 0.6806\n",
      "Epoch 31/50\n",
      "72/72 [==============================] - 69s 951ms/step - loss: 0.6528 - accuracy: 0.7292 - val_loss: 0.6868 - val_accuracy: 0.7639\n",
      "Epoch 32/50\n",
      "72/72 [==============================] - 71s 984ms/step - loss: 0.6085 - accuracy: 0.7674 - val_loss: 0.7426 - val_accuracy: 0.7639\n",
      "Epoch 33/50\n",
      "72/72 [==============================] - 72s 993ms/step - loss: 0.6395 - accuracy: 0.7396 - val_loss: 0.6914 - val_accuracy: 0.7361\n",
      "Epoch 34/50\n",
      "72/72 [==============================] - 9686s 136s/step - loss: 0.5850 - accuracy: 0.7431 - val_loss: 0.7644 - val_accuracy: 0.7083\n",
      "Epoch 35/50\n",
      "72/72 [==============================] - 185s 3s/step - loss: 0.5888 - accuracy: 0.7465 - val_loss: 0.8025 - val_accuracy: 0.6806\n",
      "Epoch 36/50\n",
      "72/72 [==============================] - 206s 3s/step - loss: 0.6094 - accuracy: 0.7326 - val_loss: 0.5825 - val_accuracy: 0.7778\n",
      "Epoch 37/50\n",
      "72/72 [==============================] - 181s 3s/step - loss: 0.6293 - accuracy: 0.7292 - val_loss: 0.6731 - val_accuracy: 0.7639\n",
      "Epoch 38/50\n",
      "72/72 [==============================] - 935s 13s/step - loss: 0.5742 - accuracy: 0.7708 - val_loss: 0.7044 - val_accuracy: 0.7083\n",
      "Epoch 39/50\n",
      "72/72 [==============================] - 230s 3s/step - loss: 0.5777 - accuracy: 0.7326 - val_loss: 0.7069 - val_accuracy: 0.7083\n",
      "Epoch 40/50\n",
      "72/72 [==============================] - 63s 869ms/step - loss: 0.5974 - accuracy: 0.7569 - val_loss: 0.6381 - val_accuracy: 0.7639\n",
      "Epoch 41/50\n",
      "72/72 [==============================] - 70s 970ms/step - loss: 0.5402 - accuracy: 0.7812 - val_loss: 0.6733 - val_accuracy: 0.7222\n",
      "Epoch 42/50\n",
      "72/72 [==============================] - 71s 982ms/step - loss: 0.6085 - accuracy: 0.7431 - val_loss: 0.6191 - val_accuracy: 0.7639\n"
     ]
    },
    {
     "name": "stdout",
     "output_type": "stream",
     "text": [
      "Epoch 43/50\n",
      "72/72 [==============================] - 70s 978ms/step - loss: 0.5672 - accuracy: 0.7535 - val_loss: 0.7563 - val_accuracy: 0.6806\n",
      "Epoch 44/50\n",
      "72/72 [==============================] - 72s 996ms/step - loss: 0.6050 - accuracy: 0.7639 - val_loss: 0.6821 - val_accuracy: 0.6806\n",
      "Epoch 45/50\n",
      "72/72 [==============================] - 72s 1s/step - loss: 0.6000 - accuracy: 0.7639 - val_loss: 0.6746 - val_accuracy: 0.7222\n",
      "Epoch 46/50\n",
      "72/72 [==============================] - 73s 1s/step - loss: 0.5126 - accuracy: 0.7778 - val_loss: 0.6822 - val_accuracy: 0.7500\n",
      "Epoch 47/50\n",
      "72/72 [==============================] - 74s 1s/step - loss: 0.4604 - accuracy: 0.8125 - val_loss: 0.6688 - val_accuracy: 0.7500\n",
      "Epoch 48/50\n",
      "72/72 [==============================] - 74s 1s/step - loss: 0.5352 - accuracy: 0.8021 - val_loss: 0.7141 - val_accuracy: 0.7500\n",
      "Epoch 49/50\n",
      "72/72 [==============================] - 74s 1s/step - loss: 0.5550 - accuracy: 0.7743 - val_loss: 0.7985 - val_accuracy: 0.6806\n",
      "Epoch 50/50\n",
      "72/72 [==============================] - 76s 1s/step - loss: 0.5518 - accuracy: 0.8021 - val_loss: 0.5679 - val_accuracy: 0.8333\n"
     ]
    }
   ],
   "source": [
    "import tensorflow as tf\n",
    "from tensorflow.keras.preprocessing.image import ImageDataGenerator\n",
    "from tensorflow.keras import layers, models\n",
    "from PIL import ImageFile\n",
    "import os\n",
    "from tensorflow.keras import mixed_precision\n",
    "\n",
    "# Enable mixed precision\n",
    "mixed_precision.set_global_policy('mixed_float16')\n",
    "\n",
    "\n",
    "tf.keras.backend.clear_session()\n",
    "\n",
    "\n",
    "ImageFile.LOAD_TRUNCATED_IMAGES = True  # Skip corrupt images\n",
    "\n",
    "# Define the path to your dataset\n",
    "dataset_dir = 'images_folders'\n",
    "\n",
    "# Set parameters\n",
    "image_size = (256, 256)  # Reduced image size\n",
    "batch_size = 4           # Reduced batch size\n",
    "num_classes = len(os.listdir(dataset_dir))\n",
    "epochs = 50\n",
    "\n",
    "# Data augmentation and rescaling\n",
    "train_datagen = ImageDataGenerator(\n",
    "    rescale=1./255,\n",
    "    rotation_range=20,\n",
    "    width_shift_range=0.2,\n",
    "    height_shift_range=0.2,\n",
    "    shear_range=0.2,\n",
    "    zoom_range=0.2,\n",
    "    horizontal_flip=True,\n",
    "    fill_mode='nearest',\n",
    "    validation_split=0.2\n",
    ")\n",
    "\n",
    "# Load training and validation data\n",
    "train_generator = train_datagen.flow_from_directory(\n",
    "    dataset_dir,\n",
    "    target_size=image_size,\n",
    "    batch_size=batch_size,\n",
    "    class_mode='categorical',\n",
    "    subset='training',\n",
    "    color_mode='rgb',\n",
    "    shuffle=True\n",
    ")\n",
    "\n",
    "validation_generator = train_datagen.flow_from_directory(\n",
    "    dataset_dir,\n",
    "    target_size=image_size,\n",
    "    batch_size=batch_size,\n",
    "    class_mode='categorical',\n",
    "    subset='validation',\n",
    "    color_mode='rgb'\n",
    ")\n",
    "\n",
    "# Enable mixed precision training (if supported)\n",
    "from tensorflow.keras import mixed_precision\n",
    "mixed_precision.set_global_policy('mixed_float16')\n",
    "\n",
    "# Build the CNN model\n",
    "model = models.Sequential([\n",
    "    layers.Conv2D(32, (3, 3), activation='relu', input_shape=(image_size[0], image_size[1], 3)),\n",
    "    layers.MaxPooling2D((2, 2)),\n",
    "    layers.Conv2D(16, (3, 3), activation='relu'),\n",
    "    layers.MaxPooling2D((2, 2)),\n",
    "    layers.Conv2D(8, (3, 3), activation='relu'),\n",
    "    layers.MaxPooling2D((2, 2)),\n",
    "    layers.Conv2D(8, (3, 3), activation='relu'),\n",
    "    layers.MaxPooling2D((2, 2)),\n",
    "    layers.Flatten(),\n",
    "    layers.Dense(16, activation='relu'),\n",
    "    layers.Dense(num_classes, activation='softmax')\n",
    "])\n",
    "\n",
    "# Compile the model\n",
    "model.compile(optimizer='adam',\n",
    "              loss='categorical_crossentropy',\n",
    "              metrics=['accuracy'])\n",
    "\n",
    "# Display the model architecture\n",
    "model.summary()\n",
    "\n",
    "# Clear any previous session (useful if you're running this in a notebook environment)\n",
    "tf.keras.backend.clear_session()\n",
    "\n",
    "# Train the model\n",
    "history = model.fit(\n",
    "    train_generator,\n",
    "    epochs=epochs,\n",
    "    validation_data=validation_generator\n",
    ")\n",
    "\n",
    "# Save the trained model\n",
    "model.save('bird_species_classifier.keras')\n"
   ]
  },
  {
   "cell_type": "code",
   "execution_count": 62,
   "id": "5f1725b0",
   "metadata": {},
   "outputs": [
    {
     "name": "stderr",
     "output_type": "stream",
     "text": [
      "C:\\Users\\caoco\\anaconda3\\Lib\\site-packages\\sklearn\\preprocessing\\_encoders.py:808: FutureWarning:\n",
      "\n",
      "`sparse` was renamed to `sparse_output` in version 1.2 and will be removed in 1.4. `sparse_output` is ignored unless you leave `sparse` to its default value.\n",
      "\n"
     ]
    }
   ],
   "source": [
    "from sklearn.preprocessing import OneHotEncoder\n",
    "\n",
    "# Assuming true_labels is a 1D array with class indices\n",
    "encoder = OneHotEncoder(sparse=False)\n",
    "true_labels_one_hot = encoder.fit_transform(true_labels.reshape(-1, 1))\n"
   ]
  },
  {
   "cell_type": "code",
   "execution_count": 63,
   "id": "1fe0e217",
   "metadata": {},
   "outputs": [
    {
     "name": "stdout",
     "output_type": "stream",
     "text": [
      "18/18 [==============================] - 2s 109ms/step\n"
     ]
    },
    {
     "data": {
      "application/vnd.plotly.v1+json": {
       "config": {
        "plotlyServerURL": "https://plot.ly"
       },
       "data": [
        {
         "colorscale": [
          [
           0,
           "#440154"
          ],
          [
           0.1111111111111111,
           "#482878"
          ],
          [
           0.2222222222222222,
           "#3e4989"
          ],
          [
           0.3333333333333333,
           "#31688e"
          ],
          [
           0.4444444444444444,
           "#26828e"
          ],
          [
           0.5555555555555556,
           "#1f9e89"
          ],
          [
           0.6666666666666666,
           "#35b779"
          ],
          [
           0.7777777777777778,
           "#6ece58"
          ],
          [
           0.8888888888888888,
           "#b5de2b"
          ],
          [
           1,
           "#fde725"
          ]
         ],
         "reversescale": false,
         "showscale": false,
         "type": "heatmap",
         "x": [
          "coruja-buraqueira_images",
          "gaviao-real_images",
          "urutau_images"
         ],
         "y": [
          "coruja-buraqueira_images",
          "gaviao-real_images",
          "urutau_images"
         ],
         "z": [
          [
           6,
           6,
           12
          ],
          [
           11,
           4,
           9
          ],
          [
           7,
           10,
           7
          ]
         ]
        }
       ],
       "layout": {
        "annotations": [
         {
          "font": {
           "color": "#FFFFFF"
          },
          "showarrow": false,
          "text": "6",
          "x": "coruja-buraqueira_images",
          "xref": "x",
          "y": "coruja-buraqueira_images",
          "yref": "y"
         },
         {
          "font": {
           "color": "#FFFFFF"
          },
          "showarrow": false,
          "text": "6",
          "x": "gaviao-real_images",
          "xref": "x",
          "y": "coruja-buraqueira_images",
          "yref": "y"
         },
         {
          "font": {
           "color": "#000000"
          },
          "showarrow": false,
          "text": "12",
          "x": "urutau_images",
          "xref": "x",
          "y": "coruja-buraqueira_images",
          "yref": "y"
         },
         {
          "font": {
           "color": "#000000"
          },
          "showarrow": false,
          "text": "11",
          "x": "coruja-buraqueira_images",
          "xref": "x",
          "y": "gaviao-real_images",
          "yref": "y"
         },
         {
          "font": {
           "color": "#FFFFFF"
          },
          "showarrow": false,
          "text": "4",
          "x": "gaviao-real_images",
          "xref": "x",
          "y": "gaviao-real_images",
          "yref": "y"
         },
         {
          "font": {
           "color": "#000000"
          },
          "showarrow": false,
          "text": "9",
          "x": "urutau_images",
          "xref": "x",
          "y": "gaviao-real_images",
          "yref": "y"
         },
         {
          "font": {
           "color": "#FFFFFF"
          },
          "showarrow": false,
          "text": "7",
          "x": "coruja-buraqueira_images",
          "xref": "x",
          "y": "urutau_images",
          "yref": "y"
         },
         {
          "font": {
           "color": "#000000"
          },
          "showarrow": false,
          "text": "10",
          "x": "gaviao-real_images",
          "xref": "x",
          "y": "urutau_images",
          "yref": "y"
         },
         {
          "font": {
           "color": "#FFFFFF"
          },
          "showarrow": false,
          "text": "7",
          "x": "urutau_images",
          "xref": "x",
          "y": "urutau_images",
          "yref": "y"
         }
        ],
        "template": {
         "data": {
          "bar": [
           {
            "error_x": {
             "color": "#2a3f5f"
            },
            "error_y": {
             "color": "#2a3f5f"
            },
            "marker": {
             "line": {
              "color": "#E5ECF6",
              "width": 0.5
             },
             "pattern": {
              "fillmode": "overlay",
              "size": 10,
              "solidity": 0.2
             }
            },
            "type": "bar"
           }
          ],
          "barpolar": [
           {
            "marker": {
             "line": {
              "color": "#E5ECF6",
              "width": 0.5
             },
             "pattern": {
              "fillmode": "overlay",
              "size": 10,
              "solidity": 0.2
             }
            },
            "type": "barpolar"
           }
          ],
          "carpet": [
           {
            "aaxis": {
             "endlinecolor": "#2a3f5f",
             "gridcolor": "white",
             "linecolor": "white",
             "minorgridcolor": "white",
             "startlinecolor": "#2a3f5f"
            },
            "baxis": {
             "endlinecolor": "#2a3f5f",
             "gridcolor": "white",
             "linecolor": "white",
             "minorgridcolor": "white",
             "startlinecolor": "#2a3f5f"
            },
            "type": "carpet"
           }
          ],
          "choropleth": [
           {
            "colorbar": {
             "outlinewidth": 0,
             "ticks": ""
            },
            "type": "choropleth"
           }
          ],
          "contour": [
           {
            "colorbar": {
             "outlinewidth": 0,
             "ticks": ""
            },
            "colorscale": [
             [
              0,
              "#0d0887"
             ],
             [
              0.1111111111111111,
              "#46039f"
             ],
             [
              0.2222222222222222,
              "#7201a8"
             ],
             [
              0.3333333333333333,
              "#9c179e"
             ],
             [
              0.4444444444444444,
              "#bd3786"
             ],
             [
              0.5555555555555556,
              "#d8576b"
             ],
             [
              0.6666666666666666,
              "#ed7953"
             ],
             [
              0.7777777777777778,
              "#fb9f3a"
             ],
             [
              0.8888888888888888,
              "#fdca26"
             ],
             [
              1,
              "#f0f921"
             ]
            ],
            "type": "contour"
           }
          ],
          "contourcarpet": [
           {
            "colorbar": {
             "outlinewidth": 0,
             "ticks": ""
            },
            "type": "contourcarpet"
           }
          ],
          "heatmap": [
           {
            "colorbar": {
             "outlinewidth": 0,
             "ticks": ""
            },
            "colorscale": [
             [
              0,
              "#0d0887"
             ],
             [
              0.1111111111111111,
              "#46039f"
             ],
             [
              0.2222222222222222,
              "#7201a8"
             ],
             [
              0.3333333333333333,
              "#9c179e"
             ],
             [
              0.4444444444444444,
              "#bd3786"
             ],
             [
              0.5555555555555556,
              "#d8576b"
             ],
             [
              0.6666666666666666,
              "#ed7953"
             ],
             [
              0.7777777777777778,
              "#fb9f3a"
             ],
             [
              0.8888888888888888,
              "#fdca26"
             ],
             [
              1,
              "#f0f921"
             ]
            ],
            "type": "heatmap"
           }
          ],
          "heatmapgl": [
           {
            "colorbar": {
             "outlinewidth": 0,
             "ticks": ""
            },
            "colorscale": [
             [
              0,
              "#0d0887"
             ],
             [
              0.1111111111111111,
              "#46039f"
             ],
             [
              0.2222222222222222,
              "#7201a8"
             ],
             [
              0.3333333333333333,
              "#9c179e"
             ],
             [
              0.4444444444444444,
              "#bd3786"
             ],
             [
              0.5555555555555556,
              "#d8576b"
             ],
             [
              0.6666666666666666,
              "#ed7953"
             ],
             [
              0.7777777777777778,
              "#fb9f3a"
             ],
             [
              0.8888888888888888,
              "#fdca26"
             ],
             [
              1,
              "#f0f921"
             ]
            ],
            "type": "heatmapgl"
           }
          ],
          "histogram": [
           {
            "marker": {
             "pattern": {
              "fillmode": "overlay",
              "size": 10,
              "solidity": 0.2
             }
            },
            "type": "histogram"
           }
          ],
          "histogram2d": [
           {
            "colorbar": {
             "outlinewidth": 0,
             "ticks": ""
            },
            "colorscale": [
             [
              0,
              "#0d0887"
             ],
             [
              0.1111111111111111,
              "#46039f"
             ],
             [
              0.2222222222222222,
              "#7201a8"
             ],
             [
              0.3333333333333333,
              "#9c179e"
             ],
             [
              0.4444444444444444,
              "#bd3786"
             ],
             [
              0.5555555555555556,
              "#d8576b"
             ],
             [
              0.6666666666666666,
              "#ed7953"
             ],
             [
              0.7777777777777778,
              "#fb9f3a"
             ],
             [
              0.8888888888888888,
              "#fdca26"
             ],
             [
              1,
              "#f0f921"
             ]
            ],
            "type": "histogram2d"
           }
          ],
          "histogram2dcontour": [
           {
            "colorbar": {
             "outlinewidth": 0,
             "ticks": ""
            },
            "colorscale": [
             [
              0,
              "#0d0887"
             ],
             [
              0.1111111111111111,
              "#46039f"
             ],
             [
              0.2222222222222222,
              "#7201a8"
             ],
             [
              0.3333333333333333,
              "#9c179e"
             ],
             [
              0.4444444444444444,
              "#bd3786"
             ],
             [
              0.5555555555555556,
              "#d8576b"
             ],
             [
              0.6666666666666666,
              "#ed7953"
             ],
             [
              0.7777777777777778,
              "#fb9f3a"
             ],
             [
              0.8888888888888888,
              "#fdca26"
             ],
             [
              1,
              "#f0f921"
             ]
            ],
            "type": "histogram2dcontour"
           }
          ],
          "mesh3d": [
           {
            "colorbar": {
             "outlinewidth": 0,
             "ticks": ""
            },
            "type": "mesh3d"
           }
          ],
          "parcoords": [
           {
            "line": {
             "colorbar": {
              "outlinewidth": 0,
              "ticks": ""
             }
            },
            "type": "parcoords"
           }
          ],
          "pie": [
           {
            "automargin": true,
            "type": "pie"
           }
          ],
          "scatter": [
           {
            "fillpattern": {
             "fillmode": "overlay",
             "size": 10,
             "solidity": 0.2
            },
            "type": "scatter"
           }
          ],
          "scatter3d": [
           {
            "line": {
             "colorbar": {
              "outlinewidth": 0,
              "ticks": ""
             }
            },
            "marker": {
             "colorbar": {
              "outlinewidth": 0,
              "ticks": ""
             }
            },
            "type": "scatter3d"
           }
          ],
          "scattercarpet": [
           {
            "marker": {
             "colorbar": {
              "outlinewidth": 0,
              "ticks": ""
             }
            },
            "type": "scattercarpet"
           }
          ],
          "scattergeo": [
           {
            "marker": {
             "colorbar": {
              "outlinewidth": 0,
              "ticks": ""
             }
            },
            "type": "scattergeo"
           }
          ],
          "scattergl": [
           {
            "marker": {
             "colorbar": {
              "outlinewidth": 0,
              "ticks": ""
             }
            },
            "type": "scattergl"
           }
          ],
          "scattermapbox": [
           {
            "marker": {
             "colorbar": {
              "outlinewidth": 0,
              "ticks": ""
             }
            },
            "type": "scattermapbox"
           }
          ],
          "scatterpolar": [
           {
            "marker": {
             "colorbar": {
              "outlinewidth": 0,
              "ticks": ""
             }
            },
            "type": "scatterpolar"
           }
          ],
          "scatterpolargl": [
           {
            "marker": {
             "colorbar": {
              "outlinewidth": 0,
              "ticks": ""
             }
            },
            "type": "scatterpolargl"
           }
          ],
          "scatterternary": [
           {
            "marker": {
             "colorbar": {
              "outlinewidth": 0,
              "ticks": ""
             }
            },
            "type": "scatterternary"
           }
          ],
          "surface": [
           {
            "colorbar": {
             "outlinewidth": 0,
             "ticks": ""
            },
            "colorscale": [
             [
              0,
              "#0d0887"
             ],
             [
              0.1111111111111111,
              "#46039f"
             ],
             [
              0.2222222222222222,
              "#7201a8"
             ],
             [
              0.3333333333333333,
              "#9c179e"
             ],
             [
              0.4444444444444444,
              "#bd3786"
             ],
             [
              0.5555555555555556,
              "#d8576b"
             ],
             [
              0.6666666666666666,
              "#ed7953"
             ],
             [
              0.7777777777777778,
              "#fb9f3a"
             ],
             [
              0.8888888888888888,
              "#fdca26"
             ],
             [
              1,
              "#f0f921"
             ]
            ],
            "type": "surface"
           }
          ],
          "table": [
           {
            "cells": {
             "fill": {
              "color": "#EBF0F8"
             },
             "line": {
              "color": "white"
             }
            },
            "header": {
             "fill": {
              "color": "#C8D4E3"
             },
             "line": {
              "color": "white"
             }
            },
            "type": "table"
           }
          ]
         },
         "layout": {
          "annotationdefaults": {
           "arrowcolor": "#2a3f5f",
           "arrowhead": 0,
           "arrowwidth": 1
          },
          "autotypenumbers": "strict",
          "coloraxis": {
           "colorbar": {
            "outlinewidth": 0,
            "ticks": ""
           }
          },
          "colorscale": {
           "diverging": [
            [
             0,
             "#8e0152"
            ],
            [
             0.1,
             "#c51b7d"
            ],
            [
             0.2,
             "#de77ae"
            ],
            [
             0.3,
             "#f1b6da"
            ],
            [
             0.4,
             "#fde0ef"
            ],
            [
             0.5,
             "#f7f7f7"
            ],
            [
             0.6,
             "#e6f5d0"
            ],
            [
             0.7,
             "#b8e186"
            ],
            [
             0.8,
             "#7fbc41"
            ],
            [
             0.9,
             "#4d9221"
            ],
            [
             1,
             "#276419"
            ]
           ],
           "sequential": [
            [
             0,
             "#0d0887"
            ],
            [
             0.1111111111111111,
             "#46039f"
            ],
            [
             0.2222222222222222,
             "#7201a8"
            ],
            [
             0.3333333333333333,
             "#9c179e"
            ],
            [
             0.4444444444444444,
             "#bd3786"
            ],
            [
             0.5555555555555556,
             "#d8576b"
            ],
            [
             0.6666666666666666,
             "#ed7953"
            ],
            [
             0.7777777777777778,
             "#fb9f3a"
            ],
            [
             0.8888888888888888,
             "#fdca26"
            ],
            [
             1,
             "#f0f921"
            ]
           ],
           "sequentialminus": [
            [
             0,
             "#0d0887"
            ],
            [
             0.1111111111111111,
             "#46039f"
            ],
            [
             0.2222222222222222,
             "#7201a8"
            ],
            [
             0.3333333333333333,
             "#9c179e"
            ],
            [
             0.4444444444444444,
             "#bd3786"
            ],
            [
             0.5555555555555556,
             "#d8576b"
            ],
            [
             0.6666666666666666,
             "#ed7953"
            ],
            [
             0.7777777777777778,
             "#fb9f3a"
            ],
            [
             0.8888888888888888,
             "#fdca26"
            ],
            [
             1,
             "#f0f921"
            ]
           ]
          },
          "colorway": [
           "#636efa",
           "#EF553B",
           "#00cc96",
           "#ab63fa",
           "#FFA15A",
           "#19d3f3",
           "#FF6692",
           "#B6E880",
           "#FF97FF",
           "#FECB52"
          ],
          "font": {
           "color": "#2a3f5f"
          },
          "geo": {
           "bgcolor": "white",
           "lakecolor": "white",
           "landcolor": "#E5ECF6",
           "showlakes": true,
           "showland": true,
           "subunitcolor": "white"
          },
          "hoverlabel": {
           "align": "left"
          },
          "hovermode": "closest",
          "mapbox": {
           "style": "light"
          },
          "paper_bgcolor": "white",
          "plot_bgcolor": "#E5ECF6",
          "polar": {
           "angularaxis": {
            "gridcolor": "white",
            "linecolor": "white",
            "ticks": ""
           },
           "bgcolor": "#E5ECF6",
           "radialaxis": {
            "gridcolor": "white",
            "linecolor": "white",
            "ticks": ""
           }
          },
          "scene": {
           "xaxis": {
            "backgroundcolor": "#E5ECF6",
            "gridcolor": "white",
            "gridwidth": 2,
            "linecolor": "white",
            "showbackground": true,
            "ticks": "",
            "zerolinecolor": "white"
           },
           "yaxis": {
            "backgroundcolor": "#E5ECF6",
            "gridcolor": "white",
            "gridwidth": 2,
            "linecolor": "white",
            "showbackground": true,
            "ticks": "",
            "zerolinecolor": "white"
           },
           "zaxis": {
            "backgroundcolor": "#E5ECF6",
            "gridcolor": "white",
            "gridwidth": 2,
            "linecolor": "white",
            "showbackground": true,
            "ticks": "",
            "zerolinecolor": "white"
           }
          },
          "shapedefaults": {
           "line": {
            "color": "#2a3f5f"
           }
          },
          "ternary": {
           "aaxis": {
            "gridcolor": "white",
            "linecolor": "white",
            "ticks": ""
           },
           "baxis": {
            "gridcolor": "white",
            "linecolor": "white",
            "ticks": ""
           },
           "bgcolor": "#E5ECF6",
           "caxis": {
            "gridcolor": "white",
            "linecolor": "white",
            "ticks": ""
           }
          },
          "title": {
           "x": 0.05
          },
          "xaxis": {
           "automargin": true,
           "gridcolor": "white",
           "linecolor": "white",
           "ticks": "",
           "title": {
            "standoff": 15
           },
           "zerolinecolor": "white",
           "zerolinewidth": 2
          },
          "yaxis": {
           "automargin": true,
           "gridcolor": "white",
           "linecolor": "white",
           "ticks": "",
           "title": {
            "standoff": 15
           },
           "zerolinecolor": "white",
           "zerolinewidth": 2
          }
         }
        },
        "title": {
         "text": "Confusion Matrix"
        },
        "xaxis": {
         "dtick": 1,
         "gridcolor": "rgb(0, 0, 0)",
         "side": "top",
         "ticks": "",
         "title": {
          "text": "Predicted"
         }
        },
        "yaxis": {
         "dtick": 1,
         "ticks": "",
         "ticksuffix": "  ",
         "title": {
          "text": "True"
         }
        }
       }
      },
      "text/html": [
       "<div>                            <div id=\"8f547815-e4e9-48cc-999e-fe19b96d9997\" class=\"plotly-graph-div\" style=\"height:525px; width:100%;\"></div>            <script type=\"text/javascript\">                require([\"plotly\"], function(Plotly) {                    window.PLOTLYENV=window.PLOTLYENV || {};                                    if (document.getElementById(\"8f547815-e4e9-48cc-999e-fe19b96d9997\")) {                    Plotly.newPlot(                        \"8f547815-e4e9-48cc-999e-fe19b96d9997\",                        [{\"colorscale\":[[0.0,\"#440154\"],[0.1111111111111111,\"#482878\"],[0.2222222222222222,\"#3e4989\"],[0.3333333333333333,\"#31688e\"],[0.4444444444444444,\"#26828e\"],[0.5555555555555556,\"#1f9e89\"],[0.6666666666666666,\"#35b779\"],[0.7777777777777778,\"#6ece58\"],[0.8888888888888888,\"#b5de2b\"],[1.0,\"#fde725\"]],\"reversescale\":false,\"showscale\":false,\"x\":[\"coruja-buraqueira_images\",\"gaviao-real_images\",\"urutau_images\"],\"y\":[\"coruja-buraqueira_images\",\"gaviao-real_images\",\"urutau_images\"],\"z\":[[6,6,12],[11,4,9],[7,10,7]],\"type\":\"heatmap\"}],                        {\"annotations\":[{\"font\":{\"color\":\"#FFFFFF\"},\"showarrow\":false,\"text\":\"6\",\"x\":\"coruja-buraqueira_images\",\"xref\":\"x\",\"y\":\"coruja-buraqueira_images\",\"yref\":\"y\"},{\"font\":{\"color\":\"#FFFFFF\"},\"showarrow\":false,\"text\":\"6\",\"x\":\"gaviao-real_images\",\"xref\":\"x\",\"y\":\"coruja-buraqueira_images\",\"yref\":\"y\"},{\"font\":{\"color\":\"#000000\"},\"showarrow\":false,\"text\":\"12\",\"x\":\"urutau_images\",\"xref\":\"x\",\"y\":\"coruja-buraqueira_images\",\"yref\":\"y\"},{\"font\":{\"color\":\"#000000\"},\"showarrow\":false,\"text\":\"11\",\"x\":\"coruja-buraqueira_images\",\"xref\":\"x\",\"y\":\"gaviao-real_images\",\"yref\":\"y\"},{\"font\":{\"color\":\"#FFFFFF\"},\"showarrow\":false,\"text\":\"4\",\"x\":\"gaviao-real_images\",\"xref\":\"x\",\"y\":\"gaviao-real_images\",\"yref\":\"y\"},{\"font\":{\"color\":\"#000000\"},\"showarrow\":false,\"text\":\"9\",\"x\":\"urutau_images\",\"xref\":\"x\",\"y\":\"gaviao-real_images\",\"yref\":\"y\"},{\"font\":{\"color\":\"#FFFFFF\"},\"showarrow\":false,\"text\":\"7\",\"x\":\"coruja-buraqueira_images\",\"xref\":\"x\",\"y\":\"urutau_images\",\"yref\":\"y\"},{\"font\":{\"color\":\"#000000\"},\"showarrow\":false,\"text\":\"10\",\"x\":\"gaviao-real_images\",\"xref\":\"x\",\"y\":\"urutau_images\",\"yref\":\"y\"},{\"font\":{\"color\":\"#FFFFFF\"},\"showarrow\":false,\"text\":\"7\",\"x\":\"urutau_images\",\"xref\":\"x\",\"y\":\"urutau_images\",\"yref\":\"y\"}],\"xaxis\":{\"dtick\":1,\"gridcolor\":\"rgb(0, 0, 0)\",\"side\":\"top\",\"ticks\":\"\",\"title\":{\"text\":\"Predicted\"}},\"yaxis\":{\"dtick\":1,\"ticks\":\"\",\"ticksuffix\":\"  \",\"title\":{\"text\":\"True\"}},\"template\":{\"data\":{\"histogram2dcontour\":[{\"type\":\"histogram2dcontour\",\"colorbar\":{\"outlinewidth\":0,\"ticks\":\"\"},\"colorscale\":[[0.0,\"#0d0887\"],[0.1111111111111111,\"#46039f\"],[0.2222222222222222,\"#7201a8\"],[0.3333333333333333,\"#9c179e\"],[0.4444444444444444,\"#bd3786\"],[0.5555555555555556,\"#d8576b\"],[0.6666666666666666,\"#ed7953\"],[0.7777777777777778,\"#fb9f3a\"],[0.8888888888888888,\"#fdca26\"],[1.0,\"#f0f921\"]]}],\"choropleth\":[{\"type\":\"choropleth\",\"colorbar\":{\"outlinewidth\":0,\"ticks\":\"\"}}],\"histogram2d\":[{\"type\":\"histogram2d\",\"colorbar\":{\"outlinewidth\":0,\"ticks\":\"\"},\"colorscale\":[[0.0,\"#0d0887\"],[0.1111111111111111,\"#46039f\"],[0.2222222222222222,\"#7201a8\"],[0.3333333333333333,\"#9c179e\"],[0.4444444444444444,\"#bd3786\"],[0.5555555555555556,\"#d8576b\"],[0.6666666666666666,\"#ed7953\"],[0.7777777777777778,\"#fb9f3a\"],[0.8888888888888888,\"#fdca26\"],[1.0,\"#f0f921\"]]}],\"heatmap\":[{\"type\":\"heatmap\",\"colorbar\":{\"outlinewidth\":0,\"ticks\":\"\"},\"colorscale\":[[0.0,\"#0d0887\"],[0.1111111111111111,\"#46039f\"],[0.2222222222222222,\"#7201a8\"],[0.3333333333333333,\"#9c179e\"],[0.4444444444444444,\"#bd3786\"],[0.5555555555555556,\"#d8576b\"],[0.6666666666666666,\"#ed7953\"],[0.7777777777777778,\"#fb9f3a\"],[0.8888888888888888,\"#fdca26\"],[1.0,\"#f0f921\"]]}],\"heatmapgl\":[{\"type\":\"heatmapgl\",\"colorbar\":{\"outlinewidth\":0,\"ticks\":\"\"},\"colorscale\":[[0.0,\"#0d0887\"],[0.1111111111111111,\"#46039f\"],[0.2222222222222222,\"#7201a8\"],[0.3333333333333333,\"#9c179e\"],[0.4444444444444444,\"#bd3786\"],[0.5555555555555556,\"#d8576b\"],[0.6666666666666666,\"#ed7953\"],[0.7777777777777778,\"#fb9f3a\"],[0.8888888888888888,\"#fdca26\"],[1.0,\"#f0f921\"]]}],\"contourcarpet\":[{\"type\":\"contourcarpet\",\"colorbar\":{\"outlinewidth\":0,\"ticks\":\"\"}}],\"contour\":[{\"type\":\"contour\",\"colorbar\":{\"outlinewidth\":0,\"ticks\":\"\"},\"colorscale\":[[0.0,\"#0d0887\"],[0.1111111111111111,\"#46039f\"],[0.2222222222222222,\"#7201a8\"],[0.3333333333333333,\"#9c179e\"],[0.4444444444444444,\"#bd3786\"],[0.5555555555555556,\"#d8576b\"],[0.6666666666666666,\"#ed7953\"],[0.7777777777777778,\"#fb9f3a\"],[0.8888888888888888,\"#fdca26\"],[1.0,\"#f0f921\"]]}],\"surface\":[{\"type\":\"surface\",\"colorbar\":{\"outlinewidth\":0,\"ticks\":\"\"},\"colorscale\":[[0.0,\"#0d0887\"],[0.1111111111111111,\"#46039f\"],[0.2222222222222222,\"#7201a8\"],[0.3333333333333333,\"#9c179e\"],[0.4444444444444444,\"#bd3786\"],[0.5555555555555556,\"#d8576b\"],[0.6666666666666666,\"#ed7953\"],[0.7777777777777778,\"#fb9f3a\"],[0.8888888888888888,\"#fdca26\"],[1.0,\"#f0f921\"]]}],\"mesh3d\":[{\"type\":\"mesh3d\",\"colorbar\":{\"outlinewidth\":0,\"ticks\":\"\"}}],\"scatter\":[{\"fillpattern\":{\"fillmode\":\"overlay\",\"size\":10,\"solidity\":0.2},\"type\":\"scatter\"}],\"parcoords\":[{\"type\":\"parcoords\",\"line\":{\"colorbar\":{\"outlinewidth\":0,\"ticks\":\"\"}}}],\"scatterpolargl\":[{\"type\":\"scatterpolargl\",\"marker\":{\"colorbar\":{\"outlinewidth\":0,\"ticks\":\"\"}}}],\"bar\":[{\"error_x\":{\"color\":\"#2a3f5f\"},\"error_y\":{\"color\":\"#2a3f5f\"},\"marker\":{\"line\":{\"color\":\"#E5ECF6\",\"width\":0.5},\"pattern\":{\"fillmode\":\"overlay\",\"size\":10,\"solidity\":0.2}},\"type\":\"bar\"}],\"scattergeo\":[{\"type\":\"scattergeo\",\"marker\":{\"colorbar\":{\"outlinewidth\":0,\"ticks\":\"\"}}}],\"scatterpolar\":[{\"type\":\"scatterpolar\",\"marker\":{\"colorbar\":{\"outlinewidth\":0,\"ticks\":\"\"}}}],\"histogram\":[{\"marker\":{\"pattern\":{\"fillmode\":\"overlay\",\"size\":10,\"solidity\":0.2}},\"type\":\"histogram\"}],\"scattergl\":[{\"type\":\"scattergl\",\"marker\":{\"colorbar\":{\"outlinewidth\":0,\"ticks\":\"\"}}}],\"scatter3d\":[{\"type\":\"scatter3d\",\"line\":{\"colorbar\":{\"outlinewidth\":0,\"ticks\":\"\"}},\"marker\":{\"colorbar\":{\"outlinewidth\":0,\"ticks\":\"\"}}}],\"scattermapbox\":[{\"type\":\"scattermapbox\",\"marker\":{\"colorbar\":{\"outlinewidth\":0,\"ticks\":\"\"}}}],\"scatterternary\":[{\"type\":\"scatterternary\",\"marker\":{\"colorbar\":{\"outlinewidth\":0,\"ticks\":\"\"}}}],\"scattercarpet\":[{\"type\":\"scattercarpet\",\"marker\":{\"colorbar\":{\"outlinewidth\":0,\"ticks\":\"\"}}}],\"carpet\":[{\"aaxis\":{\"endlinecolor\":\"#2a3f5f\",\"gridcolor\":\"white\",\"linecolor\":\"white\",\"minorgridcolor\":\"white\",\"startlinecolor\":\"#2a3f5f\"},\"baxis\":{\"endlinecolor\":\"#2a3f5f\",\"gridcolor\":\"white\",\"linecolor\":\"white\",\"minorgridcolor\":\"white\",\"startlinecolor\":\"#2a3f5f\"},\"type\":\"carpet\"}],\"table\":[{\"cells\":{\"fill\":{\"color\":\"#EBF0F8\"},\"line\":{\"color\":\"white\"}},\"header\":{\"fill\":{\"color\":\"#C8D4E3\"},\"line\":{\"color\":\"white\"}},\"type\":\"table\"}],\"barpolar\":[{\"marker\":{\"line\":{\"color\":\"#E5ECF6\",\"width\":0.5},\"pattern\":{\"fillmode\":\"overlay\",\"size\":10,\"solidity\":0.2}},\"type\":\"barpolar\"}],\"pie\":[{\"automargin\":true,\"type\":\"pie\"}]},\"layout\":{\"autotypenumbers\":\"strict\",\"colorway\":[\"#636efa\",\"#EF553B\",\"#00cc96\",\"#ab63fa\",\"#FFA15A\",\"#19d3f3\",\"#FF6692\",\"#B6E880\",\"#FF97FF\",\"#FECB52\"],\"font\":{\"color\":\"#2a3f5f\"},\"hovermode\":\"closest\",\"hoverlabel\":{\"align\":\"left\"},\"paper_bgcolor\":\"white\",\"plot_bgcolor\":\"#E5ECF6\",\"polar\":{\"bgcolor\":\"#E5ECF6\",\"angularaxis\":{\"gridcolor\":\"white\",\"linecolor\":\"white\",\"ticks\":\"\"},\"radialaxis\":{\"gridcolor\":\"white\",\"linecolor\":\"white\",\"ticks\":\"\"}},\"ternary\":{\"bgcolor\":\"#E5ECF6\",\"aaxis\":{\"gridcolor\":\"white\",\"linecolor\":\"white\",\"ticks\":\"\"},\"baxis\":{\"gridcolor\":\"white\",\"linecolor\":\"white\",\"ticks\":\"\"},\"caxis\":{\"gridcolor\":\"white\",\"linecolor\":\"white\",\"ticks\":\"\"}},\"coloraxis\":{\"colorbar\":{\"outlinewidth\":0,\"ticks\":\"\"}},\"colorscale\":{\"sequential\":[[0.0,\"#0d0887\"],[0.1111111111111111,\"#46039f\"],[0.2222222222222222,\"#7201a8\"],[0.3333333333333333,\"#9c179e\"],[0.4444444444444444,\"#bd3786\"],[0.5555555555555556,\"#d8576b\"],[0.6666666666666666,\"#ed7953\"],[0.7777777777777778,\"#fb9f3a\"],[0.8888888888888888,\"#fdca26\"],[1.0,\"#f0f921\"]],\"sequentialminus\":[[0.0,\"#0d0887\"],[0.1111111111111111,\"#46039f\"],[0.2222222222222222,\"#7201a8\"],[0.3333333333333333,\"#9c179e\"],[0.4444444444444444,\"#bd3786\"],[0.5555555555555556,\"#d8576b\"],[0.6666666666666666,\"#ed7953\"],[0.7777777777777778,\"#fb9f3a\"],[0.8888888888888888,\"#fdca26\"],[1.0,\"#f0f921\"]],\"diverging\":[[0,\"#8e0152\"],[0.1,\"#c51b7d\"],[0.2,\"#de77ae\"],[0.3,\"#f1b6da\"],[0.4,\"#fde0ef\"],[0.5,\"#f7f7f7\"],[0.6,\"#e6f5d0\"],[0.7,\"#b8e186\"],[0.8,\"#7fbc41\"],[0.9,\"#4d9221\"],[1,\"#276419\"]]},\"xaxis\":{\"gridcolor\":\"white\",\"linecolor\":\"white\",\"ticks\":\"\",\"title\":{\"standoff\":15},\"zerolinecolor\":\"white\",\"automargin\":true,\"zerolinewidth\":2},\"yaxis\":{\"gridcolor\":\"white\",\"linecolor\":\"white\",\"ticks\":\"\",\"title\":{\"standoff\":15},\"zerolinecolor\":\"white\",\"automargin\":true,\"zerolinewidth\":2},\"scene\":{\"xaxis\":{\"backgroundcolor\":\"#E5ECF6\",\"gridcolor\":\"white\",\"linecolor\":\"white\",\"showbackground\":true,\"ticks\":\"\",\"zerolinecolor\":\"white\",\"gridwidth\":2},\"yaxis\":{\"backgroundcolor\":\"#E5ECF6\",\"gridcolor\":\"white\",\"linecolor\":\"white\",\"showbackground\":true,\"ticks\":\"\",\"zerolinecolor\":\"white\",\"gridwidth\":2},\"zaxis\":{\"backgroundcolor\":\"#E5ECF6\",\"gridcolor\":\"white\",\"linecolor\":\"white\",\"showbackground\":true,\"ticks\":\"\",\"zerolinecolor\":\"white\",\"gridwidth\":2}},\"shapedefaults\":{\"line\":{\"color\":\"#2a3f5f\"}},\"annotationdefaults\":{\"arrowcolor\":\"#2a3f5f\",\"arrowhead\":0,\"arrowwidth\":1},\"geo\":{\"bgcolor\":\"white\",\"landcolor\":\"#E5ECF6\",\"subunitcolor\":\"white\",\"showland\":true,\"showlakes\":true,\"lakecolor\":\"white\"},\"title\":{\"x\":0.05},\"mapbox\":{\"style\":\"light\"}}},\"title\":{\"text\":\"Confusion Matrix\"}},                        {\"responsive\": true}                    ).then(function(){\n",
       "                            \n",
       "var gd = document.getElementById('8f547815-e4e9-48cc-999e-fe19b96d9997');\n",
       "var x = new MutationObserver(function (mutations, observer) {{\n",
       "        var display = window.getComputedStyle(gd).display;\n",
       "        if (!display || display === 'none') {{\n",
       "            console.log([gd, 'removed!']);\n",
       "            Plotly.purge(gd);\n",
       "            observer.disconnect();\n",
       "        }}\n",
       "}});\n",
       "\n",
       "// Listen for the removal of the full notebook cells\n",
       "var notebookContainer = gd.closest('#notebook-container');\n",
       "if (notebookContainer) {{\n",
       "    x.observe(notebookContainer, {childList: true});\n",
       "}}\n",
       "\n",
       "// Listen for the clearing of the current output cell\n",
       "var outputEl = gd.closest('.output');\n",
       "if (outputEl) {{\n",
       "    x.observe(outputEl, {childList: true});\n",
       "}}\n",
       "\n",
       "                        })                };                });            </script>        </div>"
      ]
     },
     "metadata": {},
     "output_type": "display_data"
    },
    {
     "data": {
      "application/vnd.plotly.v1+json": {
       "config": {
        "plotlyServerURL": "https://plot.ly"
       },
       "data": [
        {
         "mode": "lines",
         "name": "ROC curve of class coruja-buraqueira_images (area = 0.47)",
         "type": "scatter",
         "x": [
          0,
          0.020833333333333332,
          0.041666666666666664,
          0.0625,
          0.14583333333333334,
          0.14583333333333334,
          0.20833333333333334,
          0.20833333333333334,
          0.3541666666666667,
          0.3541666666666667,
          0.3958333333333333,
          0.3958333333333333,
          0.4166666666666667,
          0.4166666666666667,
          0.5208333333333334,
          0.5208333333333334,
          0.5416666666666666,
          0.5416666666666666,
          0.5625,
          0.5625,
          0.625,
          0.625,
          0.6666666666666666,
          0.6666666666666666,
          0.6875,
          0.6875,
          0.7708333333333334,
          0.7708333333333334,
          0.8541666666666666,
          0.8541666666666666,
          0.9583333333333334,
          0.9583333333333334,
          1,
          1
         ],
         "y": [
          0,
          0,
          0,
          0.041666666666666664,
          0.041666666666666664,
          0.08333333333333333,
          0.08333333333333333,
          0.20833333333333334,
          0.20833333333333334,
          0.25,
          0.25,
          0.375,
          0.375,
          0.4166666666666667,
          0.4166666666666667,
          0.5,
          0.5,
          0.5416666666666666,
          0.5416666666666666,
          0.5833333333333334,
          0.5833333333333334,
          0.625,
          0.625,
          0.7083333333333334,
          0.7083333333333334,
          0.7916666666666666,
          0.7916666666666666,
          0.8333333333333334,
          0.8333333333333334,
          0.9166666666666666,
          0.9166666666666666,
          0.9583333333333334,
          0.9583333333333334,
          1
         ]
        },
        {
         "mode": "lines",
         "name": "ROC curve of class gaviao-real_images (area = 0.36)",
         "type": "scatter",
         "x": [
          0,
          0.020833333333333332,
          0.14583333333333334,
          0.14583333333333334,
          0.22916666666666666,
          0.22916666666666666,
          0.3333333333333333,
          0.3333333333333333,
          0.375,
          0.375,
          0.3958333333333333,
          0.3958333333333333,
          0.5208333333333334,
          0.5208333333333334,
          0.5416666666666666,
          0.5416666666666666,
          0.6041666666666666,
          0.6041666666666666,
          0.625,
          0.625,
          0.6666666666666666,
          0.6666666666666666,
          0.6875,
          0.6875,
          0.7083333333333334,
          0.7083333333333334,
          0.7916666666666666,
          0.7916666666666666,
          0.875,
          0.875,
          0.8958333333333334,
          0.8958333333333334,
          0.9375,
          0.9375,
          0.9583333333333334,
          0.9583333333333334,
          1
         ],
         "y": [
          0,
          0,
          0,
          0.041666666666666664,
          0.041666666666666664,
          0.125,
          0.125,
          0.16666666666666666,
          0.16666666666666666,
          0.20833333333333334,
          0.20833333333333334,
          0.2916666666666667,
          0.2916666666666667,
          0.3333333333333333,
          0.3333333333333333,
          0.375,
          0.375,
          0.4166666666666667,
          0.4166666666666667,
          0.4583333333333333,
          0.4583333333333333,
          0.5,
          0.5,
          0.5416666666666666,
          0.5416666666666666,
          0.5833333333333334,
          0.5833333333333334,
          0.6666666666666666,
          0.6666666666666666,
          0.7916666666666666,
          0.7916666666666666,
          0.8333333333333334,
          0.8333333333333334,
          0.9583333333333334,
          0.9583333333333334,
          1,
          1
         ]
        },
        {
         "mode": "lines",
         "name": "ROC curve of class urutau_images (area = 0.46)",
         "type": "scatter",
         "x": [
          0,
          0.020833333333333332,
          0.020833333333333332,
          0.041666666666666664,
          0.041666666666666664,
          0.25,
          0.25,
          0.4166666666666667,
          0.4166666666666667,
          0.5,
          0.5,
          0.5416666666666666,
          0.5416666666666666,
          0.5625,
          0.5625,
          0.625,
          0.625,
          0.6458333333333334,
          0.6458333333333334,
          0.6875,
          0.6875,
          0.7708333333333334,
          0.7708333333333334,
          0.8541666666666666,
          0.8541666666666666,
          0.875,
          0.875,
          0.8958333333333334,
          0.8958333333333334,
          0.9375,
          0.9375,
          1,
          1
         ],
         "y": [
          0,
          0,
          0.08333333333333333,
          0.08333333333333333,
          0.16666666666666666,
          0.16666666666666666,
          0.25,
          0.25,
          0.3333333333333333,
          0.3333333333333333,
          0.4166666666666667,
          0.4166666666666667,
          0.4583333333333333,
          0.4583333333333333,
          0.5416666666666666,
          0.5416666666666666,
          0.5833333333333334,
          0.5833333333333334,
          0.625,
          0.625,
          0.6666666666666666,
          0.6666666666666666,
          0.75,
          0.75,
          0.7916666666666666,
          0.7916666666666666,
          0.875,
          0.875,
          0.9166666666666666,
          0.9166666666666666,
          0.9583333333333334,
          0.9583333333333334,
          1
         ]
        },
        {
         "line": {
          "dash": "dash"
         },
         "mode": "lines",
         "name": "Random",
         "type": "scatter",
         "x": [
          0,
          1
         ],
         "y": [
          0,
          1
         ]
        }
       ],
       "layout": {
        "template": {
         "data": {
          "bar": [
           {
            "error_x": {
             "color": "#2a3f5f"
            },
            "error_y": {
             "color": "#2a3f5f"
            },
            "marker": {
             "line": {
              "color": "#E5ECF6",
              "width": 0.5
             },
             "pattern": {
              "fillmode": "overlay",
              "size": 10,
              "solidity": 0.2
             }
            },
            "type": "bar"
           }
          ],
          "barpolar": [
           {
            "marker": {
             "line": {
              "color": "#E5ECF6",
              "width": 0.5
             },
             "pattern": {
              "fillmode": "overlay",
              "size": 10,
              "solidity": 0.2
             }
            },
            "type": "barpolar"
           }
          ],
          "carpet": [
           {
            "aaxis": {
             "endlinecolor": "#2a3f5f",
             "gridcolor": "white",
             "linecolor": "white",
             "minorgridcolor": "white",
             "startlinecolor": "#2a3f5f"
            },
            "baxis": {
             "endlinecolor": "#2a3f5f",
             "gridcolor": "white",
             "linecolor": "white",
             "minorgridcolor": "white",
             "startlinecolor": "#2a3f5f"
            },
            "type": "carpet"
           }
          ],
          "choropleth": [
           {
            "colorbar": {
             "outlinewidth": 0,
             "ticks": ""
            },
            "type": "choropleth"
           }
          ],
          "contour": [
           {
            "colorbar": {
             "outlinewidth": 0,
             "ticks": ""
            },
            "colorscale": [
             [
              0,
              "#0d0887"
             ],
             [
              0.1111111111111111,
              "#46039f"
             ],
             [
              0.2222222222222222,
              "#7201a8"
             ],
             [
              0.3333333333333333,
              "#9c179e"
             ],
             [
              0.4444444444444444,
              "#bd3786"
             ],
             [
              0.5555555555555556,
              "#d8576b"
             ],
             [
              0.6666666666666666,
              "#ed7953"
             ],
             [
              0.7777777777777778,
              "#fb9f3a"
             ],
             [
              0.8888888888888888,
              "#fdca26"
             ],
             [
              1,
              "#f0f921"
             ]
            ],
            "type": "contour"
           }
          ],
          "contourcarpet": [
           {
            "colorbar": {
             "outlinewidth": 0,
             "ticks": ""
            },
            "type": "contourcarpet"
           }
          ],
          "heatmap": [
           {
            "colorbar": {
             "outlinewidth": 0,
             "ticks": ""
            },
            "colorscale": [
             [
              0,
              "#0d0887"
             ],
             [
              0.1111111111111111,
              "#46039f"
             ],
             [
              0.2222222222222222,
              "#7201a8"
             ],
             [
              0.3333333333333333,
              "#9c179e"
             ],
             [
              0.4444444444444444,
              "#bd3786"
             ],
             [
              0.5555555555555556,
              "#d8576b"
             ],
             [
              0.6666666666666666,
              "#ed7953"
             ],
             [
              0.7777777777777778,
              "#fb9f3a"
             ],
             [
              0.8888888888888888,
              "#fdca26"
             ],
             [
              1,
              "#f0f921"
             ]
            ],
            "type": "heatmap"
           }
          ],
          "heatmapgl": [
           {
            "colorbar": {
             "outlinewidth": 0,
             "ticks": ""
            },
            "colorscale": [
             [
              0,
              "#0d0887"
             ],
             [
              0.1111111111111111,
              "#46039f"
             ],
             [
              0.2222222222222222,
              "#7201a8"
             ],
             [
              0.3333333333333333,
              "#9c179e"
             ],
             [
              0.4444444444444444,
              "#bd3786"
             ],
             [
              0.5555555555555556,
              "#d8576b"
             ],
             [
              0.6666666666666666,
              "#ed7953"
             ],
             [
              0.7777777777777778,
              "#fb9f3a"
             ],
             [
              0.8888888888888888,
              "#fdca26"
             ],
             [
              1,
              "#f0f921"
             ]
            ],
            "type": "heatmapgl"
           }
          ],
          "histogram": [
           {
            "marker": {
             "pattern": {
              "fillmode": "overlay",
              "size": 10,
              "solidity": 0.2
             }
            },
            "type": "histogram"
           }
          ],
          "histogram2d": [
           {
            "colorbar": {
             "outlinewidth": 0,
             "ticks": ""
            },
            "colorscale": [
             [
              0,
              "#0d0887"
             ],
             [
              0.1111111111111111,
              "#46039f"
             ],
             [
              0.2222222222222222,
              "#7201a8"
             ],
             [
              0.3333333333333333,
              "#9c179e"
             ],
             [
              0.4444444444444444,
              "#bd3786"
             ],
             [
              0.5555555555555556,
              "#d8576b"
             ],
             [
              0.6666666666666666,
              "#ed7953"
             ],
             [
              0.7777777777777778,
              "#fb9f3a"
             ],
             [
              0.8888888888888888,
              "#fdca26"
             ],
             [
              1,
              "#f0f921"
             ]
            ],
            "type": "histogram2d"
           }
          ],
          "histogram2dcontour": [
           {
            "colorbar": {
             "outlinewidth": 0,
             "ticks": ""
            },
            "colorscale": [
             [
              0,
              "#0d0887"
             ],
             [
              0.1111111111111111,
              "#46039f"
             ],
             [
              0.2222222222222222,
              "#7201a8"
             ],
             [
              0.3333333333333333,
              "#9c179e"
             ],
             [
              0.4444444444444444,
              "#bd3786"
             ],
             [
              0.5555555555555556,
              "#d8576b"
             ],
             [
              0.6666666666666666,
              "#ed7953"
             ],
             [
              0.7777777777777778,
              "#fb9f3a"
             ],
             [
              0.8888888888888888,
              "#fdca26"
             ],
             [
              1,
              "#f0f921"
             ]
            ],
            "type": "histogram2dcontour"
           }
          ],
          "mesh3d": [
           {
            "colorbar": {
             "outlinewidth": 0,
             "ticks": ""
            },
            "type": "mesh3d"
           }
          ],
          "parcoords": [
           {
            "line": {
             "colorbar": {
              "outlinewidth": 0,
              "ticks": ""
             }
            },
            "type": "parcoords"
           }
          ],
          "pie": [
           {
            "automargin": true,
            "type": "pie"
           }
          ],
          "scatter": [
           {
            "fillpattern": {
             "fillmode": "overlay",
             "size": 10,
             "solidity": 0.2
            },
            "type": "scatter"
           }
          ],
          "scatter3d": [
           {
            "line": {
             "colorbar": {
              "outlinewidth": 0,
              "ticks": ""
             }
            },
            "marker": {
             "colorbar": {
              "outlinewidth": 0,
              "ticks": ""
             }
            },
            "type": "scatter3d"
           }
          ],
          "scattercarpet": [
           {
            "marker": {
             "colorbar": {
              "outlinewidth": 0,
              "ticks": ""
             }
            },
            "type": "scattercarpet"
           }
          ],
          "scattergeo": [
           {
            "marker": {
             "colorbar": {
              "outlinewidth": 0,
              "ticks": ""
             }
            },
            "type": "scattergeo"
           }
          ],
          "scattergl": [
           {
            "marker": {
             "colorbar": {
              "outlinewidth": 0,
              "ticks": ""
             }
            },
            "type": "scattergl"
           }
          ],
          "scattermapbox": [
           {
            "marker": {
             "colorbar": {
              "outlinewidth": 0,
              "ticks": ""
             }
            },
            "type": "scattermapbox"
           }
          ],
          "scatterpolar": [
           {
            "marker": {
             "colorbar": {
              "outlinewidth": 0,
              "ticks": ""
             }
            },
            "type": "scatterpolar"
           }
          ],
          "scatterpolargl": [
           {
            "marker": {
             "colorbar": {
              "outlinewidth": 0,
              "ticks": ""
             }
            },
            "type": "scatterpolargl"
           }
          ],
          "scatterternary": [
           {
            "marker": {
             "colorbar": {
              "outlinewidth": 0,
              "ticks": ""
             }
            },
            "type": "scatterternary"
           }
          ],
          "surface": [
           {
            "colorbar": {
             "outlinewidth": 0,
             "ticks": ""
            },
            "colorscale": [
             [
              0,
              "#0d0887"
             ],
             [
              0.1111111111111111,
              "#46039f"
             ],
             [
              0.2222222222222222,
              "#7201a8"
             ],
             [
              0.3333333333333333,
              "#9c179e"
             ],
             [
              0.4444444444444444,
              "#bd3786"
             ],
             [
              0.5555555555555556,
              "#d8576b"
             ],
             [
              0.6666666666666666,
              "#ed7953"
             ],
             [
              0.7777777777777778,
              "#fb9f3a"
             ],
             [
              0.8888888888888888,
              "#fdca26"
             ],
             [
              1,
              "#f0f921"
             ]
            ],
            "type": "surface"
           }
          ],
          "table": [
           {
            "cells": {
             "fill": {
              "color": "#EBF0F8"
             },
             "line": {
              "color": "white"
             }
            },
            "header": {
             "fill": {
              "color": "#C8D4E3"
             },
             "line": {
              "color": "white"
             }
            },
            "type": "table"
           }
          ]
         },
         "layout": {
          "annotationdefaults": {
           "arrowcolor": "#2a3f5f",
           "arrowhead": 0,
           "arrowwidth": 1
          },
          "autotypenumbers": "strict",
          "coloraxis": {
           "colorbar": {
            "outlinewidth": 0,
            "ticks": ""
           }
          },
          "colorscale": {
           "diverging": [
            [
             0,
             "#8e0152"
            ],
            [
             0.1,
             "#c51b7d"
            ],
            [
             0.2,
             "#de77ae"
            ],
            [
             0.3,
             "#f1b6da"
            ],
            [
             0.4,
             "#fde0ef"
            ],
            [
             0.5,
             "#f7f7f7"
            ],
            [
             0.6,
             "#e6f5d0"
            ],
            [
             0.7,
             "#b8e186"
            ],
            [
             0.8,
             "#7fbc41"
            ],
            [
             0.9,
             "#4d9221"
            ],
            [
             1,
             "#276419"
            ]
           ],
           "sequential": [
            [
             0,
             "#0d0887"
            ],
            [
             0.1111111111111111,
             "#46039f"
            ],
            [
             0.2222222222222222,
             "#7201a8"
            ],
            [
             0.3333333333333333,
             "#9c179e"
            ],
            [
             0.4444444444444444,
             "#bd3786"
            ],
            [
             0.5555555555555556,
             "#d8576b"
            ],
            [
             0.6666666666666666,
             "#ed7953"
            ],
            [
             0.7777777777777778,
             "#fb9f3a"
            ],
            [
             0.8888888888888888,
             "#fdca26"
            ],
            [
             1,
             "#f0f921"
            ]
           ],
           "sequentialminus": [
            [
             0,
             "#0d0887"
            ],
            [
             0.1111111111111111,
             "#46039f"
            ],
            [
             0.2222222222222222,
             "#7201a8"
            ],
            [
             0.3333333333333333,
             "#9c179e"
            ],
            [
             0.4444444444444444,
             "#bd3786"
            ],
            [
             0.5555555555555556,
             "#d8576b"
            ],
            [
             0.6666666666666666,
             "#ed7953"
            ],
            [
             0.7777777777777778,
             "#fb9f3a"
            ],
            [
             0.8888888888888888,
             "#fdca26"
            ],
            [
             1,
             "#f0f921"
            ]
           ]
          },
          "colorway": [
           "#636efa",
           "#EF553B",
           "#00cc96",
           "#ab63fa",
           "#FFA15A",
           "#19d3f3",
           "#FF6692",
           "#B6E880",
           "#FF97FF",
           "#FECB52"
          ],
          "font": {
           "color": "#2a3f5f"
          },
          "geo": {
           "bgcolor": "white",
           "lakecolor": "white",
           "landcolor": "#E5ECF6",
           "showlakes": true,
           "showland": true,
           "subunitcolor": "white"
          },
          "hoverlabel": {
           "align": "left"
          },
          "hovermode": "closest",
          "mapbox": {
           "style": "light"
          },
          "paper_bgcolor": "white",
          "plot_bgcolor": "#E5ECF6",
          "polar": {
           "angularaxis": {
            "gridcolor": "white",
            "linecolor": "white",
            "ticks": ""
           },
           "bgcolor": "#E5ECF6",
           "radialaxis": {
            "gridcolor": "white",
            "linecolor": "white",
            "ticks": ""
           }
          },
          "scene": {
           "xaxis": {
            "backgroundcolor": "#E5ECF6",
            "gridcolor": "white",
            "gridwidth": 2,
            "linecolor": "white",
            "showbackground": true,
            "ticks": "",
            "zerolinecolor": "white"
           },
           "yaxis": {
            "backgroundcolor": "#E5ECF6",
            "gridcolor": "white",
            "gridwidth": 2,
            "linecolor": "white",
            "showbackground": true,
            "ticks": "",
            "zerolinecolor": "white"
           },
           "zaxis": {
            "backgroundcolor": "#E5ECF6",
            "gridcolor": "white",
            "gridwidth": 2,
            "linecolor": "white",
            "showbackground": true,
            "ticks": "",
            "zerolinecolor": "white"
           }
          },
          "shapedefaults": {
           "line": {
            "color": "#2a3f5f"
           }
          },
          "ternary": {
           "aaxis": {
            "gridcolor": "white",
            "linecolor": "white",
            "ticks": ""
           },
           "baxis": {
            "gridcolor": "white",
            "linecolor": "white",
            "ticks": ""
           },
           "bgcolor": "#E5ECF6",
           "caxis": {
            "gridcolor": "white",
            "linecolor": "white",
            "ticks": ""
           }
          },
          "title": {
           "x": 0.05
          },
          "xaxis": {
           "automargin": true,
           "gridcolor": "white",
           "linecolor": "white",
           "ticks": "",
           "title": {
            "standoff": 15
           },
           "zerolinecolor": "white",
           "zerolinewidth": 2
          },
          "yaxis": {
           "automargin": true,
           "gridcolor": "white",
           "linecolor": "white",
           "ticks": "",
           "title": {
            "standoff": 15
           },
           "zerolinecolor": "white",
           "zerolinewidth": 2
          }
         }
        },
        "title": {
         "text": "Receiver Operating Characteristic"
        },
        "xaxis": {
         "title": {
          "text": "False Positive Rate"
         }
        },
        "yaxis": {
         "title": {
          "text": "True Positive Rate"
         }
        }
       }
      },
      "text/html": [
       "<div>                            <div id=\"6812ca9f-7ec9-4116-807d-476c0949e4b3\" class=\"plotly-graph-div\" style=\"height:525px; width:100%;\"></div>            <script type=\"text/javascript\">                require([\"plotly\"], function(Plotly) {                    window.PLOTLYENV=window.PLOTLYENV || {};                                    if (document.getElementById(\"6812ca9f-7ec9-4116-807d-476c0949e4b3\")) {                    Plotly.newPlot(                        \"6812ca9f-7ec9-4116-807d-476c0949e4b3\",                        [{\"mode\":\"lines\",\"name\":\"ROC curve of class coruja-buraqueira_images (area = 0.47)\",\"x\":[0.0,0.020833333333333332,0.041666666666666664,0.0625,0.14583333333333334,0.14583333333333334,0.20833333333333334,0.20833333333333334,0.3541666666666667,0.3541666666666667,0.3958333333333333,0.3958333333333333,0.4166666666666667,0.4166666666666667,0.5208333333333334,0.5208333333333334,0.5416666666666666,0.5416666666666666,0.5625,0.5625,0.625,0.625,0.6666666666666666,0.6666666666666666,0.6875,0.6875,0.7708333333333334,0.7708333333333334,0.8541666666666666,0.8541666666666666,0.9583333333333334,0.9583333333333334,1.0,1.0],\"y\":[0.0,0.0,0.0,0.041666666666666664,0.041666666666666664,0.08333333333333333,0.08333333333333333,0.20833333333333334,0.20833333333333334,0.25,0.25,0.375,0.375,0.4166666666666667,0.4166666666666667,0.5,0.5,0.5416666666666666,0.5416666666666666,0.5833333333333334,0.5833333333333334,0.625,0.625,0.7083333333333334,0.7083333333333334,0.7916666666666666,0.7916666666666666,0.8333333333333334,0.8333333333333334,0.9166666666666666,0.9166666666666666,0.9583333333333334,0.9583333333333334,1.0],\"type\":\"scatter\"},{\"mode\":\"lines\",\"name\":\"ROC curve of class gaviao-real_images (area = 0.36)\",\"x\":[0.0,0.020833333333333332,0.14583333333333334,0.14583333333333334,0.22916666666666666,0.22916666666666666,0.3333333333333333,0.3333333333333333,0.375,0.375,0.3958333333333333,0.3958333333333333,0.5208333333333334,0.5208333333333334,0.5416666666666666,0.5416666666666666,0.6041666666666666,0.6041666666666666,0.625,0.625,0.6666666666666666,0.6666666666666666,0.6875,0.6875,0.7083333333333334,0.7083333333333334,0.7916666666666666,0.7916666666666666,0.875,0.875,0.8958333333333334,0.8958333333333334,0.9375,0.9375,0.9583333333333334,0.9583333333333334,1.0],\"y\":[0.0,0.0,0.0,0.041666666666666664,0.041666666666666664,0.125,0.125,0.16666666666666666,0.16666666666666666,0.20833333333333334,0.20833333333333334,0.2916666666666667,0.2916666666666667,0.3333333333333333,0.3333333333333333,0.375,0.375,0.4166666666666667,0.4166666666666667,0.4583333333333333,0.4583333333333333,0.5,0.5,0.5416666666666666,0.5416666666666666,0.5833333333333334,0.5833333333333334,0.6666666666666666,0.6666666666666666,0.7916666666666666,0.7916666666666666,0.8333333333333334,0.8333333333333334,0.9583333333333334,0.9583333333333334,1.0,1.0],\"type\":\"scatter\"},{\"mode\":\"lines\",\"name\":\"ROC curve of class urutau_images (area = 0.46)\",\"x\":[0.0,0.020833333333333332,0.020833333333333332,0.041666666666666664,0.041666666666666664,0.25,0.25,0.4166666666666667,0.4166666666666667,0.5,0.5,0.5416666666666666,0.5416666666666666,0.5625,0.5625,0.625,0.625,0.6458333333333334,0.6458333333333334,0.6875,0.6875,0.7708333333333334,0.7708333333333334,0.8541666666666666,0.8541666666666666,0.875,0.875,0.8958333333333334,0.8958333333333334,0.9375,0.9375,1.0,1.0],\"y\":[0.0,0.0,0.08333333333333333,0.08333333333333333,0.16666666666666666,0.16666666666666666,0.25,0.25,0.3333333333333333,0.3333333333333333,0.4166666666666667,0.4166666666666667,0.4583333333333333,0.4583333333333333,0.5416666666666666,0.5416666666666666,0.5833333333333334,0.5833333333333334,0.625,0.625,0.6666666666666666,0.6666666666666666,0.75,0.75,0.7916666666666666,0.7916666666666666,0.875,0.875,0.9166666666666666,0.9166666666666666,0.9583333333333334,0.9583333333333334,1.0],\"type\":\"scatter\"},{\"line\":{\"dash\":\"dash\"},\"mode\":\"lines\",\"name\":\"Random\",\"x\":[0,1],\"y\":[0,1],\"type\":\"scatter\"}],                        {\"template\":{\"data\":{\"histogram2dcontour\":[{\"type\":\"histogram2dcontour\",\"colorbar\":{\"outlinewidth\":0,\"ticks\":\"\"},\"colorscale\":[[0.0,\"#0d0887\"],[0.1111111111111111,\"#46039f\"],[0.2222222222222222,\"#7201a8\"],[0.3333333333333333,\"#9c179e\"],[0.4444444444444444,\"#bd3786\"],[0.5555555555555556,\"#d8576b\"],[0.6666666666666666,\"#ed7953\"],[0.7777777777777778,\"#fb9f3a\"],[0.8888888888888888,\"#fdca26\"],[1.0,\"#f0f921\"]]}],\"choropleth\":[{\"type\":\"choropleth\",\"colorbar\":{\"outlinewidth\":0,\"ticks\":\"\"}}],\"histogram2d\":[{\"type\":\"histogram2d\",\"colorbar\":{\"outlinewidth\":0,\"ticks\":\"\"},\"colorscale\":[[0.0,\"#0d0887\"],[0.1111111111111111,\"#46039f\"],[0.2222222222222222,\"#7201a8\"],[0.3333333333333333,\"#9c179e\"],[0.4444444444444444,\"#bd3786\"],[0.5555555555555556,\"#d8576b\"],[0.6666666666666666,\"#ed7953\"],[0.7777777777777778,\"#fb9f3a\"],[0.8888888888888888,\"#fdca26\"],[1.0,\"#f0f921\"]]}],\"heatmap\":[{\"type\":\"heatmap\",\"colorbar\":{\"outlinewidth\":0,\"ticks\":\"\"},\"colorscale\":[[0.0,\"#0d0887\"],[0.1111111111111111,\"#46039f\"],[0.2222222222222222,\"#7201a8\"],[0.3333333333333333,\"#9c179e\"],[0.4444444444444444,\"#bd3786\"],[0.5555555555555556,\"#d8576b\"],[0.6666666666666666,\"#ed7953\"],[0.7777777777777778,\"#fb9f3a\"],[0.8888888888888888,\"#fdca26\"],[1.0,\"#f0f921\"]]}],\"heatmapgl\":[{\"type\":\"heatmapgl\",\"colorbar\":{\"outlinewidth\":0,\"ticks\":\"\"},\"colorscale\":[[0.0,\"#0d0887\"],[0.1111111111111111,\"#46039f\"],[0.2222222222222222,\"#7201a8\"],[0.3333333333333333,\"#9c179e\"],[0.4444444444444444,\"#bd3786\"],[0.5555555555555556,\"#d8576b\"],[0.6666666666666666,\"#ed7953\"],[0.7777777777777778,\"#fb9f3a\"],[0.8888888888888888,\"#fdca26\"],[1.0,\"#f0f921\"]]}],\"contourcarpet\":[{\"type\":\"contourcarpet\",\"colorbar\":{\"outlinewidth\":0,\"ticks\":\"\"}}],\"contour\":[{\"type\":\"contour\",\"colorbar\":{\"outlinewidth\":0,\"ticks\":\"\"},\"colorscale\":[[0.0,\"#0d0887\"],[0.1111111111111111,\"#46039f\"],[0.2222222222222222,\"#7201a8\"],[0.3333333333333333,\"#9c179e\"],[0.4444444444444444,\"#bd3786\"],[0.5555555555555556,\"#d8576b\"],[0.6666666666666666,\"#ed7953\"],[0.7777777777777778,\"#fb9f3a\"],[0.8888888888888888,\"#fdca26\"],[1.0,\"#f0f921\"]]}],\"surface\":[{\"type\":\"surface\",\"colorbar\":{\"outlinewidth\":0,\"ticks\":\"\"},\"colorscale\":[[0.0,\"#0d0887\"],[0.1111111111111111,\"#46039f\"],[0.2222222222222222,\"#7201a8\"],[0.3333333333333333,\"#9c179e\"],[0.4444444444444444,\"#bd3786\"],[0.5555555555555556,\"#d8576b\"],[0.6666666666666666,\"#ed7953\"],[0.7777777777777778,\"#fb9f3a\"],[0.8888888888888888,\"#fdca26\"],[1.0,\"#f0f921\"]]}],\"mesh3d\":[{\"type\":\"mesh3d\",\"colorbar\":{\"outlinewidth\":0,\"ticks\":\"\"}}],\"scatter\":[{\"fillpattern\":{\"fillmode\":\"overlay\",\"size\":10,\"solidity\":0.2},\"type\":\"scatter\"}],\"parcoords\":[{\"type\":\"parcoords\",\"line\":{\"colorbar\":{\"outlinewidth\":0,\"ticks\":\"\"}}}],\"scatterpolargl\":[{\"type\":\"scatterpolargl\",\"marker\":{\"colorbar\":{\"outlinewidth\":0,\"ticks\":\"\"}}}],\"bar\":[{\"error_x\":{\"color\":\"#2a3f5f\"},\"error_y\":{\"color\":\"#2a3f5f\"},\"marker\":{\"line\":{\"color\":\"#E5ECF6\",\"width\":0.5},\"pattern\":{\"fillmode\":\"overlay\",\"size\":10,\"solidity\":0.2}},\"type\":\"bar\"}],\"scattergeo\":[{\"type\":\"scattergeo\",\"marker\":{\"colorbar\":{\"outlinewidth\":0,\"ticks\":\"\"}}}],\"scatterpolar\":[{\"type\":\"scatterpolar\",\"marker\":{\"colorbar\":{\"outlinewidth\":0,\"ticks\":\"\"}}}],\"histogram\":[{\"marker\":{\"pattern\":{\"fillmode\":\"overlay\",\"size\":10,\"solidity\":0.2}},\"type\":\"histogram\"}],\"scattergl\":[{\"type\":\"scattergl\",\"marker\":{\"colorbar\":{\"outlinewidth\":0,\"ticks\":\"\"}}}],\"scatter3d\":[{\"type\":\"scatter3d\",\"line\":{\"colorbar\":{\"outlinewidth\":0,\"ticks\":\"\"}},\"marker\":{\"colorbar\":{\"outlinewidth\":0,\"ticks\":\"\"}}}],\"scattermapbox\":[{\"type\":\"scattermapbox\",\"marker\":{\"colorbar\":{\"outlinewidth\":0,\"ticks\":\"\"}}}],\"scatterternary\":[{\"type\":\"scatterternary\",\"marker\":{\"colorbar\":{\"outlinewidth\":0,\"ticks\":\"\"}}}],\"scattercarpet\":[{\"type\":\"scattercarpet\",\"marker\":{\"colorbar\":{\"outlinewidth\":0,\"ticks\":\"\"}}}],\"carpet\":[{\"aaxis\":{\"endlinecolor\":\"#2a3f5f\",\"gridcolor\":\"white\",\"linecolor\":\"white\",\"minorgridcolor\":\"white\",\"startlinecolor\":\"#2a3f5f\"},\"baxis\":{\"endlinecolor\":\"#2a3f5f\",\"gridcolor\":\"white\",\"linecolor\":\"white\",\"minorgridcolor\":\"white\",\"startlinecolor\":\"#2a3f5f\"},\"type\":\"carpet\"}],\"table\":[{\"cells\":{\"fill\":{\"color\":\"#EBF0F8\"},\"line\":{\"color\":\"white\"}},\"header\":{\"fill\":{\"color\":\"#C8D4E3\"},\"line\":{\"color\":\"white\"}},\"type\":\"table\"}],\"barpolar\":[{\"marker\":{\"line\":{\"color\":\"#E5ECF6\",\"width\":0.5},\"pattern\":{\"fillmode\":\"overlay\",\"size\":10,\"solidity\":0.2}},\"type\":\"barpolar\"}],\"pie\":[{\"automargin\":true,\"type\":\"pie\"}]},\"layout\":{\"autotypenumbers\":\"strict\",\"colorway\":[\"#636efa\",\"#EF553B\",\"#00cc96\",\"#ab63fa\",\"#FFA15A\",\"#19d3f3\",\"#FF6692\",\"#B6E880\",\"#FF97FF\",\"#FECB52\"],\"font\":{\"color\":\"#2a3f5f\"},\"hovermode\":\"closest\",\"hoverlabel\":{\"align\":\"left\"},\"paper_bgcolor\":\"white\",\"plot_bgcolor\":\"#E5ECF6\",\"polar\":{\"bgcolor\":\"#E5ECF6\",\"angularaxis\":{\"gridcolor\":\"white\",\"linecolor\":\"white\",\"ticks\":\"\"},\"radialaxis\":{\"gridcolor\":\"white\",\"linecolor\":\"white\",\"ticks\":\"\"}},\"ternary\":{\"bgcolor\":\"#E5ECF6\",\"aaxis\":{\"gridcolor\":\"white\",\"linecolor\":\"white\",\"ticks\":\"\"},\"baxis\":{\"gridcolor\":\"white\",\"linecolor\":\"white\",\"ticks\":\"\"},\"caxis\":{\"gridcolor\":\"white\",\"linecolor\":\"white\",\"ticks\":\"\"}},\"coloraxis\":{\"colorbar\":{\"outlinewidth\":0,\"ticks\":\"\"}},\"colorscale\":{\"sequential\":[[0.0,\"#0d0887\"],[0.1111111111111111,\"#46039f\"],[0.2222222222222222,\"#7201a8\"],[0.3333333333333333,\"#9c179e\"],[0.4444444444444444,\"#bd3786\"],[0.5555555555555556,\"#d8576b\"],[0.6666666666666666,\"#ed7953\"],[0.7777777777777778,\"#fb9f3a\"],[0.8888888888888888,\"#fdca26\"],[1.0,\"#f0f921\"]],\"sequentialminus\":[[0.0,\"#0d0887\"],[0.1111111111111111,\"#46039f\"],[0.2222222222222222,\"#7201a8\"],[0.3333333333333333,\"#9c179e\"],[0.4444444444444444,\"#bd3786\"],[0.5555555555555556,\"#d8576b\"],[0.6666666666666666,\"#ed7953\"],[0.7777777777777778,\"#fb9f3a\"],[0.8888888888888888,\"#fdca26\"],[1.0,\"#f0f921\"]],\"diverging\":[[0,\"#8e0152\"],[0.1,\"#c51b7d\"],[0.2,\"#de77ae\"],[0.3,\"#f1b6da\"],[0.4,\"#fde0ef\"],[0.5,\"#f7f7f7\"],[0.6,\"#e6f5d0\"],[0.7,\"#b8e186\"],[0.8,\"#7fbc41\"],[0.9,\"#4d9221\"],[1,\"#276419\"]]},\"xaxis\":{\"gridcolor\":\"white\",\"linecolor\":\"white\",\"ticks\":\"\",\"title\":{\"standoff\":15},\"zerolinecolor\":\"white\",\"automargin\":true,\"zerolinewidth\":2},\"yaxis\":{\"gridcolor\":\"white\",\"linecolor\":\"white\",\"ticks\":\"\",\"title\":{\"standoff\":15},\"zerolinecolor\":\"white\",\"automargin\":true,\"zerolinewidth\":2},\"scene\":{\"xaxis\":{\"backgroundcolor\":\"#E5ECF6\",\"gridcolor\":\"white\",\"linecolor\":\"white\",\"showbackground\":true,\"ticks\":\"\",\"zerolinecolor\":\"white\",\"gridwidth\":2},\"yaxis\":{\"backgroundcolor\":\"#E5ECF6\",\"gridcolor\":\"white\",\"linecolor\":\"white\",\"showbackground\":true,\"ticks\":\"\",\"zerolinecolor\":\"white\",\"gridwidth\":2},\"zaxis\":{\"backgroundcolor\":\"#E5ECF6\",\"gridcolor\":\"white\",\"linecolor\":\"white\",\"showbackground\":true,\"ticks\":\"\",\"zerolinecolor\":\"white\",\"gridwidth\":2}},\"shapedefaults\":{\"line\":{\"color\":\"#2a3f5f\"}},\"annotationdefaults\":{\"arrowcolor\":\"#2a3f5f\",\"arrowhead\":0,\"arrowwidth\":1},\"geo\":{\"bgcolor\":\"white\",\"landcolor\":\"#E5ECF6\",\"subunitcolor\":\"white\",\"showland\":true,\"showlakes\":true,\"lakecolor\":\"white\"},\"title\":{\"x\":0.05},\"mapbox\":{\"style\":\"light\"}}},\"title\":{\"text\":\"Receiver Operating Characteristic\"},\"xaxis\":{\"title\":{\"text\":\"False Positive Rate\"}},\"yaxis\":{\"title\":{\"text\":\"True Positive Rate\"}}},                        {\"responsive\": true}                    ).then(function(){\n",
       "                            \n",
       "var gd = document.getElementById('6812ca9f-7ec9-4116-807d-476c0949e4b3');\n",
       "var x = new MutationObserver(function (mutations, observer) {{\n",
       "        var display = window.getComputedStyle(gd).display;\n",
       "        if (!display || display === 'none') {{\n",
       "            console.log([gd, 'removed!']);\n",
       "            Plotly.purge(gd);\n",
       "            observer.disconnect();\n",
       "        }}\n",
       "}});\n",
       "\n",
       "// Listen for the removal of the full notebook cells\n",
       "var notebookContainer = gd.closest('#notebook-container');\n",
       "if (notebookContainer) {{\n",
       "    x.observe(notebookContainer, {childList: true});\n",
       "}}\n",
       "\n",
       "// Listen for the clearing of the current output cell\n",
       "var outputEl = gd.closest('.output');\n",
       "if (outputEl) {{\n",
       "    x.observe(outputEl, {childList: true});\n",
       "}}\n",
       "\n",
       "                        })                };                });            </script>        </div>"
      ]
     },
     "metadata": {},
     "output_type": "display_data"
    },
    {
     "name": "stdout",
     "output_type": "stream",
     "text": [
      "Classification Report:\n",
      "                          precision    recall  f1-score   support\n",
      "\n",
      "coruja-buraqueira_images       0.25      0.25      0.25        24\n",
      "      gaviao-real_images       0.20      0.17      0.18        24\n",
      "           urutau_images       0.25      0.29      0.27        24\n",
      "\n",
      "                accuracy                           0.24        72\n",
      "               macro avg       0.23      0.24      0.23        72\n",
      "            weighted avg       0.23      0.24      0.23        72\n",
      "\n"
     ]
    }
   ],
   "source": [
    "import numpy as np\n",
    "from scipy.special import softmax\n",
    "from sklearn.preprocessing import OneHotEncoder\n",
    "\n",
    "# Convert logits to probabilities\n",
    "\n",
    "# Get true labels and predicted labels for the validation set\n",
    "true_labels = validation_generator.classes\n",
    "predictions = model.predict(validation_generator)\n",
    "#predictions = softmax(predictions, axis=1)\n",
    "\n",
    "# Assuming true_labels is a 1D array with class indices\n",
    "encoder = OneHotEncoder(sparse_output=False)\n",
    "true_labels_one_hot = encoder.fit_transform(true_labels.reshape(-1, 1))\n",
    "\n",
    "predicted_labels = np.argmax(predictions, axis=1)\n",
    "\n",
    "from sklearn.metrics import confusion_matrix, classification_report, roc_auc_score, roc_curve, auc\n",
    "import matplotlib.pyplot as plt\n",
    "import plotly.graph_objects as go\n",
    "import plotly.figure_factory as ff\n",
    "import seaborn as sns\n",
    "\n",
    "# Confusion matrix\n",
    "conf_matrix = confusion_matrix(true_labels, predicted_labels)\n",
    "\n",
    "# Classification report\n",
    "class_report = classification_report(true_labels, predicted_labels, target_names=validation_generator.class_indices.keys())\n",
    "\n",
    "# AUC/ROC\n",
    "roc_auc = roc_auc_score(true_labels_one_hot, predictions, multi_class='ovr')\n",
    "fpr = {}\n",
    "tpr = {}\n",
    "roc_auc_dict = {}\n",
    "for i, label in enumerate(validation_generator.class_indices.keys()):\n",
    "    fpr[label], tpr[label], _ = roc_curve(true_labels, predictions[:, i], pos_label=i)\n",
    "    roc_auc_dict[label] = auc(fpr[label], tpr[label])\n",
    "\n",
    "z = conf_matrix\n",
    "x = list(validation_generator.class_indices.keys())\n",
    "y = list(validation_generator.class_indices.keys())\n",
    "\n",
    "fig = ff.create_annotated_heatmap(z, x=x, y=y, colorscale='Viridis')\n",
    "fig.update_layout(title_text='Confusion Matrix', xaxis=dict(title='Predicted'), yaxis=dict(title='True'))\n",
    "fig.show()\n",
    "\n",
    "\n",
    "fig = go.Figure()\n",
    "\n",
    "for label in validation_generator.class_indices.keys():\n",
    "    fig.add_trace(go.Scatter(x=fpr[label], y=tpr[label], mode='lines', name=f'ROC curve of class {label} (area = {roc_auc_dict[label]:.2f})'))\n",
    "\n",
    "fig.add_trace(go.Scatter(x=[0, 1], y=[0, 1], mode='lines', line=dict(dash='dash'), name='Random'))\n",
    "fig.update_layout(title='Receiver Operating Characteristic', xaxis=dict(title='False Positive Rate'), yaxis=dict(title='True Positive Rate'))\n",
    "fig.show()\n",
    "\n",
    "print(\"Classification Report:\")\n",
    "print(class_report)\n",
    "\n"
   ]
  },
  {
   "cell_type": "markdown",
   "id": "4b32c00d",
   "metadata": {},
   "source": [
    "# Texting model"
   ]
  },
  {
   "cell_type": "code",
   "execution_count": null,
   "id": "7158f128",
   "metadata": {},
   "outputs": [],
   "source": [
    "from tensorflow.keras.models import load_model\n",
    "from tensorflow.keras.preprocessing.image import load_img, img_to_array\n",
    "import numpy as np\n",
    "\n",
    "# Load the trained model\n",
    "model = load_model('bird_species_classifier.h5')\n",
    "\n",
    "# Function to preprocess the image\n",
    "def preprocess_image(image_path, target_size=(128, 128)):\n",
    "    img = load_img(image_path, target_size=target_size)\n",
    "    img = img_to_array(img)\n",
    "    img = np.expand_dims(img, axis=0)\n",
    "    img /= 255.0  # Normalize the image to [0, 1] range\n",
    "    return img\n",
    "\n",
    "# Path to the image you want to classify\n",
    "image_path = 'images_folders/acrobata_images/image_id_825150.jpg'\n",
    "# Preprocess the image\n",
    "img = preprocess_image(image_path)\n",
    "\n",
    "# Make predictions\n",
    "predictions = model.predict(img)\n",
    "predicted_class = np.argmax(predictions, axis=1)\n",
    "\n",
    "# Display the prediction\n",
    "print(f\"Predicted Bird Species: {predicted_class[0]}\")  # Adjust based on your label mapping\n"
   ]
  },
  {
   "cell_type": "code",
   "execution_count": null,
   "id": "50e3af42",
   "metadata": {},
   "outputs": [],
   "source": [
    "def get_n_identificados(num_pages=10):\n",
    "    \n",
    "\n",
    "    headers = {\n",
    "        'Accept': 'application/json, text/javascript, */*; q=0.01',\n",
    "        'Accept-Language': 'en-US,en;q=0.7',\n",
    "        'Connection': 'keep-alive',\n",
    "        'Referer': 'https://www.wikiaves.com.br/midias.php?t=i',\n",
    "        'Sec-Fetch-Dest': 'empty',\n",
    "        'Sec-Fetch-Mode': 'cors',\n",
    "        'Sec-Fetch-Site': 'same-origin',\n",
    "        'Sec-GPC': '1',\n",
    "        'User-Agent': 'Mozilla/5.0 (Windows NT 10.0; Win64; x64) AppleWebKit/537.36 (KHTML, like Gecko) Chrome/127.0.0.0 Safari/537.36',\n",
    "        'X-Requested-With': 'XMLHttpRequest',\n",
    "        'sec-ch-ua': '\"Not)A;Brand\";v=\"99\", \"Brave\";v=\"127\", \"Chromium\";v=\"127\"',\n",
    "        'sec-ch-ua-mobile': '?0',\n",
    "        'sec-ch-ua-platform': '\"Windows\"',\n",
    "    }\n",
    "\n",
    "    params = [\n",
    "        ('t', 'i'),\n",
    "        ('o', 'dp'),\n",
    "        ('desc', '1'),\n",
    "        ('o', 'dp'),\n",
    "        ('p', '2'),\n",
    "    ]\n",
    "\n",
    "    response = requests.get('https://www.wikiaves.com.br/getRegistrosJSON.php', params=params, headers=headers)"
   ]
  },
  {
   "cell_type": "code",
   "execution_count": null,
   "id": "f9725aed",
   "metadata": {},
   "outputs": [],
   "source": [
    "\n",
    "# Check if the request was successful (status code 200)\n",
    "if response.status_code == 200:\n",
    "    # Open a file in binary write mode to save the image\n",
    "    with open(\"downloaded_image.jpg\", \"wb\") as file:\n",
    "        # Write the content of the response to the file in chunks\n",
    "        for chunk in response.iter_content(1024):\n",
    "            file.write(chunk)\n",
    "    print(\"Image successfully downloaded!\")\n",
    "else:\n",
    "    print(\"Failed to download image. Status code:\", response.status_code)"
   ]
  }
 ],
 "metadata": {
  "kernelspec": {
   "display_name": "Python 3 (ipykernel)",
   "language": "python",
   "name": "python3"
  },
  "language_info": {
   "codemirror_mode": {
    "name": "ipython",
    "version": 3
   },
   "file_extension": ".py",
   "mimetype": "text/x-python",
   "name": "python",
   "nbconvert_exporter": "python",
   "pygments_lexer": "ipython3",
   "version": "3.11.5"
  }
 },
 "nbformat": 4,
 "nbformat_minor": 5
}
